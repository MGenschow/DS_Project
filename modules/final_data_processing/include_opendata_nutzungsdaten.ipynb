{
 "cells": [
  {
   "cell_type": "code",
   "execution_count": 12,
   "metadata": {},
   "outputs": [],
   "source": [
    "import pickle\n",
    "import geopandas as gpd\n",
    "import numpy as np\n",
    "import pandas as pd\n",
    "from shapely.geometry import box\n",
    "from glob import glob\n",
    "import rasterio\n",
    "from rasterio import features\n",
    "import matplotlib.pyplot as plt"
   ]
  },
  {
   "cell_type": "code",
   "execution_count": 2,
   "metadata": {},
   "outputs": [],
   "source": [
    "# %%\n",
    "# Load config file and get orthophoto data path\n",
    "import yaml\n",
    "config_path = '/home/tu/tu_tu/tu_zxmav84/DS_Project/modules/config.yml'\n",
    "with open(config_path, 'r') as f:\n",
    "    config = yaml.load(f, Loader=yaml.FullLoader)\n",
    "orthophoto_dir = config['data']['orthophotos']\n",
    "predictions_dir = config['data']['segmentation_output']\n",
    "nutzungsdaten_dir = config['data']['nutzungsdaten']"
   ]
  },
  {
   "cell_type": "markdown",
   "metadata": {},
   "source": [
    "### Read in one tile for which the data will be subsetted\n"
   ]
  },
  {
   "cell_type": "code",
   "execution_count": 3,
   "metadata": {},
   "outputs": [
    {
     "data": {
      "text/plain": [
       "'/pfs/work7/workspace/scratch/tu_zxmav84-ds_project/data/orthophotos/patched/32674_5328_patch_2_0.tif'"
      ]
     },
     "execution_count": 3,
     "metadata": {},
     "output_type": "execute_result"
    }
   ],
   "source": [
    "all_tiles = glob(orthophoto_dir + \"/patched/*.tif\")\n",
    "all_tiles[0]"
   ]
  },
  {
   "cell_type": "code",
   "execution_count": 4,
   "metadata": {},
   "outputs": [],
   "source": [
    "tile = rasterio.open(all_tiles[44])\n",
    "bbox = box(*tile.bounds)\n",
    "bbox = gpd.GeoDataFrame(geometry = [bbox])\n",
    "bbox.crs = 'EPSG:25832'\n",
    "bbox.geometry = bbox.geometry.to_crs('EPSG:4326')\n",
    "bbox = box(*bbox.iloc[0,0].bounds)"
   ]
  },
  {
   "cell_type": "markdown",
   "metadata": {},
   "source": [
    "### Read in Nutzungsdaten\n"
   ]
  },
  {
   "cell_type": "code",
   "execution_count": 35,
   "metadata": {},
   "outputs": [
    {
     "data": {
      "text/html": [
       "<div>\n",
       "<style scoped>\n",
       "    .dataframe tbody tr th:only-of-type {\n",
       "        vertical-align: middle;\n",
       "    }\n",
       "\n",
       "    .dataframe tbody tr th {\n",
       "        vertical-align: top;\n",
       "    }\n",
       "\n",
       "    .dataframe thead th {\n",
       "        text-align: right;\n",
       "    }\n",
       "</style>\n",
       "<table border=\"1\" class=\"dataframe\">\n",
       "  <thead>\n",
       "    <tr style=\"text-align: right;\">\n",
       "      <th></th>\n",
       "      <th>geometry</th>\n",
       "      <th>geometry_4326</th>\n",
       "      <th>Label</th>\n",
       "    </tr>\n",
       "  </thead>\n",
       "  <tbody>\n",
       "    <tr>\n",
       "      <th>0</th>\n",
       "      <td>POLYGON ((675289.030 5352160.250, 675306.050 5...</td>\n",
       "      <td>POLYGON ((11.36360 48.29834, 11.36383 48.29849...</td>\n",
       "      <td>7.0</td>\n",
       "    </tr>\n",
       "    <tr>\n",
       "      <th>1</th>\n",
       "      <td>POLYGON ((678592.260 5341953.850, 678592.840 5...</td>\n",
       "      <td>POLYGON ((11.40379 48.20567, 11.40380 48.20575...</td>\n",
       "      <td>7.0</td>\n",
       "    </tr>\n",
       "    <tr>\n",
       "      <th>2</th>\n",
       "      <td>POLYGON ((679450.050 5349369.390, 679460.430 5...</td>\n",
       "      <td>POLYGON ((11.41847 48.27209, 11.41861 48.27215...</td>\n",
       "      <td>7.0</td>\n",
       "    </tr>\n",
       "    <tr>\n",
       "      <th>3</th>\n",
       "      <td>POLYGON ((675456.570 5351616.690, 675466.700 5...</td>\n",
       "      <td>POLYGON ((11.36563 48.29341, 11.36577 48.29346...</td>\n",
       "      <td>7.0</td>\n",
       "    </tr>\n",
       "    <tr>\n",
       "      <th>4</th>\n",
       "      <td>POLYGON ((676799.680 5349991.690, 676806.320 5...</td>\n",
       "      <td>POLYGON ((11.38304 48.27842, 11.38313 48.27848...</td>\n",
       "      <td>7.0</td>\n",
       "    </tr>\n",
       "    <tr>\n",
       "      <th>...</th>\n",
       "      <td>...</td>\n",
       "      <td>...</td>\n",
       "      <td>...</td>\n",
       "    </tr>\n",
       "    <tr>\n",
       "      <th>53712</th>\n",
       "      <td>POLYGON ((675611.550 5336236.410, 675671.510 5...</td>\n",
       "      <td>POLYGON ((11.36134 48.15511, 11.36215 48.15511...</td>\n",
       "      <td>6.0</td>\n",
       "    </tr>\n",
       "    <tr>\n",
       "      <th>53713</th>\n",
       "      <td>POLYGON ((673369.390 5341389.670, 673371.360 5...</td>\n",
       "      <td>POLYGON ((11.33332 48.20205, 11.33335 48.20205...</td>\n",
       "      <td>6.0</td>\n",
       "    </tr>\n",
       "    <tr>\n",
       "      <th>53714</th>\n",
       "      <td>POLYGON ((673448.900 5341487.760, 673451.260 5...</td>\n",
       "      <td>POLYGON ((11.33443 48.20291, 11.33446 48.20293...</td>\n",
       "      <td>6.0</td>\n",
       "    </tr>\n",
       "    <tr>\n",
       "      <th>53715</th>\n",
       "      <td>POLYGON ((676924.470 5333347.000, 676926.930 5...</td>\n",
       "      <td>POLYGON ((11.37778 48.12877, 11.37781 48.12877...</td>\n",
       "      <td>6.0</td>\n",
       "    </tr>\n",
       "    <tr>\n",
       "      <th>53716</th>\n",
       "      <td>POLYGON ((675973.310 5334894.230, 675978.410 5...</td>\n",
       "      <td>POLYGON ((11.36565 48.14294, 11.36572 48.14294...</td>\n",
       "      <td>6.0</td>\n",
       "    </tr>\n",
       "  </tbody>\n",
       "</table>\n",
       "<p>53717 rows × 3 columns</p>\n",
       "</div>"
      ],
      "text/plain": [
       "                                                geometry  \\\n",
       "0      POLYGON ((675289.030 5352160.250, 675306.050 5...   \n",
       "1      POLYGON ((678592.260 5341953.850, 678592.840 5...   \n",
       "2      POLYGON ((679450.050 5349369.390, 679460.430 5...   \n",
       "3      POLYGON ((675456.570 5351616.690, 675466.700 5...   \n",
       "4      POLYGON ((676799.680 5349991.690, 676806.320 5...   \n",
       "...                                                  ...   \n",
       "53712  POLYGON ((675611.550 5336236.410, 675671.510 5...   \n",
       "53713  POLYGON ((673369.390 5341389.670, 673371.360 5...   \n",
       "53714  POLYGON ((673448.900 5341487.760, 673451.260 5...   \n",
       "53715  POLYGON ((676924.470 5333347.000, 676926.930 5...   \n",
       "53716  POLYGON ((675973.310 5334894.230, 675978.410 5...   \n",
       "\n",
       "                                           geometry_4326  Label  \n",
       "0      POLYGON ((11.36360 48.29834, 11.36383 48.29849...    7.0  \n",
       "1      POLYGON ((11.40379 48.20567, 11.40380 48.20575...    7.0  \n",
       "2      POLYGON ((11.41847 48.27209, 11.41861 48.27215...    7.0  \n",
       "3      POLYGON ((11.36563 48.29341, 11.36577 48.29346...    7.0  \n",
       "4      POLYGON ((11.38304 48.27842, 11.38313 48.27848...    7.0  \n",
       "...                                                  ...    ...  \n",
       "53712  POLYGON ((11.36134 48.15511, 11.36215 48.15511...    6.0  \n",
       "53713  POLYGON ((11.33332 48.20205, 11.33335 48.20205...    6.0  \n",
       "53714  POLYGON ((11.33443 48.20291, 11.33446 48.20293...    6.0  \n",
       "53715  POLYGON ((11.37778 48.12877, 11.37781 48.12877...    6.0  \n",
       "53716  POLYGON ((11.36565 48.14294, 11.36572 48.14294...    6.0  \n",
       "\n",
       "[53717 rows x 3 columns]"
      ]
     },
     "execution_count": 35,
     "metadata": {},
     "output_type": "execute_result"
    }
   ],
   "source": [
    "df = pickle.load(open(nutzungsdaten_dir + 'nutzungsdaten_relevant.pkl', 'rb'))\n",
    "df"
   ]
  },
  {
   "cell_type": "markdown",
   "metadata": {},
   "source": [
    "### Test cropping to bounding box"
   ]
  },
  {
   "cell_type": "code",
   "execution_count": 6,
   "metadata": {},
   "outputs": [],
   "source": [
    "#bbox = box(*[11.591520,48.158729,11.596327,48.162107])"
   ]
  },
  {
   "cell_type": "code",
   "execution_count": 7,
   "metadata": {},
   "outputs": [
    {
     "name": "stderr",
     "output_type": "stream",
     "text": [
      "/pfs/work7/workspace/scratch/tu_zxmav84-ds_project/conda/envs/DS_Project/lib/python3.10/site-packages/geopandas/geodataframe.py:1538: SettingWithCopyWarning: \n",
      "A value is trying to be set on a copy of a slice from a DataFrame.\n",
      "Try using .loc[row_indexer,col_indexer] = value instead\n",
      "\n",
      "See the caveats in the documentation: https://pandas.pydata.org/pandas-docs/stable/user_guide/indexing.html#returning-a-view-versus-a-copy\n",
      "  super().__setitem__(key, value)\n"
     ]
    }
   ],
   "source": [
    "# Subset to all polygons that intersect boudning box\n",
    "subset_df = df[df.geometry_4326.intersects(bbox)]\n",
    "# Clip the polygons to the bounding box extent\n",
    "subset_df['geometry_4326'] = subset_df.geometry_4326.intersection(bbox)\n",
    "\n",
    "# Subset to water \n",
    "subset_df = subset_df[subset_df.Label == 'Wasser']\n",
    "subset_df['Label_Num'] = 4"
   ]
  },
  {
   "cell_type": "code",
   "execution_count": 36,
   "metadata": {},
   "outputs": [
    {
     "data": {
      "text/plain": [
       "<folium.features.GeoJson at 0x147bf29979d0>"
      ]
     },
     "execution_count": 36,
     "metadata": {},
     "output_type": "execute_result"
    }
   ],
   "source": [
    "import folium\n",
    "m = folium.Map(location = [bbox.centroid.y, bbox.centroid.x], zoom_start = 16)\n",
    "folium.GeoJson(bbox).add_to(m)\n",
    "folium.GeoJson(subset_df.geometry_4326).add_to(m)\n",
    "#m"
   ]
  },
  {
   "cell_type": "markdown",
   "metadata": {},
   "source": [
    "### Rasterize polygons"
   ]
  },
  {
   "cell_type": "code",
   "execution_count": 44,
   "metadata": {},
   "outputs": [],
   "source": [
    "orig_tif_path = all_tiles[44]\n",
    "\n",
    "# Read in original tif\n",
    "orig = rasterio.open(orig_tif_path)\n",
    "orig_profile = orig.profile\n",
    "orig_bounds = orig.bounds\n",
    "\n",
    "\n",
    "# Calculate spatial extend of original tif\n",
    "bounds_width = orig_bounds.right - orig_bounds.left\n",
    "bounds_height =  orig_bounds.bottom - orig_bounds.top\n",
    "\n",
    "# Calculate new resolution to correct transform affine in profile of new tif\n",
    "new_width = 512\n",
    "new_height = 512\n",
    "\n",
    "scale_x = bounds_width / new_width\n",
    "scale_y = bounds_height / new_height\n",
    "\n",
    "\n",
    "# Update the affine transformation parameters, keep b, c, d and f of original transform, replace a nd e with new resolution\n",
    "new_transform = rasterio.Affine(scale_x, orig.transform.b, orig.transform.c,\n",
    "                        orig.transform.d, scale_y, orig.transform.f)\n",
    "\n",
    "# Create a new array with the desired size (512, 512) and populate it with the values from the original array\n",
    "# Write the new array to a GeoTIFF file using the geotag data and the new Transform object\n",
    "new_profile = orig.profile\n",
    "new_profile.update(transform=new_transform, width=new_width, height=new_height, count = 1)\n",
    "\n",
    "# Subset nutzungsdaten df to relevant polygons and crop them to extend of the original tif\n",
    "bbox = box(*orig.bounds)\n",
    "# Subset to all polygons that intersect boudning box\n",
    "subset_df = df[df.geometry.intersects(bbox)].copy()\n",
    "# Clip the polygons to the bounding box extent\n",
    "subset_df['geometry'] = subset_df.geometry.intersection(bbox)\n",
    "\n",
    "\n",
    "with rasterio.open('test.tif', 'w+', **new_profile) as out:\n",
    "    out_arr = out.read(1)\n",
    "\n",
    "    # this is where we create a generator of geom, value pairs to use in rasterizing\n",
    "    shapes = ((geom,value) for geom, value in zip(subset_df.geometry, subset_df.Label))\n",
    "\n",
    "    burned = features.rasterize(shapes=shapes, fill=0, out=out_arr, transform=out.transform)\n",
    "    out.write_band(1, burned)"
   ]
  },
  {
   "cell_type": "code",
   "execution_count": 45,
   "metadata": {},
   "outputs": [
    {
     "data": {
      "text/plain": [
       "<matplotlib.image.AxesImage at 0x147b454ad8d0>"
      ]
     },
     "execution_count": 45,
     "metadata": {},
     "output_type": "execute_result"
    },
    {
     "data": {
      "image/png": "[encoded data removed]",
      "text/plain": [
       "<Figure size 640x480 with 1 Axes>"
      ]
     },
     "metadata": {},
     "output_type": "display_data"
    }
   ],
   "source": [
    "out = rasterio.open('test.tif')\n",
    "from torchvision.transforms import ToPILImage\n",
    "mask = out.read(1)\n",
    "plt.imshow(mask, cmap = 'gray')"
   ]
  },
  {
   "cell_type": "code",
   "execution_count": 47,
   "metadata": {},
   "outputs": [
    {
     "data": {
      "text/plain": [
       "(512, 512)"
      ]
     },
     "execution_count": 47,
     "metadata": {},
     "output_type": "execute_result"
    }
   ],
   "source": [
    "mask.shape"
   ]
  }
 ],
 "metadata": {
  "interpreter": {
   "hash": "31e0d8b7548c35cddbff061e0be1eda61b251161626f7fdb4db5aea046cf03e4"
  },
  "kernelspec": {
   "display_name": "Python 3.10.11 ('DS_Project')",
   "language": "python",
   "name": "python3"
  },
  "language_info": {
   "codemirror_mode": {
    "name": "ipython",
    "version": 3
   },
   "file_extension": ".py",
   "mimetype": "text/x-python",
   "name": "python",
   "nbconvert_exporter": "python",
   "pygments_lexer": "ipython3",
   "version": "3.10.11"
  },
  "orig_nbformat": 4
 },
 "nbformat": 4,
 "nbformat_minor": 2
}
