{
 "cells": [
  {
   "cell_type": "code",
   "execution_count": 1,
   "metadata": {},
   "outputs": [],
   "source": [
    "import pandas as pd\n",
    "import geopy\n"
   ]
  },
  {
   "cell_type": "code",
   "execution_count": 2,
   "metadata": {},
   "outputs": [],
   "source": [
    "with open('../assets/final_250_e.pkl', 'rb') as f:\n",
    "    gdf = pd.read_pickle(f)"
   ]
  },
  {
   "cell_type": "code",
   "execution_count": 3,
   "metadata": {},
   "outputs": [],
   "source": [
    "df = pd.read_csv('../assets/adressen_aktuell.txt', sep=',')\n",
    "# %% Concat STRANAM and HSZ and store it is a list\n",
    "df['Adress'] = df['STRANAM'] + ' ' + df['HSZ'] + ', München'\n",
    "\n",
    "# Store the Adress column in a list\n",
    "adressList = df['Adress'].tolist()"
   ]
  },
  {
   "cell_type": "code",
   "execution_count": 17,
   "metadata": {},
   "outputs": [
    {
     "ename": "AttributeError",
     "evalue": "'str' object has no attribute 'contains'",
     "output_type": "error",
     "traceback": [
      "\u001b[0;31m---------------------------------------------------------------------------\u001b[0m",
      "\u001b[0;31mAttributeError\u001b[0m                            Traceback (most recent call last)",
      "Cell \u001b[0;32mIn[17], line 1\u001b[0m\n\u001b[0;32m----> 1\u001b[0m [adress \u001b[39mfor\u001b[39;49;00m adress \u001b[39min\u001b[39;49;00m adressList][\u001b[39m0\u001b[39;49m]\u001b[39m.\u001b[39;49mcontains(\u001b[39m'\u001b[39m\u001b[39mMar\u001b[39m\u001b[39m'\u001b[39m)\n",
      "\u001b[0;31mAttributeError\u001b[0m: 'str' object has no attribute 'contains'"
     ]
    }
   ],
   "source": [
    "[adress for adress in adressList][0].contains('Mar')"
   ]
  },
  {
   "cell_type": "code",
   "execution_count": null,
   "metadata": {},
   "outputs": [],
   "source": []
  },
  {
   "cell_type": "code",
   "execution_count": 6,
   "metadata": {},
   "outputs": [
    {
     "ename": "TypeError",
     "evalue": "argument of type 'float' is not iterable",
     "output_type": "error",
     "traceback": [
      "\u001b[0;31m---------------------------------------------------------------------------\u001b[0m",
      "\u001b[0;31mTypeError\u001b[0m                                 Traceback (most recent call last)",
      "Cell \u001b[0;32mIn[6], line 2\u001b[0m\n\u001b[1;32m      1\u001b[0m search_value \u001b[39m=\u001b[39m \u001b[39m'\u001b[39m\u001b[39mMarie\u001b[39m\u001b[39m'\u001b[39m\n\u001b[0;32m----> 2\u001b[0m filtered_adressList \u001b[39m=\u001b[39m [adress \u001b[39mfor\u001b[39;00m adress \u001b[39min\u001b[39;00m adressList \u001b[39mif\u001b[39;00m search_value \u001b[39min\u001b[39;00m adress]\n",
      "Cell \u001b[0;32mIn[6], line 2\u001b[0m, in \u001b[0;36m<listcomp>\u001b[0;34m(.0)\u001b[0m\n\u001b[1;32m      1\u001b[0m search_value \u001b[39m=\u001b[39m \u001b[39m'\u001b[39m\u001b[39mMarie\u001b[39m\u001b[39m'\u001b[39m\n\u001b[0;32m----> 2\u001b[0m filtered_adressList \u001b[39m=\u001b[39m [adress \u001b[39mfor\u001b[39;00m adress \u001b[39min\u001b[39;00m adressList \u001b[39mif\u001b[39;00m search_value \u001b[39min\u001b[39;49;00m adress]\n",
      "\u001b[0;31mTypeError\u001b[0m: argument of type 'float' is not iterable"
     ]
    }
   ],
   "source": [
    "search_value = 'Marie'\n",
    "filtered_adressList = [adress for adress in adressList if search_value in adress]"
   ]
  },
  {
   "cell_type": "code",
   "execution_count": null,
   "metadata": {},
   "outputs": [],
   "source": [
    "adress = adressList[0]"
   ]
  },
  {
   "cell_type": "code",
   "execution_count": null,
   "metadata": {},
   "outputs": [],
   "source": [
    "locator = geopy.geocoders.Nominatim(user_agent='myGeocoder')\n",
    "location = locator.geocode(adress)\n"
   ]
  },
  {
   "cell_type": "code",
   "execution_count": null,
   "metadata": {},
   "outputs": [],
   "source": [
    "from shapely.geometry import Point\n",
    "point = Point(*[location.longitude, location.latitude])\n",
    "point.wkt"
   ]
  },
  {
   "cell_type": "code",
   "execution_count": null,
   "metadata": {},
   "outputs": [],
   "source": [
    "adressList"
   ]
  },
  {
   "cell_type": "code",
   "execution_count": null,
   "metadata": {},
   "outputs": [],
   "source": [
    "gdf[gdf.geometry.intersects(point)].id.item()"
   ]
  },
  {
   "cell_type": "code",
   "execution_count": null,
   "metadata": {},
   "outputs": [],
   "source": []
  }
 ],
 "metadata": {
  "kernelspec": {
   "display_name": "image_self_learn",
   "language": "python",
   "name": "python3"
  },
  "language_info": {
   "codemirror_mode": {
    "name": "ipython",
    "version": 3
   },
   "file_extension": ".py",
   "mimetype": "text/x-python",
   "name": "python",
   "nbconvert_exporter": "python",
   "pygments_lexer": "ipython3",
   "version": "3.10.1"
  },
  "orig_nbformat": 4
 },
 "nbformat": 4,
 "nbformat_minor": 2
}
