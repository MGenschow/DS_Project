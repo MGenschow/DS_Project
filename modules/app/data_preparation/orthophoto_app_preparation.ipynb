{
 "cells": [
  {
   "cell_type": "code",
   "execution_count": 1,
   "metadata": {},
   "outputs": [],
   "source": [
    "import pandas as pd \n",
    "import geopandas as gpd \n",
    "import numpy as np \n",
    "import pickle\n",
    "import rasterio\n",
    "from rasterio.merge import merge\n",
    "from rasterio.plot import show\n",
    "from rasterio.mask import mask\n",
    "import folium\n",
    "from shapely.geometry import box, Polygon\n",
    "import rioxarray\n",
    "from torchvision.transforms import ToPILImage\n",
    "import os\n",
    "from tqdm import tqdm"
   ]
  },
  {
   "cell_type": "code",
   "execution_count": 2,
   "metadata": {},
   "outputs": [],
   "source": [
    "import yaml\n",
    "config_path = '/home/tu/tu_tu/tu_zxmav84/DS_Project/modules/config.yml'\n",
    "with open(config_path, 'r') as f:\n",
    "    config = yaml.load(f, Loader=yaml.FullLoader)\n",
    "orthophoto_dir = config['data']['orthophotos']\n",
    "grid_dir = config['data']['data'] + '/uhi_model/'"
   ]
  },
  {
   "cell_type": "markdown",
   "metadata": {},
   "source": [
    "#### Read in Grid File"
   ]
  },
  {
   "cell_type": "code",
   "execution_count": 3,
   "metadata": {},
   "outputs": [
    {
     "data": {
      "text/html": [
       "<div>\n",
       "<style scoped>\n",
       "    .dataframe tbody tr th:only-of-type {\n",
       "        vertical-align: middle;\n",
       "    }\n",
       "\n",
       "    .dataframe tbody tr th {\n",
       "        vertical-align: top;\n",
       "    }\n",
       "\n",
       "    .dataframe thead th {\n",
       "        text-align: right;\n",
       "    }\n",
       "</style>\n",
       "<table border=\"1\" class=\"dataframe\">\n",
       "  <thead>\n",
       "    <tr style=\"text-align: right;\">\n",
       "      <th></th>\n",
       "      <th>geometry</th>\n",
       "      <th>id</th>\n",
       "    </tr>\n",
       "  </thead>\n",
       "  <tbody>\n",
       "    <tr>\n",
       "      <th>0</th>\n",
       "      <td>POLYGON ((11.40587 48.04366, 11.40587 48.04591...</td>\n",
       "      <td>1000001</td>\n",
       "    </tr>\n",
       "    <tr>\n",
       "      <th>1</th>\n",
       "      <td>POLYGON ((11.40587 48.04815, 11.40923 48.04815...</td>\n",
       "      <td>1000002</td>\n",
       "    </tr>\n",
       "  </tbody>\n",
       "</table>\n",
       "</div>"
      ],
      "text/plain": [
       "                                            geometry       id\n",
       "0  POLYGON ((11.40587 48.04366, 11.40587 48.04591...  1000001\n",
       "1  POLYGON ((11.40587 48.04815, 11.40923 48.04815...  1000002"
      ]
     },
     "execution_count": 3,
     "metadata": {},
     "output_type": "execute_result"
    }
   ],
   "source": [
    "with open(grid_dir + 'final_250_e.pkl', 'rb') as f:\n",
    "    grid = pickle.load(f)\n",
    "grid = grid[['geometry', 'id']]\n",
    "grid.head(2)"
   ]
  },
  {
   "cell_type": "markdown",
   "metadata": {},
   "source": [
    "#### Read in Orthophoto Index"
   ]
  },
  {
   "cell_type": "code",
   "execution_count": 4,
   "metadata": {},
   "outputs": [],
   "source": [
    "with open(orthophoto_dir + '/metalink_files/complete_index.pkl', 'rb') as f:\n",
    "    ortho_index = pickle.load(f)\n",
    "ortho_index = gpd.GeoDataFrame(ortho_index)\n",
    "ortho_index.set_geometry('polygon_4326', inplace=True)"
   ]
  },
  {
   "cell_type": "markdown",
   "metadata": {},
   "source": [
    "#### Identify Relevant tiles"
   ]
  },
  {
   "cell_type": "code",
   "execution_count": 5,
   "metadata": {},
   "outputs": [],
   "source": [
    "def get_relevant_tiles(bbox):\n",
    "    return list(ortho_index[ortho_index.polygon_4326.intersects(bbox)].tile_name)"
   ]
  },
  {
   "cell_type": "code",
   "execution_count": 6,
   "metadata": {},
   "outputs": [
    {
     "data": {
      "text/plain": [
       "1    56.238274\n",
       "2    36.280488\n",
       "4     4.291745\n",
       "3     3.189493\n",
       "Name: len, dtype: float64"
      ]
     },
     "execution_count": 6,
     "metadata": {},
     "output_type": "execute_result"
    }
   ],
   "source": [
    "grid['relevant_tiles'] = grid.geometry.map(get_relevant_tiles)\n",
    "grid['len'] = grid.relevant_tiles.map(len)\n",
    "grid.len.value_counts(normalize = True)*100"
   ]
  },
  {
   "cell_type": "markdown",
   "metadata": {},
   "source": [
    "#### Merging, Cropping, Resizing and Saving"
   ]
  },
  {
   "cell_type": "code",
   "execution_count": 7,
   "metadata": {},
   "outputs": [],
   "source": [
    "def crop_grid_photo(row):\n",
    "    # Read in all relevant tiles\n",
    "    tiles = [rasterio.open(orthophoto_dir + '/raw_tiles/' + row.relevant_tiles[i]) for i in range(row.len)]\n",
    "    # Merge tiles\n",
    "    arr, out_trans = merge(tiles)\n",
    "\n",
    "    # Metadata from first file\n",
    "    out_meta = tiles[0].meta.copy()\n",
    "\n",
    "    # Update the metadata\n",
    "    out_meta.update({\n",
    "        \"driver\": \"GTiff\",\n",
    "        \"height\": arr.shape[1],\n",
    "        \"width\": arr.shape[2],\n",
    "        \"transform\": out_trans,\n",
    "        # You may also need to update the \"count\" if merging layers with different number of bands\n",
    "        \"count\": arr.shape[0]\n",
    "    })\n",
    "\n",
    "    # Write the merged array to the new raster file\n",
    "    with rasterio.open('test.tif', 'w', **out_meta) as dest:\n",
    "        dest.write(arr)\n",
    "\n",
    "    # Reproject to EPSG:4326\n",
    "\n",
    "    # Read in again, reproject and save again\n",
    "    dst = rioxarray.open_rasterio('test.tif')\n",
    "    dst = dst.rio.reproject('EPSG:4326')\n",
    "    dst.rio.to_raster('test.tif')\n",
    "\n",
    "    # Crop image\n",
    "    grid_geom = row.geometry\n",
    "    with rasterio.open('test.tif') as src: # replace with your path\n",
    "                out_image, out_transform = mask(src, [grid_geom], crop=True)\n",
    "                out_meta = src.meta.copy()\n",
    "\n",
    "    # Resize and convert to PIL\n",
    "    img = ToPILImage()(out_image.transpose(1,2,0)).resize((200,200))\n",
    "    img.save(f\"{orthophoto_dir}/jpeg_test/{row.id}.jpg\")\n",
    "\n",
    "    # Remove tif\n",
    "    os.remove('test.tif')"
   ]
  },
  {
   "cell_type": "code",
   "execution_count": 8,
   "metadata": {},
   "outputs": [],
   "source": [
    "#crop_grid_photo(grid.iloc[40,:])"
   ]
  },
  {
   "cell_type": "code",
   "execution_count": 9,
   "metadata": {},
   "outputs": [
    {
     "name": "stderr",
     "output_type": "stream",
     "text": [
      "  1%|▏         | 57/4338 [01:12<1:30:30,  1.27s/it]\n"
     ]
    },
    {
     "ename": "KeyboardInterrupt",
     "evalue": "",
     "output_type": "error",
     "traceback": [
      "\u001b[0;31m---------------------------------------------------------------------------\u001b[0m",
      "\u001b[0;31mKeyboardInterrupt\u001b[0m                         Traceback (most recent call last)",
      "Cell \u001b[0;32mIn[9], line 3\u001b[0m\n\u001b[1;32m      1\u001b[0m \u001b[38;5;28;01mfor\u001b[39;00m i \u001b[38;5;129;01min\u001b[39;00m tqdm(\u001b[38;5;28mrange\u001b[39m(\u001b[38;5;241m4190\u001b[39m,\u001b[38;5;28mlen\u001b[39m(grid))):\n\u001b[1;32m      2\u001b[0m     row \u001b[38;5;241m=\u001b[39m grid\u001b[38;5;241m.\u001b[39miloc[i,:]\n\u001b[0;32m----> 3\u001b[0m     \u001b[43mcrop_grid_photo\u001b[49m\u001b[43m(\u001b[49m\u001b[43mrow\u001b[49m\u001b[43m)\u001b[49m\n",
      "Cell \u001b[0;32mIn[7], line 29\u001b[0m, in \u001b[0;36mcrop_grid_photo\u001b[0;34m(row)\u001b[0m\n\u001b[1;32m     27\u001b[0m dst \u001b[38;5;241m=\u001b[39m rioxarray\u001b[38;5;241m.\u001b[39mopen_rasterio(\u001b[38;5;124m'\u001b[39m\u001b[38;5;124mtest.tif\u001b[39m\u001b[38;5;124m'\u001b[39m)\n\u001b[1;32m     28\u001b[0m dst \u001b[38;5;241m=\u001b[39m dst\u001b[38;5;241m.\u001b[39mrio\u001b[38;5;241m.\u001b[39mreproject(\u001b[38;5;124m'\u001b[39m\u001b[38;5;124mEPSG:4326\u001b[39m\u001b[38;5;124m'\u001b[39m)\n\u001b[0;32m---> 29\u001b[0m \u001b[43mdst\u001b[49m\u001b[38;5;241;43m.\u001b[39;49m\u001b[43mrio\u001b[49m\u001b[38;5;241;43m.\u001b[39;49m\u001b[43mto_raster\u001b[49m\u001b[43m(\u001b[49m\u001b[38;5;124;43m'\u001b[39;49m\u001b[38;5;124;43mtest.tif\u001b[39;49m\u001b[38;5;124;43m'\u001b[39;49m\u001b[43m)\u001b[49m\n\u001b[1;32m     31\u001b[0m \u001b[38;5;66;03m# Crop image\u001b[39;00m\n\u001b[1;32m     32\u001b[0m grid_geom \u001b[38;5;241m=\u001b[39m row\u001b[38;5;241m.\u001b[39mgeometry\n",
      "File \u001b[0;32m/pfs/work7/workspace/scratch/tu_zxmav84-ds_project/conda/envs/DS_Project/lib/python3.10/site-packages/rioxarray/raster_array.py:1119\u001b[0m, in \u001b[0;36mRasterArray.to_raster\u001b[0;34m(self, raster_path, driver, dtype, tags, windowed, recalc_transform, lock, compute, **profile_kwargs)\u001b[0m\n\u001b[1;32m   <a href='file:///pfs/work7/workspace/scratch/tu_zxmav84-ds_project/conda/envs/DS_Project/lib/python3.10/site-packages/rioxarray/raster_array.py?line=1099'>1100</a>\u001b[0m out_profile \u001b[39m=\u001b[39m {\n\u001b[1;32m   <a href='file:///pfs/work7/workspace/scratch/tu_zxmav84-ds_project/conda/envs/DS_Project/lib/python3.10/site-packages/rioxarray/raster_array.py?line=1100'>1101</a>\u001b[0m     key: value\n\u001b[1;32m   <a href='file:///pfs/work7/workspace/scratch/tu_zxmav84-ds_project/conda/envs/DS_Project/lib/python3.10/site-packages/rioxarray/raster_array.py?line=1101'>1102</a>\u001b[0m     \u001b[39mfor\u001b[39;00m key, value \u001b[39min\u001b[39;00m out_profile\u001b[39m.\u001b[39mitems()\n\u001b[0;32m   (...)\u001b[0m\n\u001b[1;32m   <a href='file:///pfs/work7/workspace/scratch/tu_zxmav84-ds_project/conda/envs/DS_Project/lib/python3.10/site-packages/rioxarray/raster_array.py?line=1112'>1113</a>\u001b[0m     )\n\u001b[1;32m   <a href='file:///pfs/work7/workspace/scratch/tu_zxmav84-ds_project/conda/envs/DS_Project/lib/python3.10/site-packages/rioxarray/raster_array.py?line=1113'>1114</a>\u001b[0m }\n\u001b[1;32m   <a href='file:///pfs/work7/workspace/scratch/tu_zxmav84-ds_project/conda/envs/DS_Project/lib/python3.10/site-packages/rioxarray/raster_array.py?line=1114'>1115</a>\u001b[0m rio_nodata \u001b[39m=\u001b[39m (\n\u001b[1;32m   <a href='file:///pfs/work7/workspace/scratch/tu_zxmav84-ds_project/conda/envs/DS_Project/lib/python3.10/site-packages/rioxarray/raster_array.py?line=1115'>1116</a>\u001b[0m     \u001b[39mself\u001b[39m\u001b[39m.\u001b[39mencoded_nodata \u001b[39mif\u001b[39;00m \u001b[39mself\u001b[39m\u001b[39m.\u001b[39mencoded_nodata \u001b[39mis\u001b[39;00m \u001b[39mnot\u001b[39;00m \u001b[39mNone\u001b[39;00m \u001b[39melse\u001b[39;00m \u001b[39mself\u001b[39m\u001b[39m.\u001b[39mnodata\n\u001b[1;32m   <a href='file:///pfs/work7/workspace/scratch/tu_zxmav84-ds_project/conda/envs/DS_Project/lib/python3.10/site-packages/rioxarray/raster_array.py?line=1116'>1117</a>\u001b[0m )\n\u001b[0;32m-> <a href='file:///pfs/work7/workspace/scratch/tu_zxmav84-ds_project/conda/envs/DS_Project/lib/python3.10/site-packages/rioxarray/raster_array.py?line=1118'>1119</a>\u001b[0m \u001b[39mreturn\u001b[39;00m RasterioWriter(raster_path\u001b[39m=\u001b[39;49mraster_path)\u001b[39m.\u001b[39;49mto_raster(\n\u001b[1;32m   <a href='file:///pfs/work7/workspace/scratch/tu_zxmav84-ds_project/conda/envs/DS_Project/lib/python3.10/site-packages/rioxarray/raster_array.py?line=1119'>1120</a>\u001b[0m     xarray_dataarray\u001b[39m=\u001b[39;49m\u001b[39mself\u001b[39;49m\u001b[39m.\u001b[39;49m_obj,\n\u001b[1;32m   <a href='file:///pfs/work7/workspace/scratch/tu_zxmav84-ds_project/conda/envs/DS_Project/lib/python3.10/site-packages/rioxarray/raster_array.py?line=1120'>1121</a>\u001b[0m     tags\u001b[39m=\u001b[39;49mtags,\n\u001b[1;32m   <a href='file:///pfs/work7/workspace/scratch/tu_zxmav84-ds_project/conda/envs/DS_Project/lib/python3.10/site-packages/rioxarray/raster_array.py?line=1121'>1122</a>\u001b[0m     driver\u001b[39m=\u001b[39;49mdriver,\n\u001b[1;32m   <a href='file:///pfs/work7/workspace/scratch/tu_zxmav84-ds_project/conda/envs/DS_Project/lib/python3.10/site-packages/rioxarray/raster_array.py?line=1122'>1123</a>\u001b[0m     height\u001b[39m=\u001b[39;49m\u001b[39mint\u001b[39;49m(\u001b[39mself\u001b[39;49m\u001b[39m.\u001b[39;49mheight),\n\u001b[1;32m   <a href='file:///pfs/work7/workspace/scratch/tu_zxmav84-ds_project/conda/envs/DS_Project/lib/python3.10/site-packages/rioxarray/raster_array.py?line=1123'>1124</a>\u001b[0m     width\u001b[39m=\u001b[39;49m\u001b[39mint\u001b[39;49m(\u001b[39mself\u001b[39;49m\u001b[39m.\u001b[39;49mwidth),\n\u001b[1;32m   <a href='file:///pfs/work7/workspace/scratch/tu_zxmav84-ds_project/conda/envs/DS_Project/lib/python3.10/site-packages/rioxarray/raster_array.py?line=1124'>1125</a>\u001b[0m     count\u001b[39m=\u001b[39;49m\u001b[39mint\u001b[39;49m(\u001b[39mself\u001b[39;49m\u001b[39m.\u001b[39;49mcount),\n\u001b[1;32m   <a href='file:///pfs/work7/workspace/scratch/tu_zxmav84-ds_project/conda/envs/DS_Project/lib/python3.10/site-packages/rioxarray/raster_array.py?line=1125'>1126</a>\u001b[0m     dtype\u001b[39m=\u001b[39;49mdtype,\n\u001b[1;32m   <a href='file:///pfs/work7/workspace/scratch/tu_zxmav84-ds_project/conda/envs/DS_Project/lib/python3.10/site-packages/rioxarray/raster_array.py?line=1126'>1127</a>\u001b[0m     crs\u001b[39m=\u001b[39;49m\u001b[39mself\u001b[39;49m\u001b[39m.\u001b[39;49mcrs,\n\u001b[1;32m   <a href='file:///pfs/work7/workspace/scratch/tu_zxmav84-ds_project/conda/envs/DS_Project/lib/python3.10/site-packages/rioxarray/raster_array.py?line=1127'>1128</a>\u001b[0m     transform\u001b[39m=\u001b[39;49m\u001b[39mself\u001b[39;49m\u001b[39m.\u001b[39;49mtransform(recalc\u001b[39m=\u001b[39;49mrecalc_transform),\n\u001b[1;32m   <a href='file:///pfs/work7/workspace/scratch/tu_zxmav84-ds_project/conda/envs/DS_Project/lib/python3.10/site-packages/rioxarray/raster_array.py?line=1128'>1129</a>\u001b[0m     gcps\u001b[39m=\u001b[39;49m\u001b[39mself\u001b[39;49m\u001b[39m.\u001b[39;49mget_gcps(),\n\u001b[1;32m   <a href='file:///pfs/work7/workspace/scratch/tu_zxmav84-ds_project/conda/envs/DS_Project/lib/python3.10/site-packages/rioxarray/raster_array.py?line=1129'>1130</a>\u001b[0m     nodata\u001b[39m=\u001b[39;49mrio_nodata,\n\u001b[1;32m   <a href='file:///pfs/work7/workspace/scratch/tu_zxmav84-ds_project/conda/envs/DS_Project/lib/python3.10/site-packages/rioxarray/raster_array.py?line=1130'>1131</a>\u001b[0m     windowed\u001b[39m=\u001b[39;49mwindowed,\n\u001b[1;32m   <a href='file:///pfs/work7/workspace/scratch/tu_zxmav84-ds_project/conda/envs/DS_Project/lib/python3.10/site-packages/rioxarray/raster_array.py?line=1131'>1132</a>\u001b[0m     lock\u001b[39m=\u001b[39;49mlock,\n\u001b[1;32m   <a href='file:///pfs/work7/workspace/scratch/tu_zxmav84-ds_project/conda/envs/DS_Project/lib/python3.10/site-packages/rioxarray/raster_array.py?line=1132'>1133</a>\u001b[0m     compute\u001b[39m=\u001b[39;49mcompute,\n\u001b[1;32m   <a href='file:///pfs/work7/workspace/scratch/tu_zxmav84-ds_project/conda/envs/DS_Project/lib/python3.10/site-packages/rioxarray/raster_array.py?line=1133'>1134</a>\u001b[0m     \u001b[39m*\u001b[39;49m\u001b[39m*\u001b[39;49mout_profile,\n\u001b[1;32m   <a href='file:///pfs/work7/workspace/scratch/tu_zxmav84-ds_project/conda/envs/DS_Project/lib/python3.10/site-packages/rioxarray/raster_array.py?line=1134'>1135</a>\u001b[0m )\n",
      "File \u001b[0;32m/pfs/work7/workspace/scratch/tu_zxmav84-ds_project/conda/envs/DS_Project/lib/python3.10/site-packages/rioxarray/raster_writer.py:273\u001b[0m, in \u001b[0;36mRasterioWriter.to_raster\u001b[0;34m(self, xarray_dataarray, tags, windowed, lock, compute, **kwargs)\u001b[0m\n\u001b[1;32m    <a href='file:///pfs/work7/workspace/scratch/tu_zxmav84-ds_project/conda/envs/DS_Project/lib/python3.10/site-packages/rioxarray/raster_writer.py?line=266'>267</a>\u001b[0m \u001b[39mif\u001b[39;00m kwargs[\u001b[39m\"\u001b[39m\u001b[39mnodata\u001b[39m\u001b[39m\"\u001b[39m] \u001b[39mis\u001b[39;00m \u001b[39mnot\u001b[39;00m \u001b[39mNone\u001b[39;00m:\n\u001b[1;32m    <a href='file:///pfs/work7/workspace/scratch/tu_zxmav84-ds_project/conda/envs/DS_Project/lib/python3.10/site-packages/rioxarray/raster_writer.py?line=267'>268</a>\u001b[0m     \u001b[39m# Ensure dtype of output data matches the expected dtype.\u001b[39;00m\n\u001b[1;32m    <a href='file:///pfs/work7/workspace/scratch/tu_zxmav84-ds_project/conda/envs/DS_Project/lib/python3.10/site-packages/rioxarray/raster_writer.py?line=268'>269</a>\u001b[0m     \u001b[39m# This check is added here as the dtype of the data is\u001b[39;00m\n\u001b[1;32m    <a href='file:///pfs/work7/workspace/scratch/tu_zxmav84-ds_project/conda/envs/DS_Project/lib/python3.10/site-packages/rioxarray/raster_writer.py?line=269'>270</a>\u001b[0m     \u001b[39m# converted right before writing.\u001b[39;00m\n\u001b[1;32m    <a href='file:///pfs/work7/workspace/scratch/tu_zxmav84-ds_project/conda/envs/DS_Project/lib/python3.10/site-packages/rioxarray/raster_writer.py?line=270'>271</a>\u001b[0m     kwargs[\u001b[39m\"\u001b[39m\u001b[39mnodata\u001b[39m\u001b[39m\"\u001b[39m] \u001b[39m=\u001b[39m _ensure_nodata_dtype(kwargs[\u001b[39m\"\u001b[39m\u001b[39mnodata\u001b[39m\u001b[39m\"\u001b[39m], numpy_dtype)\n\u001b[0;32m--> <a href='file:///pfs/work7/workspace/scratch/tu_zxmav84-ds_project/conda/envs/DS_Project/lib/python3.10/site-packages/rioxarray/raster_writer.py?line=272'>273</a>\u001b[0m \u001b[39mwith\u001b[39;00m rasterio\u001b[39m.\u001b[39mopen(\u001b[39mself\u001b[39m\u001b[39m.\u001b[39mraster_path, \u001b[39m\"\u001b[39m\u001b[39mw\u001b[39m\u001b[39m\"\u001b[39m, \u001b[39m*\u001b[39m\u001b[39m*\u001b[39mkwargs) \u001b[39mas\u001b[39;00m rds:\n\u001b[1;32m    <a href='file:///pfs/work7/workspace/scratch/tu_zxmav84-ds_project/conda/envs/DS_Project/lib/python3.10/site-packages/rioxarray/raster_writer.py?line=273'>274</a>\u001b[0m     _write_metatata_to_raster(rds, xarray_dataarray, tags)\n\u001b[1;32m    <a href='file:///pfs/work7/workspace/scratch/tu_zxmav84-ds_project/conda/envs/DS_Project/lib/python3.10/site-packages/rioxarray/raster_writer.py?line=274'>275</a>\u001b[0m     \u001b[39mif\u001b[39;00m \u001b[39mnot\u001b[39;00m (lock \u001b[39mand\u001b[39;00m is_dask_collection(xarray_dataarray\u001b[39m.\u001b[39mdata)):\n\u001b[1;32m    <a href='file:///pfs/work7/workspace/scratch/tu_zxmav84-ds_project/conda/envs/DS_Project/lib/python3.10/site-packages/rioxarray/raster_writer.py?line=275'>276</a>\u001b[0m         \u001b[39m# write data to raster immmediately if not dask array\u001b[39;00m\n",
      "File \u001b[0;32mrasterio/_base.pyx:448\u001b[0m, in \u001b[0;36mrasterio._base.DatasetBase.__exit__\u001b[0;34m()\u001b[0m\n",
      "File \u001b[0;32mrasterio/_base.pyx:439\u001b[0m, in \u001b[0;36mrasterio._base.DatasetBase.close\u001b[0;34m()\u001b[0m\n",
      "File \u001b[0;32m/pfs/work7/workspace/scratch/tu_zxmav84-ds_project/conda/envs/DS_Project/lib/python3.10/contextlib.py:582\u001b[0m, in \u001b[0;36mExitStack.close\u001b[0;34m(self)\u001b[0m\n\u001b[1;32m    <a href='file:///pfs/work7/workspace/scratch/tu_zxmav84-ds_project/conda/envs/DS_Project/lib/python3.10/contextlib.py?line=578'>579</a>\u001b[0m             \u001b[39mraise\u001b[39;00m\n\u001b[1;32m    <a href='file:///pfs/work7/workspace/scratch/tu_zxmav84-ds_project/conda/envs/DS_Project/lib/python3.10/contextlib.py?line=579'>580</a>\u001b[0m     \u001b[39mreturn\u001b[39;00m received_exc \u001b[39mand\u001b[39;00m suppressed_exc\n\u001b[0;32m--> <a href='file:///pfs/work7/workspace/scratch/tu_zxmav84-ds_project/conda/envs/DS_Project/lib/python3.10/contextlib.py?line=581'>582</a>\u001b[0m \u001b[39mdef\u001b[39;00m \u001b[39mclose\u001b[39m(\u001b[39mself\u001b[39m):\n\u001b[1;32m    <a href='file:///pfs/work7/workspace/scratch/tu_zxmav84-ds_project/conda/envs/DS_Project/lib/python3.10/contextlib.py?line=582'>583</a>\u001b[0m \u001b[39m    \u001b[39m\u001b[39m\"\"\"Immediately unwind the context stack.\"\"\"\u001b[39;00m\n\u001b[1;32m    <a href='file:///pfs/work7/workspace/scratch/tu_zxmav84-ds_project/conda/envs/DS_Project/lib/python3.10/contextlib.py?line=583'>584</a>\u001b[0m     \u001b[39mself\u001b[39m\u001b[39m.\u001b[39m\u001b[39m__exit__\u001b[39m(\u001b[39mNone\u001b[39;00m, \u001b[39mNone\u001b[39;00m, \u001b[39mNone\u001b[39;00m)\n",
      "\u001b[0;31mKeyboardInterrupt\u001b[0m: "
     ]
    }
   ],
   "source": [
    "for i in tqdm(range(4190,len(grid))):\n",
    "    row = grid.iloc[i,:]\n",
    "    crop_grid_photo(row)"
   ]
  }
 ],
 "metadata": {
  "interpreter": {
   "hash": "31e0d8b7548c35cddbff061e0be1eda61b251161626f7fdb4db5aea046cf03e4"
  },
  "kernelspec": {
   "display_name": "Python 3.10.11 ('DS_Project': conda)",
   "language": "python",
   "name": "python3"
  },
  "language_info": {
   "codemirror_mode": {
    "name": "ipython",
    "version": 3
   },
   "file_extension": ".py",
   "mimetype": "text/x-python",
   "name": "python",
   "nbconvert_exporter": "python",
   "pygments_lexer": "ipython3",
   "version": "3.10.11"
  },
  "orig_nbformat": 4
 },
 "nbformat": 4,
 "nbformat_minor": 2
}
