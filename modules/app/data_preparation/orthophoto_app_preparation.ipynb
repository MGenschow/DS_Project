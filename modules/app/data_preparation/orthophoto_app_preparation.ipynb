{
 "cells": [
  {
   "cell_type": "code",
   "execution_count": 10,
   "metadata": {},
   "outputs": [],
   "source": [
    "import pandas as pd \n",
    "import geopandas as gpd \n",
    "import numpy as np \n",
    "import pickle\n",
    "import rasterio\n",
    "from rasterio.merge import merge\n",
    "from rasterio.plot import show\n",
    "from rasterio.mask import mask\n",
    "import folium\n",
    "from shapely.geometry import box, Polygon\n",
    "import rioxarray\n",
    "from torchvision.transforms import ToPILImage\n",
    "import os\n",
    "from tqdm import tqdm"
   ]
  },
  {
   "cell_type": "code",
   "execution_count": 2,
   "metadata": {},
   "outputs": [],
   "source": [
    "import yaml\n",
    "config_path = '/home/tu/tu_tu/tu_zxmav84/DS_Project/modules/config.yml'\n",
    "with open(config_path, 'r') as f:\n",
    "    config = yaml.load(f, Loader=yaml.FullLoader)\n",
    "orthophoto_dir = config['data']['orthophotos']\n",
    "grid_dir = config['data']['data'] + '/uhi_model/'"
   ]
  },
  {
   "cell_type": "markdown",
   "metadata": {},
   "source": [
    "#### Read in Grid File"
   ]
  },
  {
   "cell_type": "code",
   "execution_count": 3,
   "metadata": {},
   "outputs": [
    {
     "data": {
      "text/html": [
       "<div>\n",
       "<style scoped>\n",
       "    .dataframe tbody tr th:only-of-type {\n",
       "        vertical-align: middle;\n",
       "    }\n",
       "\n",
       "    .dataframe tbody tr th {\n",
       "        vertical-align: top;\n",
       "    }\n",
       "\n",
       "    .dataframe thead th {\n",
       "        text-align: right;\n",
       "    }\n",
       "</style>\n",
       "<table border=\"1\" class=\"dataframe\">\n",
       "  <thead>\n",
       "    <tr style=\"text-align: right;\">\n",
       "      <th></th>\n",
       "      <th>geometry</th>\n",
       "      <th>id</th>\n",
       "    </tr>\n",
       "  </thead>\n",
       "  <tbody>\n",
       "    <tr>\n",
       "      <th>0</th>\n",
       "      <td>POLYGON ((11.54758 48.11423, 11.54758 48.11602...</td>\n",
       "      <td>1000001</td>\n",
       "    </tr>\n",
       "    <tr>\n",
       "      <th>1</th>\n",
       "      <td>POLYGON ((11.54758 48.11782, 11.55027 48.11782...</td>\n",
       "      <td>1000002</td>\n",
       "    </tr>\n",
       "  </tbody>\n",
       "</table>\n",
       "</div>"
      ],
      "text/plain": [
       "                                            geometry       id\n",
       "0  POLYGON ((11.54758 48.11423, 11.54758 48.11602...  1000001\n",
       "1  POLYGON ((11.54758 48.11782, 11.55027 48.11782...  1000002"
      ]
     },
     "execution_count": 3,
     "metadata": {},
     "output_type": "execute_result"
    }
   ],
   "source": [
    "with open(grid_dir + 'final_200_a.pkl', 'rb') as f:\n",
    "    grid = pickle.load(f)\n",
    "grid = grid[['geometry', 'id']]\n",
    "grid.head(2)"
   ]
  },
  {
   "cell_type": "markdown",
   "metadata": {},
   "source": [
    "#### Read in Orthophoto Index"
   ]
  },
  {
   "cell_type": "code",
   "execution_count": 4,
   "metadata": {},
   "outputs": [],
   "source": [
    "with open(orthophoto_dir + '/metalink_files/complete_index.pkl', 'rb') as f:\n",
    "    ortho_index = pickle.load(f)\n",
    "ortho_index = gpd.GeoDataFrame(ortho_index)\n",
    "ortho_index.set_geometry('polygon_4326', inplace=True)"
   ]
  },
  {
   "cell_type": "markdown",
   "metadata": {},
   "source": [
    "#### Identify Relevant tiles"
   ]
  },
  {
   "cell_type": "code",
   "execution_count": 5,
   "metadata": {},
   "outputs": [],
   "source": [
    "def get_relevant_tiles(bbox):\n",
    "    return list(ortho_index[ortho_index.polygon_4326.intersects(bbox)].tile_name)"
   ]
  },
  {
   "cell_type": "code",
   "execution_count": 6,
   "metadata": {},
   "outputs": [
    {
     "data": {
      "text/plain": [
       "1    64.767616\n",
       "2    31.034483\n",
       "4     2.398801\n",
       "3     1.799100\n",
       "Name: len, dtype: float64"
      ]
     },
     "execution_count": 6,
     "metadata": {},
     "output_type": "execute_result"
    }
   ],
   "source": [
    "grid['relevant_tiles'] = grid.geometry.map(get_relevant_tiles)\n",
    "grid['len'] = grid.relevant_tiles.map(len)\n",
    "grid.len.value_counts(normalize = True)*100"
   ]
  },
  {
   "cell_type": "markdown",
   "metadata": {},
   "source": [
    "#### Merging, Cropping, Resizing and Saving"
   ]
  },
  {
   "cell_type": "code",
   "execution_count": 7,
   "metadata": {},
   "outputs": [],
   "source": [
    "def crop_grid_photo(row):\n",
    "    # Read in all relevant tiles\n",
    "    tiles = [rasterio.open(orthophoto_dir + '/raw_tiles/' + row.relevant_tiles[i]) for i in range(row.len)]\n",
    "    # Merge tiles\n",
    "    arr, out_trans = merge(tiles)\n",
    "\n",
    "    # Metadata from first file\n",
    "    out_meta = tiles[0].meta.copy()\n",
    "\n",
    "    # Update the metadata\n",
    "    out_meta.update({\n",
    "        \"driver\": \"GTiff\",\n",
    "        \"height\": arr.shape[1],\n",
    "        \"width\": arr.shape[2],\n",
    "        \"transform\": out_trans,\n",
    "        # You may also need to update the \"count\" if merging layers with different number of bands\n",
    "        \"count\": arr.shape[0]\n",
    "    })\n",
    "\n",
    "    # Write the merged array to the new raster file\n",
    "    with rasterio.open('test.tif', 'w', **out_meta) as dest:\n",
    "        dest.write(arr)\n",
    "\n",
    "    # Reproject to EPSG:4326\n",
    "\n",
    "    # Read in again, reproject and save again\n",
    "    dst = rioxarray.open_rasterio('test.tif')\n",
    "    dst = dst.rio.reproject('EPSG:4326')\n",
    "    dst.rio.to_raster('test.tif')\n",
    "\n",
    "    # Crop image\n",
    "    grid_geom = row.geometry\n",
    "    with rasterio.open('test.tif') as src: # replace with your path\n",
    "                out_image, out_transform = mask(src, [grid_geom], crop=True)\n",
    "                out_meta = src.meta.copy()\n",
    "\n",
    "    # Resize and convert to PIL\n",
    "    img = ToPILImage()(out_image.transpose(1,2,0)).resize((200,200))\n",
    "    img.save(f\"{orthophoto_dir}/grids/{row.id}.png\")\n",
    "\n",
    "    # Remove tif\n",
    "    os.remove('test.tif')"
   ]
  },
  {
   "cell_type": "code",
   "execution_count": 8,
   "metadata": {},
   "outputs": [],
   "source": [
    "#crop_grid_photo(grid.iloc[40,:])"
   ]
  },
  {
   "cell_type": "code",
   "execution_count": 11,
   "metadata": {},
   "outputs": [
    {
     "name": "stderr",
     "output_type": "stream",
     "text": [
      "100%|██████████| 667/667 [07:56<00:00,  1.40it/s]\n"
     ]
    }
   ],
   "source": [
    "for i in tqdm(range(len(grid))):\n",
    "    row = grid.iloc[i,:]\n",
    "    crop_grid_photo(row)"
   ]
  }
 ],
 "metadata": {
  "interpreter": {
   "hash": "31e0d8b7548c35cddbff061e0be1eda61b251161626f7fdb4db5aea046cf03e4"
  },
  "kernelspec": {
   "display_name": "Python 3.10.11 ('DS_Project': conda)",
   "language": "python",
   "name": "python3"
  },
  "language_info": {
   "codemirror_mode": {
    "name": "ipython",
    "version": 3
   },
   "file_extension": ".py",
   "mimetype": "text/x-python",
   "name": "python",
   "nbconvert_exporter": "python",
   "pygments_lexer": "ipython3",
   "version": "3.10.11"
  },
  "orig_nbformat": 4
 },
 "nbformat": 4,
 "nbformat_minor": 2
}
