{
 "cells": [
  {
   "cell_type": "code",
   "execution_count": 8,
   "metadata": {},
   "outputs": [],
   "source": [
    "import pandas as pd \n",
    "import numpy as np\n",
    "import rasterio\n",
    "from rasterio.plot import show\n",
    "import rioxarray\n",
    "import pickle\n",
    "import geopandas as gpd \n",
    "import folium\n",
    "import matplotlib.pyplot as plt \n",
    "from tqdm import tqdm\n",
    "from PIL import Image\n"
   ]
  },
  {
   "cell_type": "code",
   "execution_count": 2,
   "metadata": {},
   "outputs": [],
   "source": [
    "import yaml\n",
    "config_path = '/home/tu/tu_tu/tu_zxmav84/DS_Project/modules/config.yml'\n",
    "with open(config_path, 'r') as f:\n",
    "    config = yaml.load(f, Loader=yaml.FullLoader)\n",
    "orthophoto_dir = config['data']['orthophotos']\n",
    "grid_dir = config['data']['data'] + '/uhi_model/'"
   ]
  },
  {
   "cell_type": "markdown",
   "metadata": {},
   "source": [
    "#### Read in Grid File"
   ]
  },
  {
   "cell_type": "code",
   "execution_count": 3,
   "metadata": {},
   "outputs": [
    {
     "data": {
      "text/html": [
       "<div>\n",
       "<style scoped>\n",
       "    .dataframe tbody tr th:only-of-type {\n",
       "        vertical-align: middle;\n",
       "    }\n",
       "\n",
       "    .dataframe tbody tr th {\n",
       "        vertical-align: top;\n",
       "    }\n",
       "\n",
       "    .dataframe thead th {\n",
       "        text-align: right;\n",
       "    }\n",
       "</style>\n",
       "<table border=\"1\" class=\"dataframe\">\n",
       "  <thead>\n",
       "    <tr style=\"text-align: right;\">\n",
       "      <th></th>\n",
       "      <th>geometry</th>\n",
       "      <th>id</th>\n",
       "    </tr>\n",
       "  </thead>\n",
       "  <tbody>\n",
       "    <tr>\n",
       "      <th>0</th>\n",
       "      <td>POLYGON ((11.40587 48.04366, 11.40587 48.04591...</td>\n",
       "      <td>1000001</td>\n",
       "    </tr>\n",
       "    <tr>\n",
       "      <th>1</th>\n",
       "      <td>POLYGON ((11.40587 48.04815, 11.40923 48.04815...</td>\n",
       "      <td>1000002</td>\n",
       "    </tr>\n",
       "  </tbody>\n",
       "</table>\n",
       "</div>"
      ],
      "text/plain": [
       "                                            geometry       id\n",
       "0  POLYGON ((11.40587 48.04366, 11.40587 48.04591...  1000001\n",
       "1  POLYGON ((11.40587 48.04815, 11.40923 48.04815...  1000002"
      ]
     },
     "execution_count": 3,
     "metadata": {},
     "output_type": "execute_result"
    }
   ],
   "source": [
    "with open(grid_dir + 'final_250_e.pkl', 'rb') as f:\n",
    "    grid = pickle.load(f)\n",
    "grid = grid[['geometry', 'id']]\n",
    "grid.head(2)"
   ]
  },
  {
   "cell_type": "markdown",
   "metadata": {},
   "source": [
    "### Read in Predictions"
   ]
  },
  {
   "cell_type": "code",
   "execution_count": 4,
   "metadata": {},
   "outputs": [
    {
     "data": {
      "text/html": [
       "<div>\n",
       "<style scoped>\n",
       "    .dataframe tbody tr th:only-of-type {\n",
       "        vertical-align: middle;\n",
       "    }\n",
       "\n",
       "    .dataframe tbody tr th {\n",
       "        vertical-align: top;\n",
       "    }\n",
       "\n",
       "    .dataframe thead th {\n",
       "        text-align: right;\n",
       "    }\n",
       "</style>\n",
       "<table border=\"1\" class=\"dataframe\">\n",
       "  <thead>\n",
       "    <tr style=\"text-align: right;\">\n",
       "      <th></th>\n",
       "      <th>label</th>\n",
       "      <th>geometry</th>\n",
       "    </tr>\n",
       "  </thead>\n",
       "  <tbody>\n",
       "    <tr>\n",
       "      <th>0</th>\n",
       "      <td>low vegetation</td>\n",
       "      <td>MULTIPOLYGON (((696500.000 5346500.000, 696500...</td>\n",
       "    </tr>\n",
       "    <tr>\n",
       "      <th>0</th>\n",
       "      <td>road</td>\n",
       "      <td>MULTIPOLYGON (((696661.621 5346500.000, 696661...</td>\n",
       "    </tr>\n",
       "    <tr>\n",
       "      <th>0</th>\n",
       "      <td>impervious</td>\n",
       "      <td>MULTIPOLYGON (((688320.312 5317462.402, 688320...</td>\n",
       "    </tr>\n",
       "  </tbody>\n",
       "</table>\n",
       "</div>"
      ],
      "text/plain": [
       "            label                                           geometry\n",
       "0  low vegetation  MULTIPOLYGON (((696500.000 5346500.000, 696500...\n",
       "0            road  MULTIPOLYGON (((696661.621 5346500.000, 696661...\n",
       "0      impervious  MULTIPOLYGON (((688320.312 5317462.402, 688320..."
      ]
     },
     "execution_count": 4,
     "metadata": {},
     "output_type": "execute_result"
    }
   ],
   "source": [
    "pred = pickle.load(open(grid_dir + '/raw/input.pkl', 'rb'))\n",
    "\n",
    "pred = pred.set_crs('EPSG:25832')\n",
    "pred.geometry = pred['geometry']\n",
    "pred.head(3)"
   ]
  },
  {
   "cell_type": "code",
   "execution_count": 5,
   "metadata": {},
   "outputs": [],
   "source": [
    "# Reproject to EPSG:4326\n",
    "gdf = pred.to_crs('EPSG:4326')\n",
    "\n",
    "# Assign color coding to labels\n",
    "cmap = {'impervious': \"#cccccc\", 'building': '#ff00ff',\n",
    "        'low vegetation':\"#00ff00\", 'water':'#0000ff', 'trees':\"#008200\", 'road':\"#ff0000\"}\n",
    "\n",
    "# Create a new column for color\n",
    "gdf['color'] = gdf['label'].map(cmap)"
   ]
  },
  {
   "cell_type": "markdown",
   "metadata": {},
   "source": [
    "### Function to create .JPEG file from grid elements"
   ]
  },
  {
   "cell_type": "code",
   "execution_count": 12,
   "metadata": {},
   "outputs": [],
   "source": [
    "def create_mask_png(grid_elem):\n",
    "    grid_geom = grid_elem.geometry\n",
    "\n",
    "    # Subset and crop\n",
    "    subset = gdf[gdf.geometry.intersects(grid_geom)].copy()\n",
    "    subset['geometry'] = subset.geometry.intersection(grid_geom)\n",
    "\n",
    "    # Create a new figure and axes with specific size (300x300 pixels)\n",
    "    fig, ax = plt.subplots(1, 1, figsize=(4, 4), dpi=75)\n",
    "\n",
    "    # Plot the geometries with color based on label\n",
    "    for color, data in subset.groupby('color'):\n",
    "        data.plot(color=color, ax=ax)\n",
    "\n",
    "    # axes off\n",
    "    ax.set_xticks([])\n",
    "    ax.set_yticks([])\n",
    "    ax.axis('off')  # Turn off the axis completely\n",
    "\n",
    "    # Show the figure\n",
    "    #plt.show()\n",
    "\n",
    "    # Remove padding and margin before saving the figure\n",
    "    plt.subplots_adjust(top=1, bottom=0, right=1, left=0, hspace=0, wspace=0)\n",
    "    plt.margins(0,0)\n",
    "\n",
    "    # Save the figure\n",
    "    plt.savefig(f\"{config['data']['segmentation_output']}/grids/{grid_elem.id}.jpg\", pad_inches = 0)\n",
    "\n",
    "    plt.close()\n",
    "\n",
    "    # image = Image.open(f\"{config['data']['segmentation_output']}/grids/{grid_elem.id}.jpg\")\n",
    "    # image.save(f\"{config['data']['segmentation_output']}/grids/{grid_elem.id}.jpg\", \n",
    "    #             \"JPEG\", optimize = True, quality = 70)"
   ]
  },
  {
   "cell_type": "code",
   "execution_count": 13,
   "metadata": {},
   "outputs": [
    {
     "name": "stderr",
     "output_type": "stream",
     "text": [
      "100%|██████████| 8528/8528 [29:06<00:00,  4.88it/s]  \n"
     ]
    }
   ],
   "source": [
    "for i in tqdm(range(len(grid))):\n",
    "    create_mask_png(grid.iloc[i,:])"
   ]
  },
  {
   "cell_type": "code",
   "execution_count": null,
   "metadata": {},
   "outputs": [],
   "source": []
  },
  {
   "cell_type": "code",
   "execution_count": null,
   "metadata": {},
   "outputs": [],
   "source": []
  }
 ],
 "metadata": {
  "interpreter": {
   "hash": "31e0d8b7548c35cddbff061e0be1eda61b251161626f7fdb4db5aea046cf03e4"
  },
  "kernelspec": {
   "display_name": "Python 3.10.11 ('DS_Project': conda)",
   "language": "python",
   "name": "python3"
  },
  "language_info": {
   "codemirror_mode": {
    "name": "ipython",
    "version": 3
   },
   "file_extension": ".py",
   "mimetype": "text/x-python",
   "name": "python",
   "nbconvert_exporter": "python",
   "pygments_lexer": "ipython3",
   "version": "3.10.11"
  },
  "orig_nbformat": 4
 },
 "nbformat": 4,
 "nbformat_minor": 2
}
