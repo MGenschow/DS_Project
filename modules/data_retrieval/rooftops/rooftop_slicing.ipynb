{
 "cells": [
  {
   "cell_type": "code",
   "execution_count": 1,
   "metadata": {},
   "outputs": [],
   "source": [
    "# Basic Imports\n",
    "import pickle\n",
    "import os\n",
    "from glob import glob\n",
    "import matplotlib.pyplot as plt\n",
    "import numpy as np\n",
    "import folium\n",
    "from tqdm import tqdm\n",
    "\n",
    "# Geo\n",
    "from shapely.geometry import box, Polygon\n",
    "import geopandas as gpd\n",
    "\n",
    "# Rasterio\n",
    "import rasterio\n",
    "from rasterio.mask import mask\n",
    "from rasterio.merge import merge\n",
    "import rioxarray\n"
   ]
  },
  {
   "cell_type": "code",
   "execution_count": 2,
   "metadata": {},
   "outputs": [],
   "source": [
    "import yaml\n",
    "config_path = '/home/tu/tu_tu/tu_zxmav84/DS_Project/modules/config.yml'\n",
    "with open(config_path, 'r') as f:\n",
    "    config = yaml.load(f, Loader=yaml.FullLoader)\n",
    "city_3d_model_path = config['data']['city_3d_model']\n",
    "ortho_path = config['data']['orthophotos']\n",
    "rooftop_tifs_path = config['data']['rooftop_tifs']"
   ]
  },
  {
   "cell_type": "markdown",
   "metadata": {},
   "source": [
    "### Import 3D City model data"
   ]
  },
  {
   "cell_type": "code",
   "execution_count": 3,
   "metadata": {},
   "outputs": [
    {
     "data": {
      "text/html": [
       "<div>\n",
       "<style scoped>\n",
       "    .dataframe tbody tr th:only-of-type {\n",
       "        vertical-align: middle;\n",
       "    }\n",
       "\n",
       "    .dataframe tbody tr th {\n",
       "        vertical-align: top;\n",
       "    }\n",
       "\n",
       "    .dataframe thead th {\n",
       "        text-align: right;\n",
       "    }\n",
       "</style>\n",
       "<table border=\"1\" class=\"dataframe\">\n",
       "  <thead>\n",
       "    <tr style=\"text-align: right;\">\n",
       "      <th></th>\n",
       "      <th>id</th>\n",
       "      <th>geometry</th>\n",
       "      <th>area</th>\n",
       "    </tr>\n",
       "  </thead>\n",
       "  <tbody>\n",
       "    <tr>\n",
       "      <th>3070</th>\n",
       "      <td>DEBY_LOD2_4955860</td>\n",
       "      <td>MULTIPOLYGON (((692064.360 5334089.410, 692064...</td>\n",
       "      <td>12072.216919</td>\n",
       "    </tr>\n",
       "    <tr>\n",
       "      <th>3329</th>\n",
       "      <td>DEBY_LOD2_4958619</td>\n",
       "      <td>MULTIPOLYGON (((691399.952 5335853.259, 691397...</td>\n",
       "      <td>8572.973060</td>\n",
       "    </tr>\n",
       "    <tr>\n",
       "      <th>3898</th>\n",
       "      <td>DEBY_LOD2_5007168</td>\n",
       "      <td>MULTIPOLYGON (((692435.339 5335549.354, 692428...</td>\n",
       "      <td>8416.904426</td>\n",
       "    </tr>\n",
       "  </tbody>\n",
       "</table>\n",
       "</div>"
      ],
      "text/plain": [
       "                     id                                           geometry  \\\n",
       "3070  DEBY_LOD2_4955860  MULTIPOLYGON (((692064.360 5334089.410, 692064...   \n",
       "3329  DEBY_LOD2_4958619  MULTIPOLYGON (((691399.952 5335853.259, 691397...   \n",
       "3898  DEBY_LOD2_5007168  MULTIPOLYGON (((692435.339 5335549.354, 692428...   \n",
       "\n",
       "              area  \n",
       "3070  12072.216919  \n",
       "3329   8572.973060  \n",
       "3898   8416.904426  "
      ]
     },
     "execution_count": 3,
     "metadata": {},
     "output_type": "execute_result"
    }
   ],
   "source": [
    "with open(city_3d_model_path + 'processed/processed_roofs.pkl', 'rb') as f:\n",
    "    gdf = pickle.load(f)\n",
    "\n",
    "# Subset to only flat roofs\n",
    "gdf = gdf[gdf.roofType.isin([1000])]\n",
    "# Subset to only inner city\n",
    "bbox = box(*[11.557617,48.123591,11.599846,48.147649])\n",
    "gdf = gdf[gdf.geometry_4326.intersects(bbox)]\n",
    "# Use only buildings with height > 3 meter to get rid of small objects like bus stops\n",
    "#gdf = gdf[gdf.measuredHeight > 3]\n",
    "# Get rid of bridges and Überdachungen\n",
    "gdf = gdf[gdf.function.isin(['51009_1610', '53001_1800']) == False]\n",
    "\n",
    "# Susbet to relevant columns\n",
    "gdf = gdf[['id', 'geometry']]\n",
    "\n",
    "# Sort by area of roof \n",
    "gdf['area'] = gdf.geometry.area\n",
    "gdf.sort_values('area', ascending=False, inplace=True)\n",
    "\n",
    "\n",
    "gdf.head(3)"
   ]
  },
  {
   "cell_type": "markdown",
   "metadata": {},
   "source": [
    "### Import Orthophoto index\n"
   ]
  },
  {
   "cell_type": "code",
   "execution_count": 4,
   "metadata": {},
   "outputs": [],
   "source": [
    "with open(ortho_path + '/metalink_files/complete_index.pkl', 'rb') as f:\n",
    "    ortho_index = pickle.load(f)\n",
    "ortho_index = gpd.GeoDataFrame(ortho_index)\n",
    "ortho_index.set_geometry('polygon_25832', inplace=True)"
   ]
  },
  {
   "cell_type": "code",
   "execution_count": 5,
   "metadata": {},
   "outputs": [],
   "source": [
    "def get_relevant_tiles(bbox):\n",
    "    return list(ortho_index[ortho_index.polygon_25832.intersects(bbox)].tile_name)"
   ]
  },
  {
   "cell_type": "code",
   "execution_count": 6,
   "metadata": {},
   "outputs": [
    {
     "data": {
      "text/plain": [
       "1    96.709280\n",
       "2     3.243371\n",
       "4     0.023674\n",
       "3     0.023674\n",
       "Name: relevant_tiles, dtype: float64"
      ]
     },
     "execution_count": 6,
     "metadata": {},
     "output_type": "execute_result"
    }
   ],
   "source": [
    "gdf['relevant_tiles'] = gdf.geometry.map(get_relevant_tiles)\n",
    "gdf.relevant_tiles.map(len).value_counts(normalize = True)*100"
   ]
  },
  {
   "cell_type": "markdown",
   "metadata": {},
   "source": [
    "### Crop and save rooftop pictures from relevant tiles"
   ]
  },
  {
   "cell_type": "code",
   "execution_count": 15,
   "metadata": {},
   "outputs": [],
   "source": [
    "import rasterio\n",
    "from rasterio.mask import mask\n",
    "from PIL import Image\n",
    "import numpy as np\n",
    "\n",
    "def crop_and_save(row, directory):\n",
    "    tiles = row['relevant_tiles'] # retrieve list of tiles\n",
    "    rooftop_geom = row.geometry\n",
    "    # convert to GeoJSON-like dict\n",
    "    rooftop_id = row['id']\n",
    "\n",
    "    for i, tile_name in enumerate(tiles):\n",
    "        with rasterio.open(f\"{ortho_path}/raw_tiles/{tile_name}\") as src: # replace with your path\n",
    "            out_image, out_transform = mask(src, [rooftop_geom], crop=True)\n",
    "            out_meta = src.meta.copy()\n",
    "            \n",
    "            # save the resulting raster  \n",
    "            out_meta.update({\n",
    "                \"driver\": \"GTiff\",\n",
    "                \"height\": out_image.shape[1],\n",
    "                \"width\": out_image.shape[2],\n",
    "                \"transform\": out_transform\n",
    "            })\n",
    "\n",
    "            with rasterio.open(f\"{directory}/tifs/{rooftop_id}_{i}.tif\", \"w\", **out_meta) as dest:\n",
    "                dest.write(out_image)\n",
    "            \n",
    "            # also save png\n",
    "            if out_image.shape[0] == 1:\n",
    "                # Grayscale image, convert the 3D array to 2D\n",
    "                im_arr = np.squeeze(out_image)\n",
    "            else:\n",
    "                # Possibly multiband image, shift the bands axis to the last position\n",
    "                im_arr = np.moveaxis(out_image, 0, -1)\n",
    "\n",
    "            im = Image.fromarray(im_arr)\n",
    "            im.save(f\"{directory}/pngs/{rooftop_id}_{i}.png\")\n"
   ]
  },
  {
   "cell_type": "code",
   "execution_count": 16,
   "metadata": {},
   "outputs": [
    {
     "name": "stderr",
     "output_type": "stream",
     "text": [
      "4224it [00:50, 83.18it/s]\n"
     ]
    }
   ],
   "source": [
    "# Applying the function to each row of the geodataframe\n",
    "for idx, row in tqdm(gdf.iterrows()):\n",
    "    crop_and_save(row, rooftop_tifs_path)"
   ]
  },
  {
   "cell_type": "markdown",
   "metadata": {},
   "source": [
    "### Check correctness"
   ]
  },
  {
   "cell_type": "code",
   "execution_count": 9,
   "metadata": {},
   "outputs": [
    {
     "data": {
      "text/plain": [
       "4366"
      ]
     },
     "execution_count": 9,
     "metadata": {},
     "output_type": "execute_result"
    }
   ],
   "source": [
    "all_rooftops = glob(rooftop_tifs_path+'/tifs/*.tif')\n",
    "len(all_rooftops)"
   ]
  },
  {
   "cell_type": "code",
   "execution_count": 12,
   "metadata": {},
   "outputs": [
    {
     "data": {
      "text/plain": [
       "<folium.map.LayerControl at 0x14a3d5fdbb50>"
      ]
     },
     "execution_count": 12,
     "metadata": {},
     "output_type": "execute_result"
    }
   ],
   "source": [
    "def add_roof_picture(path):\n",
    "    roof_picture = rioxarray.open_rasterio(path)\n",
    "    roof_picture = roof_picture.rio.reproject('EPSG:4326')\n",
    "    img = np.dstack((roof_picture.values[0], roof_picture.values[1], roof_picture.values[2]))\n",
    "\n",
    "    image_bounds = box(*roof_picture.rio.bounds())\n",
    "    # Plot roof on the map\n",
    "    folium.GeoJson(image_bounds.__geo_interface__).add_to(m)\n",
    "    min_x, min_y, max_x, max_y = roof_picture.rio.bounds()\n",
    "\n",
    "    corner_coordinates = [[min_y, min_x], [max_y, max_x]]\n",
    "    folium.raster_layers.ImageOverlay(img, bounds=corner_coordinates,opacity=0.9).add_to(m)\n",
    "\n",
    "# Plot rooftops\n",
    "m = folium.Map(location = [48.14715022477909, 11.572241757463829], zoom_start = 15)\n",
    "tile = folium.TileLayer(\n",
    "        tiles = 'https://server.arcgisonline.com/ArcGIS/rest/services/World_Imagery/MapServer/tile/{z}/{y}/{x}',\n",
    "        attr = 'Esri', name = 'Esri Satellite', overlay = False, control = True).add_to(m)\n",
    "for file in all_rooftops[:1000]:\n",
    "    add_roof_picture(file)\n",
    "folium.LayerControl().add_to(m)\n"
   ]
  },
  {
   "cell_type": "code",
   "execution_count": null,
   "metadata": {},
   "outputs": [],
   "source": []
  },
  {
   "cell_type": "code",
   "execution_count": null,
   "metadata": {},
   "outputs": [],
   "source": []
  },
  {
   "cell_type": "code",
   "execution_count": null,
   "metadata": {},
   "outputs": [],
   "source": []
  },
  {
   "cell_type": "code",
   "execution_count": null,
   "metadata": {},
   "outputs": [],
   "source": []
  },
  {
   "cell_type": "code",
   "execution_count": null,
   "metadata": {},
   "outputs": [],
   "source": []
  }
 ],
 "metadata": {
  "interpreter": {
   "hash": "31e0d8b7548c35cddbff061e0be1eda61b251161626f7fdb4db5aea046cf03e4"
  },
  "kernelspec": {
   "display_name": "Python 3.10.11 ('DS_Project': conda)",
   "language": "python",
   "name": "python3"
  },
  "language_info": {
   "codemirror_mode": {
    "name": "ipython",
    "version": 3
   },
   "file_extension": ".py",
   "mimetype": "text/x-python",
   "name": "python",
   "nbconvert_exporter": "python",
   "pygments_lexer": "ipython3",
   "version": "3.10.11"
  },
  "orig_nbformat": 4
 },
 "nbformat": 4,
 "nbformat_minor": 2
}
