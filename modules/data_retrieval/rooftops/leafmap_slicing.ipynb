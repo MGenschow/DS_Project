{
 "cells": [
  {
   "cell_type": "code",
   "execution_count": 15,
   "metadata": {},
   "outputs": [],
   "source": [
    "import os\n",
    "import leafmap\n",
    "from samgeo import SamGeo, tms_to_geotiff, get_basemaps\n",
    "import pickle\n",
    "import geopandas as gpd\n",
    "from shapely.geometry import box"
   ]
  },
  {
   "cell_type": "code",
   "execution_count": 10,
   "metadata": {},
   "outputs": [],
   "source": [
    "import yaml\n",
    "config_path = '/home/tu/tu_tu/tu_zxmav84/DS_Project/modules/config.yml'\n",
    "with open(config_path, 'r') as f:\n",
    "    config = yaml.load(f, Loader=yaml.FullLoader)\n",
    "city_3d_model_path = config['data']['city_3d_model']\n",
    "ortho_path = config['data']['orthophotos']\n",
    "rooftop_tifs_path = config['data']['rooftop_tifs']"
   ]
  },
  {
   "cell_type": "markdown",
   "metadata": {},
   "source": [
    "### Import 3D City model data"
   ]
  },
  {
   "cell_type": "code",
   "execution_count": 16,
   "metadata": {},
   "outputs": [
    {
     "data": {
      "text/html": [
       "<div>\n",
       "<style scoped>\n",
       "    .dataframe tbody tr th:only-of-type {\n",
       "        vertical-align: middle;\n",
       "    }\n",
       "\n",
       "    .dataframe tbody tr th {\n",
       "        vertical-align: top;\n",
       "    }\n",
       "\n",
       "    .dataframe thead th {\n",
       "        text-align: right;\n",
       "    }\n",
       "</style>\n",
       "<table border=\"1\" class=\"dataframe\">\n",
       "  <thead>\n",
       "    <tr style=\"text-align: right;\">\n",
       "      <th></th>\n",
       "      <th>id</th>\n",
       "      <th>geometry</th>\n",
       "      <th>area</th>\n",
       "    </tr>\n",
       "  </thead>\n",
       "  <tbody>\n",
       "    <tr>\n",
       "      <th>3070</th>\n",
       "      <td>DEBY_LOD2_4955860</td>\n",
       "      <td>MULTIPOLYGON (((692064.360 5334089.410, 692064...</td>\n",
       "      <td>12072.216919</td>\n",
       "    </tr>\n",
       "    <tr>\n",
       "      <th>3329</th>\n",
       "      <td>DEBY_LOD2_4958619</td>\n",
       "      <td>MULTIPOLYGON (((691399.952 5335853.259, 691397...</td>\n",
       "      <td>8572.973060</td>\n",
       "    </tr>\n",
       "    <tr>\n",
       "      <th>3898</th>\n",
       "      <td>DEBY_LOD2_5007168</td>\n",
       "      <td>MULTIPOLYGON (((692435.339 5335549.354, 692428...</td>\n",
       "      <td>8416.904426</td>\n",
       "    </tr>\n",
       "  </tbody>\n",
       "</table>\n",
       "</div>"
      ],
      "text/plain": [
       "                     id                                           geometry  \\\n",
       "3070  DEBY_LOD2_4955860  MULTIPOLYGON (((692064.360 5334089.410, 692064...   \n",
       "3329  DEBY_LOD2_4958619  MULTIPOLYGON (((691399.952 5335853.259, 691397...   \n",
       "3898  DEBY_LOD2_5007168  MULTIPOLYGON (((692435.339 5335549.354, 692428...   \n",
       "\n",
       "              area  \n",
       "3070  12072.216919  \n",
       "3329   8572.973060  \n",
       "3898   8416.904426  "
      ]
     },
     "execution_count": 16,
     "metadata": {},
     "output_type": "execute_result"
    }
   ],
   "source": [
    "with open(city_3d_model_path + 'processed/processed_roofs.pkl', 'rb') as f:\n",
    "    gdf = pickle.load(f)\n",
    "\n",
    "# Subset to only flat roofs\n",
    "gdf = gdf[gdf.roofType.isin([1000])]\n",
    "# Subset to only inner city\n",
    "bbox = box(*[11.557617,48.123591,11.599846,48.147649])\n",
    "gdf = gdf[gdf.geometry_4326.intersects(bbox)]\n",
    "# Use only buildings with height > 3 meter to get rid of small objects like bus stops\n",
    "#gdf = gdf[gdf.measuredHeight > 3]\n",
    "# Get rid of bridges and Überdachungen\n",
    "gdf = gdf[gdf.function.isin(['51009_1610', '53001_1800']) == False]\n",
    "\n",
    "# Susbet to relevant columns\n",
    "gdf = gdf[['id', 'geometry']]\n",
    "\n",
    "# Sort by area of roof \n",
    "gdf['area'] = gdf.geometry.area\n",
    "gdf.sort_values('area', ascending=False, inplace=True)\n",
    "\n",
    "\n",
    "gdf.head(3)"
   ]
  },
  {
   "cell_type": "code",
   "execution_count": 31,
   "metadata": {},
   "outputs": [
    {
     "data": {
      "text/plain": [
       "[11.594285120585656,\n",
       " 48.125770574044374,\n",
       " 11.594458336977054,\n",
       " 48.125879243763386]"
      ]
     },
     "execution_count": 31,
     "metadata": {},
     "output_type": "execute_result"
    }
   ],
   "source": [
    "gdf.geometry = gdf.geometry.to_crs('EPSG:4326')\n",
    "bbox = list(gdf.iloc[2000,:].geometry.bounds)\n",
    "bbox"
   ]
  },
  {
   "cell_type": "code",
   "execution_count": 30,
   "metadata": {},
   "outputs": [],
   "source": [
    "bbox = [11.558889,48.139411,11.560644,48.141230]"
   ]
  },
  {
   "cell_type": "code",
   "execution_count": 8,
   "metadata": {},
   "outputs": [],
   "source": [
    "image = \"satellite.tif\""
   ]
  },
  {
   "cell_type": "code",
   "execution_count": 39,
   "metadata": {},
   "outputs": [
    {
     "name": "stdout",
     "output_type": "stream",
     "text": [
      "Downloaded image 1/2\n",
      "Downloaded image 2/2\n",
      "Saving GeoTIFF. Please wait...\n",
      "Image saved to satellite.tif\n"
     ]
    }
   ],
   "source": [
    "tms_to_geotiff(output=image, bbox=bbox, zoom=21, source=\"Satellite\", overwrite=True)\n"
   ]
  }
 ],
 "metadata": {
  "interpreter": {
   "hash": "31e0d8b7548c35cddbff061e0be1eda61b251161626f7fdb4db5aea046cf03e4"
  },
  "kernelspec": {
   "display_name": "Python 3.10.11 ('DS_Project': conda)",
   "language": "python",
   "name": "python3"
  },
  "language_info": {
   "codemirror_mode": {
    "name": "ipython",
    "version": 3
   },
   "file_extension": ".py",
   "mimetype": "text/x-python",
   "name": "python",
   "nbconvert_exporter": "python",
   "pygments_lexer": "ipython3",
   "version": "3.10.11"
  },
  "orig_nbformat": 4
 },
 "nbformat": 4,
 "nbformat_minor": 2
}
