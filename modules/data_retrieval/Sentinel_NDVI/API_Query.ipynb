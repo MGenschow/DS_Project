{
 "cells": [
  {
   "cell_type": "code",
   "execution_count": 1,
   "metadata": {},
   "outputs": [],
   "source": [
    "import sentinelsat\n",
    "import datetime"
   ]
  },
  {
   "cell_type": "code",
   "execution_count": 2,
   "metadata": {},
   "outputs": [],
   "source": [
    "import yaml\n",
    "with open(\"../api_keys.yml\", 'r') as ymlfile:\n",
    "    credentials = yaml.load(ymlfile, Loader=yaml.FullLoader)"
   ]
  },
  {
   "attachments": {},
   "cell_type": "markdown",
   "metadata": {},
   "source": [
    "### Request information on available Sentinel-2 Data Products"
   ]
  },
  {
   "cell_type": "code",
   "execution_count": 3,
   "metadata": {},
   "outputs": [],
   "source": [
    "from sentinelsat import SentinelAPI, read_geojson, geojson_to_wkt\n",
    "\n",
    "api = SentinelAPI(credentials['sentinel']['username'], credentials['sentinel']['password'])"
   ]
  },
  {
   "cell_type": "code",
   "execution_count": 4,
   "metadata": {},
   "outputs": [],
   "source": [
    "geojson = {\n",
    "  \"type\": \"FeatureCollection\",\n",
    "  \"features\": [\n",
    "    {\n",
    "      \"type\": \"Feature\",\n",
    "      \"properties\": {},\n",
    "      \"geometry\": {\n",
    "        \"coordinates\": [\n",
    "          [\n",
    "            [\n",
    "              11.5625094932318,\n",
    "              48.17204693371107\n",
    "            ],\n",
    "            [\n",
    "              11.5625094932318,\n",
    "              48.12954099057072\n",
    "            ],\n",
    "            [\n",
    "              11.617322565241011,\n",
    "              48.12954099057072\n",
    "            ],\n",
    "            [\n",
    "              11.617322565241011,\n",
    "              48.17204693371107\n",
    "            ],\n",
    "            [\n",
    "              11.5625094932318,\n",
    "              48.17204693371107\n",
    "            ]\n",
    "          ]\n",
    "        ],\n",
    "        \"type\": \"Polygon\"\n",
    "      }\n",
    "    }\n",
    "  ]\n",
    "}\n",
    "aoi = geojson_to_wkt(geojson)"
   ]
  },
  {
   "cell_type": "code",
   "execution_count": 5,
   "metadata": {},
   "outputs": [
    {
     "name": "stdout",
     "output_type": "stream",
     "text": [
      "3 products found\n"
     ]
    }
   ],
   "source": [
    "# specify the date range\n",
    "start_date = datetime.datetime(2022, 8, 1)\n",
    "end_date = datetime.datetime(2022, 8, 30)\n",
    "\n",
    "# query the API for Sentinel-2 images\n",
    "products = api.query(\n",
    "    aoi,\n",
    "    date=(start_date, end_date),\n",
    "    platformname='Sentinel-2',\n",
    "    producttype = ('S2MSI2A'),\n",
    "    #tileid = '32UQU',\n",
    "    cloudcoverpercentage=(0, 1)\n",
    ")\n",
    "print(f\"{len(products)} products found\")"
   ]
  },
  {
   "cell_type": "code",
   "execution_count": 6,
   "metadata": {},
   "outputs": [
    {
     "name": "stdout",
     "output_type": "stream",
     "text": [
      "c1385af0-528e-4193-9afd-9bec05a79c7c\n",
      "S2B_MSIL2A_20220811T100559_N0400_R022_T32UPU_20220811T162101\n",
      "58799721-2e66-45f3-aab4-99bcbdaacf35\n",
      "S2A_MSIL2A_20220809T102041_N0400_R065_T32UPU_20220809T180703\n",
      "e2c1fc7d-6c8c-4dba-a526-b27c20f0933b\n",
      "S2B_MSIL2A_20220804T101559_N0400_R065_T32UPU_20220804T130854\n"
     ]
    }
   ],
   "source": [
    "for product in products:\n",
    "    print(product)\n",
    "    print(products[product]['title'])"
   ]
  },
  {
   "cell_type": "code",
   "execution_count": 7,
   "metadata": {},
   "outputs": [],
   "source": [
    "from shapely.geometry import box, Polygon\n",
    "bbox = box(*[11.310790,47.980475,11.855986,48.385189])"
   ]
  },
  {
   "attachments": {},
   "cell_type": "markdown",
   "metadata": {},
   "source": [
    "### Plot the footprint of available products"
   ]
  },
  {
   "cell_type": "code",
   "execution_count": 8,
   "metadata": {},
   "outputs": [
    {
     "data": {
      "text/html": [
       "<div style=\"width:100%;\"><div style=\"position:relative;width:100%;height:0;padding-bottom:60%;\"><span style=\"color:#565656\">Make this Notebook Trusted to load map: File -> Trust Notebook</span><iframe srcdoc=\"&lt;!DOCTYPE html&gt;\n",
       "&lt;html&gt;\n",
       "&lt;head&gt;\n",
       "    \n",
       "    &lt;meta http-equiv=&quot;content-type&quot; content=&quot;text/html; charset=UTF-8&quot; /&gt;\n",
       "    \n",
       "        &lt;script&gt;\n",
       "            L_NO_TOUCH = false;\n",
       "            L_DISABLE_3D = false;\n",
       "        &lt;/script&gt;\n",
       "    \n",
       "    &lt;style&gt;html, body {width: 100%;height: 100%;margin: 0;padding: 0;}&lt;/style&gt;\n",
       "    &lt;style&gt;#map {position:absolute;top:0;bottom:0;right:0;left:0;}&lt;/style&gt;\n",
       "    &lt;script src=&quot;https://cdn.jsdelivr.net/npm/leaflet@1.9.3/dist/leaflet.js&quot;&gt;&lt;/script&gt;\n",
       "    &lt;script src=&quot;https://code.jquery.com/jquery-1.12.4.min.js&quot;&gt;&lt;/script&gt;\n",
       "    &lt;script src=&quot;https://cdn.jsdelivr.net/npm/bootstrap@5.2.2/dist/js/bootstrap.bundle.min.js&quot;&gt;&lt;/script&gt;\n",
       "    &lt;script src=&quot;https://cdnjs.cloudflare.com/ajax/libs/Leaflet.awesome-markers/2.0.2/leaflet.awesome-markers.js&quot;&gt;&lt;/script&gt;\n",
       "    &lt;link rel=&quot;stylesheet&quot; href=&quot;https://cdn.jsdelivr.net/npm/leaflet@1.9.3/dist/leaflet.css&quot;/&gt;\n",
       "    &lt;link rel=&quot;stylesheet&quot; href=&quot;https://cdn.jsdelivr.net/npm/bootstrap@5.2.2/dist/css/bootstrap.min.css&quot;/&gt;\n",
       "    &lt;link rel=&quot;stylesheet&quot; href=&quot;https://netdna.bootstrapcdn.com/bootstrap/3.0.0/css/bootstrap.min.css&quot;/&gt;\n",
       "    &lt;link rel=&quot;stylesheet&quot; href=&quot;https://cdn.jsdelivr.net/npm/@fortawesome/fontawesome-free@6.2.0/css/all.min.css&quot;/&gt;\n",
       "    &lt;link rel=&quot;stylesheet&quot; href=&quot;https://cdnjs.cloudflare.com/ajax/libs/Leaflet.awesome-markers/2.0.2/leaflet.awesome-markers.css&quot;/&gt;\n",
       "    &lt;link rel=&quot;stylesheet&quot; href=&quot;https://cdn.jsdelivr.net/gh/python-visualization/folium/folium/templates/leaflet.awesome.rotate.min.css&quot;/&gt;\n",
       "    \n",
       "            &lt;meta name=&quot;viewport&quot; content=&quot;width=device-width,\n",
       "                initial-scale=1.0, maximum-scale=1.0, user-scalable=no&quot; /&gt;\n",
       "            &lt;style&gt;\n",
       "                #map_5aaec9f63d97a734a4f074daa97c0f63 {\n",
       "                    position: relative;\n",
       "                    width: 100.0%;\n",
       "                    height: 100.0%;\n",
       "                    left: 0.0%;\n",
       "                    top: 0.0%;\n",
       "                }\n",
       "                .leaflet-container { font-size: 1rem; }\n",
       "            &lt;/style&gt;\n",
       "        \n",
       "&lt;/head&gt;\n",
       "&lt;body&gt;\n",
       "    \n",
       "    \n",
       "            &lt;div class=&quot;folium-map&quot; id=&quot;map_5aaec9f63d97a734a4f074daa97c0f63&quot; &gt;&lt;/div&gt;\n",
       "        \n",
       "&lt;/body&gt;\n",
       "&lt;script&gt;\n",
       "    \n",
       "    \n",
       "            var map_5aaec9f63d97a734a4f074daa97c0f63 = L.map(\n",
       "                &quot;map_5aaec9f63d97a734a4f074daa97c0f63&quot;,\n",
       "                {\n",
       "                    center: [48.22241664271897, 11.47694358493132],\n",
       "                    crs: L.CRS.EPSG3857,\n",
       "                    zoom: 8,\n",
       "                    zoomControl: true,\n",
       "                    preferCanvas: false,\n",
       "                }\n",
       "            );\n",
       "\n",
       "            \n",
       "\n",
       "        \n",
       "    \n",
       "            var tile_layer_64953aa807fb2c0f7835fc11330d82b7 = L.tileLayer(\n",
       "                &quot;https://{s}.tile.openstreetmap.org/{z}/{x}/{y}.png&quot;,\n",
       "                {&quot;attribution&quot;: &quot;Data by \\u0026copy; \\u003ca target=\\&quot;_blank\\&quot; href=\\&quot;http://openstreetmap.org\\&quot;\\u003eOpenStreetMap\\u003c/a\\u003e, under \\u003ca target=\\&quot;_blank\\&quot; href=\\&quot;http://www.openstreetmap.org/copyright\\&quot;\\u003eODbL\\u003c/a\\u003e.&quot;, &quot;detectRetina&quot;: false, &quot;maxNativeZoom&quot;: 18, &quot;maxZoom&quot;: 18, &quot;minZoom&quot;: 0, &quot;noWrap&quot;: false, &quot;opacity&quot;: 1, &quot;subdomains&quot;: &quot;abc&quot;, &quot;tms&quot;: false}\n",
       "            ).addTo(map_5aaec9f63d97a734a4f074daa97c0f63);\n",
       "        \n",
       "    \n",
       "        function geo_json_e1a00c9a30867c3479be2cbea44cce22_styler(feature) {\n",
       "            switch(feature.id) {\n",
       "                default:\n",
       "                    return {&quot;color&quot;: &quot;green&quot;};\n",
       "            }\n",
       "        }\n",
       "\n",
       "        function geo_json_e1a00c9a30867c3479be2cbea44cce22_onEachFeature(feature, layer) {\n",
       "            layer.on({\n",
       "            });\n",
       "        };\n",
       "        var geo_json_e1a00c9a30867c3479be2cbea44cce22 = L.geoJson(null, {\n",
       "                onEachFeature: geo_json_e1a00c9a30867c3479be2cbea44cce22_onEachFeature,\n",
       "            \n",
       "                style: geo_json_e1a00c9a30867c3479be2cbea44cce22_styler,\n",
       "        });\n",
       "\n",
       "        function geo_json_e1a00c9a30867c3479be2cbea44cce22_add (data) {\n",
       "            geo_json_e1a00c9a30867c3479be2cbea44cce22\n",
       "                .addData(data)\n",
       "                .addTo(map_5aaec9f63d97a734a4f074daa97c0f63);\n",
       "        }\n",
       "            geo_json_e1a00c9a30867c3479be2cbea44cce22_add({&quot;features&quot;: [{&quot;geometry&quot;: {&quot;coordinates&quot;: [[[[11.798094715302927, 47.73104447774509], [11.852438708473068, 48.71769475117851], [10.957135060050277, 48.73406851326975], [10.923973689633174, 48.646757650611576], [10.869008692454596, 48.50044924820117], [10.814442802983317, 48.3540914961274], [10.759929296536573, 48.20779297553245], [10.705818184130274, 48.0614660847273], [10.652053203180367, 47.91509708756361], [10.598495467761298, 47.76871779672226], [10.592706190891207, 47.75275589784114], [11.798094715302927, 47.73104447774509]]]], &quot;type&quot;: &quot;MultiPolygon&quot;}, &quot;id&quot;: &quot;0&quot;, &quot;type&quot;: &quot;Feature&quot;}], &quot;type&quot;: &quot;FeatureCollection&quot;});\n",
       "\n",
       "        \n",
       "    \n",
       "        function geo_json_75b0274ce8d5353ff4f639f673bd014a_styler(feature) {\n",
       "            switch(feature.id) {\n",
       "                default:\n",
       "                    return {&quot;color&quot;: &quot;green&quot;};\n",
       "            }\n",
       "        }\n",
       "\n",
       "        function geo_json_75b0274ce8d5353ff4f639f673bd014a_onEachFeature(feature, layer) {\n",
       "            layer.on({\n",
       "            });\n",
       "        };\n",
       "        var geo_json_75b0274ce8d5353ff4f639f673bd014a = L.geoJson(null, {\n",
       "                onEachFeature: geo_json_75b0274ce8d5353ff4f639f673bd014a_onEachFeature,\n",
       "            \n",
       "                style: geo_json_75b0274ce8d5353ff4f639f673bd014a_styler,\n",
       "        });\n",
       "\n",
       "        function geo_json_75b0274ce8d5353ff4f639f673bd014a_add (data) {\n",
       "            geo_json_75b0274ce8d5353ff4f639f673bd014a\n",
       "                .addData(data)\n",
       "                .addTo(map_5aaec9f63d97a734a4f074daa97c0f63);\n",
       "        }\n",
       "            geo_json_75b0274ce8d5353ff4f639f673bd014a_add({&quot;features&quot;: [{&quot;geometry&quot;: {&quot;coordinates&quot;: [[[[11.798094715302927, 47.73104447774509], [11.852438708473068, 48.71769475117851], [10.360279246283664, 48.74498411169783], [10.3343313489668, 47.75740973734738], [11.798094715302927, 47.73104447774509]]]], &quot;type&quot;: &quot;MultiPolygon&quot;}, &quot;id&quot;: &quot;0&quot;, &quot;type&quot;: &quot;Feature&quot;}], &quot;type&quot;: &quot;FeatureCollection&quot;});\n",
       "\n",
       "        \n",
       "    \n",
       "        function geo_json_15b226f1658adc4d6a314e7eb59f2c66_styler(feature) {\n",
       "            switch(feature.id) {\n",
       "                default:\n",
       "                    return {&quot;color&quot;: &quot;green&quot;};\n",
       "            }\n",
       "        }\n",
       "\n",
       "        function geo_json_15b226f1658adc4d6a314e7eb59f2c66_onEachFeature(feature, layer) {\n",
       "            layer.on({\n",
       "            });\n",
       "        };\n",
       "        var geo_json_15b226f1658adc4d6a314e7eb59f2c66 = L.geoJson(null, {\n",
       "                onEachFeature: geo_json_15b226f1658adc4d6a314e7eb59f2c66_onEachFeature,\n",
       "            \n",
       "                style: geo_json_15b226f1658adc4d6a314e7eb59f2c66_styler,\n",
       "        });\n",
       "\n",
       "        function geo_json_15b226f1658adc4d6a314e7eb59f2c66_add (data) {\n",
       "            geo_json_15b226f1658adc4d6a314e7eb59f2c66\n",
       "                .addData(data)\n",
       "                .addTo(map_5aaec9f63d97a734a4f074daa97c0f63);\n",
       "        }\n",
       "            geo_json_15b226f1658adc4d6a314e7eb59f2c66_add({&quot;features&quot;: [{&quot;geometry&quot;: {&quot;coordinates&quot;: [[[[11.798094715302927, 47.73104447774509], [11.852438708473068, 48.71769475117851], [10.360279246283664, 48.74498411169783], [10.3343313489668, 47.75740973734738], [11.798094715302927, 47.73104447774509]]]], &quot;type&quot;: &quot;MultiPolygon&quot;}, &quot;id&quot;: &quot;0&quot;, &quot;type&quot;: &quot;Feature&quot;}], &quot;type&quot;: &quot;FeatureCollection&quot;});\n",
       "\n",
       "        \n",
       "&lt;/script&gt;\n",
       "&lt;/html&gt;\" style=\"position:absolute;width:100%;height:100%;left:0;top:0;border:none !important;\" allowfullscreen webkitallowfullscreen mozallowfullscreen></iframe></div></div>"
      ],
      "text/plain": [
       "<folium.folium.Map at 0x103682200>"
      ]
     },
     "execution_count": 8,
     "metadata": {},
     "output_type": "execute_result"
    }
   ],
   "source": [
    "from shapely.wkt import loads\n",
    "import folium\n",
    "colors = ['red', 'green', 'blue', 'yellow', 'magenta', 'cyan', 'white']\n",
    "m = folium.Map(location=[48.22241664271897, 11.47694358493132], zoom_start=8)\n",
    "#folium.GeoJson(aoi, style_function=lambda x: {'color':'red'} ).add_to(m)\n",
    "for i, product in enumerate(products):\n",
    "    footprint = loads(products[product]['footprint'])\n",
    "    folium.GeoJson(footprint, style_function=lambda x: {'color':'green'} ).add_to(m)\n",
    "m"
   ]
  },
  {
   "attachments": {},
   "cell_type": "markdown",
   "metadata": {},
   "source": [
    "### Check results in more detail"
   ]
  },
  {
   "cell_type": "code",
   "execution_count": 9,
   "metadata": {},
   "outputs": [
    {
     "data": {
      "text/plain": [
       "Index(['title', 'link', 'link_alternative', 'link_icon', 'summary', 'ondemand',\n",
       "       'generationdate', 'beginposition', 'endposition', 'ingestiondate',\n",
       "       'orbitnumber', 'relativeorbitnumber', 'illuminationazimuthangle',\n",
       "       'illuminationzenithangle', 'vegetationpercentage',\n",
       "       'notvegetatedpercentage', 'waterpercentage', 'unclassifiedpercentage',\n",
       "       'mediumprobacloudspercentage', 'highprobacloudspercentage',\n",
       "       'snowicepercentage', 'cloudcoverpercentage', 'level1cpdiidentifier',\n",
       "       'format', 'processingbaseline', 'platformname', 'filename',\n",
       "       'instrumentname', 'instrumentshortname', 'size', 's2datatakeid',\n",
       "       'producttype', 'platformidentifier', 'orbitdirection',\n",
       "       'platformserialidentifier', 'processinglevel', 'datastripidentifier',\n",
       "       'granuleidentifier', 'identifier', 'uuid', 'geometry'],\n",
       "      dtype='object')"
      ]
     },
     "execution_count": 9,
     "metadata": {},
     "output_type": "execute_result"
    }
   ],
   "source": [
    "results = api.to_geodataframe(products)\n",
    "results.columns"
   ]
  },
  {
   "cell_type": "code",
   "execution_count": 10,
   "metadata": {},
   "outputs": [
    {
     "data": {
      "image/svg+xml": [
       "<svg xmlns=\"http://www.w3.org/2000/svg\" xmlns:xlink=\"http://www.w3.org/1999/xlink\" width=\"100.0\" height=\"100.0\" viewBox=\"10.542316890187932 47.680655177041814 1.360511118988411 1.1038026369312064\" preserveAspectRatio=\"xMinYMin meet\"><g transform=\"matrix(1,0,0,-1,0,96.46511299101483)\"><g><path fill-rule=\"evenodd\" fill=\"#66cc99\" stroke=\"#555555\" stroke-width=\"0.02721022237976822\" opacity=\"0.6\" d=\"M 11.798094715302927,47.73104447774509 L 11.852438708473068,48.71769475117851 L 10.957135060050277,48.73406851326975 L 10.923973689633174,48.646757650611576 L 10.869008692454596,48.50044924820117 L 10.814442802983317,48.3540914961274 L 10.759929296536573,48.20779297553245 L 10.705818184130274,48.0614660847273 L 10.652053203180367,47.91509708756361 L 10.598495467761298,47.76871779672226 L 10.592706190891207,47.75275589784114 L 11.798094715302927,47.73104447774509 z\" /></g></g></svg>"
      ],
      "text/plain": [
       "<shapely.geometry.multipolygon.MultiPolygon at 0x128576bf0>"
      ]
     },
     "execution_count": 10,
     "metadata": {},
     "output_type": "execute_result"
    }
   ],
   "source": [
    "results['geometry'][0]"
   ]
  },
  {
   "cell_type": "code",
   "execution_count": 11,
   "metadata": {},
   "outputs": [
    {
     "data": {
      "text/plain": [
       "{'id': 'c1385af0-528e-4193-9afd-9bec05a79c7c',\n",
       " 'title': 'S2B_MSIL2A_20220811T100559_N0400_R022_T32UPU_20220811T162101',\n",
       " 'size': 956807380,\n",
       " 'md5': 'df3d4738e1da04167cf3d337f8ec110b',\n",
       " 'date': datetime.datetime(2022, 8, 11, 10, 5, 59, 24000),\n",
       " 'footprint': 'POLYGON((10.592706190891207 47.75275589784114,10.598495467761298 47.76871779672226,10.652053203180367 47.91509708756361,10.705818184130274 48.0614660847273,10.759929296536573 48.20779297553245,10.814442802983317 48.3540914961274,10.869008692454596 48.50044924820117,10.923973689633174 48.646757650611576,10.957135060050277 48.73406851326975,11.852438708473068 48.71769475117851,11.798094715302927 47.73104447774509,10.592706190891207 47.75275589784114))',\n",
       " 'url': \"https://apihub.copernicus.eu/apihub/odata/v1/Products('c1385af0-528e-4193-9afd-9bec05a79c7c')/$value\",\n",
       " 'Online': True,\n",
       " 'Creation Date': datetime.datetime(2022, 8, 11, 18, 56, 2, 577000),\n",
       " 'Ingestion Date': datetime.datetime(2022, 8, 11, 18, 55, 53, 695000),\n",
       " 'Aot retrieval accuracy': 0.0,\n",
       " 'Cloud cover percentage': 0.02972,\n",
       " 'Cloud shadow percentage': 1.4e-05,\n",
       " 'Dark features percentage': 0.02037,\n",
       " 'Date': datetime.datetime(2022, 8, 11, 10, 5, 59, 24000),\n",
       " 'Degraded ancillary data percentage': 0.0,\n",
       " 'Degraded MSI data percentage': 0,\n",
       " 'Filename': 'S2B_MSIL2A_20220811T100559_N0400_R022_T32UPU_20220811T162101.SAFE',\n",
       " 'Footprint': '<gml:Polygon srsName=\"http://www.opengis.net/gml/srs/epsg.xml#4326\" xmlns:gml=\"http://www.opengis.net/gml\">\\n   <gml:outerBoundaryIs>\\n      <gml:LinearRing>\\n         <gml:coordinates>47.75275589784114,10.592706190891207 47.76871779672226,10.598495467761298 47.91509708756361,10.652053203180367 48.0614660847273,10.705818184130274 48.20779297553245,10.759929296536573 48.3540914961274,10.814442802983317 48.50044924820117,10.869008692454596 48.646757650611576,10.923973689633174 48.73406851326975,10.957135060050277 48.71769475117851,11.852438708473068 47.73104447774509,11.798094715302927 47.75275589784114,10.592706190891207</gml:coordinates>\\n      </gml:LinearRing>\\n   </gml:outerBoundaryIs>\\n</gml:Polygon>',\n",
       " 'Format': 'SAFE',\n",
       " 'Format correctness': 'PASSED',\n",
       " 'General quality': 'PASSED',\n",
       " 'Geometric quality': 'PASSED',\n",
       " 'High proba clouds percentage': 0.000596,\n",
       " 'Identifier': 'S2B_MSIL2A_20220811T100559_N0400_R022_T32UPU_20220811T162101',\n",
       " 'Instrument': 'MSI',\n",
       " 'Instrument abbreviation': 'MSI',\n",
       " 'Instrument name': 'Multi-Spectral Instrument',\n",
       " 'JTS footprint': 'MULTIPOLYGON (((11.798094715302927 47.73104447774509, 11.852438708473068 48.71769475117851, 10.957135060050277 48.73406851326975, 10.923973689633174 48.646757650611576, 10.869008692454596 48.50044924820117, 10.814442802983317 48.3540914961274, 10.759929296536573 48.20779297553245, 10.705818184130274 48.0614660847273, 10.652053203180367 47.91509708756361, 10.598495467761298 47.76871779672226, 10.592706190891207 47.75275589784114, 11.798094715302927 47.73104447774509)))',\n",
       " 'Medium proba clouds percentage': 0.001079,\n",
       " 'Mission datatake id': 'GS2B_20220811T100559_028362_N04.00',\n",
       " 'No data pixel percentage': 29.244426,\n",
       " 'Not vegetated percentage': 24.242429,\n",
       " 'NSSDC identifier': '2017-013A',\n",
       " 'Orbit number (start)': 28362,\n",
       " 'Pass direction': 'DESCENDING',\n",
       " 'Platform serial identifier': 'Sentinel-2B',\n",
       " 'Processing baseline': 4.0,\n",
       " 'Processing level': 'Level-2A',\n",
       " 'Product type': 'S2MSI2A',\n",
       " 'Radiometric quality': 'PASSED',\n",
       " 'Relative orbit (start)': 22,\n",
       " 'Satellite': 'Sentinel-2',\n",
       " 'Satellite name': 'Sentinel-2',\n",
       " 'Satellite number': 'B',\n",
       " 'Saturated defective pixel percentage': 0.0,\n",
       " 'Sensing start': datetime.datetime(2022, 8, 11, 10, 5, 59, 24000),\n",
       " 'Sensing stop': datetime.datetime(2022, 8, 11, 10, 5, 59, 24000),\n",
       " 'Sensor quality': 'PASSED',\n",
       " 'Size': '912.45 MB',\n",
       " 'Snow ice percentage': 3.8e-05,\n",
       " 'Thin cirrus percentage': 0.028046,\n",
       " 'Unclassified percentage': 0.104259,\n",
       " 'Vegetation percentage': 73.803222,\n",
       " 'Water percentage': 1.799951,\n",
       " 'Water vapour retrieval accuracy': 0.0,\n",
       " 'Datastrip identifier': 'S2B_OPER_MSI_L2A_DS_2BPS_20220811T162101_S20220811T101510_N04.00',\n",
       " 'Granule identifier': 'S2B_OPER_MSI_L2A_TL_2BPS_20220811T162101_A028362_T32UPU_N04.00',\n",
       " 'Level-1C PDI Identifier': 'S2B_OPER_MSI_L1C_TL_2BPS_20220811T153441_A028362_T32UPU_N04.00',\n",
       " 'Generation date': datetime.datetime(2022, 8, 11, 16, 21, 1),\n",
       " 'Illumination Azimuth Angle': 153.048927928886,\n",
       " 'Illumination Zenith Angle': 35.5193249066195,\n",
       " 'manifest_name': 'manifest.safe',\n",
       " 'product_root_dir': 'S2B_MSIL2A_20220811T100559_N0400_R022_T32UPU_20220811T162101.SAFE',\n",
       " 'quicklook_url': \"https://apihub.copernicus.eu/apihub/odata/v1/Products('c1385af0-528e-4193-9afd-9bec05a79c7c')/Products('Quicklook')/$value\"}"
      ]
     },
     "execution_count": 11,
     "metadata": {},
     "output_type": "execute_result"
    }
   ],
   "source": [
    "api.get_product_odata(results.index[0], full = True)"
   ]
  },
  {
   "cell_type": "code",
   "execution_count": 14,
   "metadata": {},
   "outputs": [
    {
     "data": {
      "application/vnd.jupyter.widget-view+json": {
       "model_id": "4079b2a0a59047118c1873245c3d156d",
       "version_major": 2,
       "version_minor": 0
      },
      "text/plain": [
       "Downloading S2B_MSIL2A_20220811T100559_N0400_R022_T32UPU_20220811T162101.zip:   0%|          | 0.00/957M [00:0…"
      ]
     },
     "metadata": {},
     "output_type": "display_data"
    },
    {
     "data": {
      "application/vnd.jupyter.widget-view+json": {
       "model_id": "b9581f29d828463bac6655a4d6913709",
       "version_major": 2,
       "version_minor": 0
      },
      "text/plain": [
       "MD5 checksumming:   0%|          | 0.00/957M [00:00<?, ?B/s]"
      ]
     },
     "metadata": {},
     "output_type": "display_data"
    },
    {
     "data": {
      "text/plain": [
       "{'id': 'c1385af0-528e-4193-9afd-9bec05a79c7c',\n",
       " 'title': 'S2B_MSIL2A_20220811T100559_N0400_R022_T32UPU_20220811T162101',\n",
       " 'size': 956807380,\n",
       " 'md5': 'df3d4738e1da04167cf3d337f8ec110b',\n",
       " 'date': datetime.datetime(2022, 8, 11, 10, 5, 59, 24000),\n",
       " 'footprint': 'POLYGON((10.592706190891207 47.75275589784114,10.598495467761298 47.76871779672226,10.652053203180367 47.91509708756361,10.705818184130274 48.0614660847273,10.759929296536573 48.20779297553245,10.814442802983317 48.3540914961274,10.869008692454596 48.50044924820117,10.923973689633174 48.646757650611576,10.957135060050277 48.73406851326975,11.852438708473068 48.71769475117851,11.798094715302927 47.73104447774509,10.592706190891207 47.75275589784114))',\n",
       " 'url': \"https://apihub.copernicus.eu/apihub/odata/v1/Products('c1385af0-528e-4193-9afd-9bec05a79c7c')/$value\",\n",
       " 'Online': True,\n",
       " 'Creation Date': datetime.datetime(2022, 8, 11, 18, 56, 2, 577000),\n",
       " 'Ingestion Date': datetime.datetime(2022, 8, 11, 18, 55, 53, 695000),\n",
       " 'manifest_name': 'manifest.safe',\n",
       " 'product_root_dir': 'S2B_MSIL2A_20220811T100559_N0400_R022_T32UPU_20220811T162101.SAFE',\n",
       " 'quicklook_url': \"https://apihub.copernicus.eu/apihub/odata/v1/Products('c1385af0-528e-4193-9afd-9bec05a79c7c')/Products('Quicklook')/$value\",\n",
       " 'path': '/Users/maltegenschow/Documents/Uni/SoSe23/Data Science Project/data/Sentinel/S2B_MSIL2A_20220811T100559_N0400_R022_T32UPU_20220811T162101.zip',\n",
       " 'downloaded_bytes': 956807380}"
      ]
     },
     "execution_count": 14,
     "metadata": {},
     "output_type": "execute_result"
    }
   ],
   "source": [
    "api.download(results.index[0], directory_path='/Users/maltegenschow/Documents/Uni/SoSe23/Data Science Project/data/Sentinel')"
   ]
  }
 ],
 "metadata": {
  "kernelspec": {
   "display_name": "image_self_learn",
   "language": "python",
   "name": "python3"
  },
  "language_info": {
   "codemirror_mode": {
    "name": "ipython",
    "version": 3
   },
   "file_extension": ".py",
   "mimetype": "text/x-python",
   "name": "python",
   "nbconvert_exporter": "python",
   "pygments_lexer": "ipython3",
   "version": "3.10.1"
  },
  "orig_nbformat": 4
 },
 "nbformat": 4,
 "nbformat_minor": 2
}
