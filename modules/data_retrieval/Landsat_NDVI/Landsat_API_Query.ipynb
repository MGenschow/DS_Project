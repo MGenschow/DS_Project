{
 "cells": [
  {
   "cell_type": "code",
   "execution_count": null,
   "metadata": {},
   "outputs": [],
   "source": [
    "# Load in API Key for USGS API\n",
    "import yaml\n",
    "with open('../api_keys.yml') as f:\n",
    "    credentials = yaml.load(f, Loader=yaml.FullLoader)"
   ]
  },
  {
   "cell_type": "code",
   "execution_count": null,
   "metadata": {},
   "outputs": [],
   "source": [
    "import yaml\n",
    "config_path = '/home/tu/tu_tu/tu_zxmav84/DS_Project/modules/config.yml'\n",
    "with open(config_path, 'r') as f:\n",
    "    config = yaml.load(f, Loader=yaml.FullLoader)\n",
    "\n",
    "landsat_path = config['data']['landsat']\n",
    "config"
   ]
  },
  {
   "cell_type": "code",
   "execution_count": null,
   "metadata": {},
   "outputs": [],
   "source": [
    "from landsatxplore.api import API\n",
    "\n",
    "# Initialize a new API instance and get an access key\n",
    "api = API(credentials['usgs']['username'], credentials['usgs']['password'])\n",
    "\n",
    "# Perform a request. Results are returned in a dictionnary\n",
    "# Search for Landsat TM scenes\n",
    "scenes = api.search(\n",
    "    dataset='landsat_ot_c2_l2',\n",
    "    latitude=48.144067,\n",
    "    longitude=11.559217,\n",
    "    start_date='2022-08-01',\n",
    "    end_date='2022-10-01',\n",
    "    max_cloud_cover=2\n",
    ")\n",
    "\n",
    "print(f\"{len(scenes)} scenes found.\")"
   ]
  },
  {
   "cell_type": "code",
   "execution_count": null,
   "metadata": {},
   "outputs": [],
   "source": [
    "scenes[0]"
   ]
  },
  {
   "cell_type": "code",
   "execution_count": null,
   "metadata": {},
   "outputs": [],
   "source": [
    "for scene in scenes:\n",
    "    print(scene['display_id'])"
   ]
  },
  {
   "cell_type": "code",
   "execution_count": null,
   "metadata": {},
   "outputs": [],
   "source": [
    "scenes[2]['spatial_bounds']"
   ]
  },
  {
   "cell_type": "code",
   "execution_count": null,
   "metadata": {},
   "outputs": [],
   "source": [
    "import folium\n",
    "from shapely.geometry import box\n",
    "\n",
    "\n",
    "m = folium.Map(location=[48.144067, 11], zoom_start=8)\n",
    "for i in range(1):\n",
    "    scene_bounds = box(*scenes[i]['spatial_bounds'])\n",
    "    folium.GeoJson(scene_bounds.__geo_interface__).add_to(m)\n",
    "#m"
   ]
  },
  {
   "cell_type": "code",
   "execution_count": null,
   "metadata": {},
   "outputs": [],
   "source": [
    "m = folium.Map(location=[48.144067, 11], zoom_start=8)\n",
    "folium.GeoJson(scenes[2]['spatial_coverage'].__geo_interface__).add_to(m)\n",
    "m\n",
    "#scenes[2]['spatial_coverage']"
   ]
  },
  {
   "attachments": {},
   "cell_type": "markdown",
   "metadata": {},
   "source": [
    "#### Download L1TP Product for NDVI and EVI Calculations"
   ]
  },
  {
   "cell_type": "code",
   "execution_count": null,
   "metadata": {},
   "outputs": [],
   "source": [
    "from landsatxplore.earthexplorer import EarthExplorer\n",
    "\n",
    "ee = EarthExplorer(credentials['usgs']['username'], credentials['usgs']['password'])\n",
    "\n",
    "ee.download('LC08_L1TP_193026_20220803_20220806_02_T1', output_dir=landsat_path+'raw_scenes')\n",
    "\n",
    "ee.logout()"
   ]
  },
  {
   "attachments": {},
   "cell_type": "markdown",
   "metadata": {},
   "source": [
    "#### Download L2SP Product for LST Calcualtion"
   ]
  },
  {
   "cell_type": "code",
   "execution_count": null,
   "metadata": {},
   "outputs": [],
   "source": [
    "from landsatxplore.earthexplorer import EarthExplorer\n",
    "\n",
    "ee = EarthExplorer(credentials['usgs']['username'], credentials['usgs']['password'])\n",
    "\n",
    "ee.download('LC08_L2SP_193026_20220803_20220806_02_T1', output_dir=landsat_path+'raw_scenes')\n",
    "\n",
    "ee.logout()"
   ]
  }
 ],
 "metadata": {
  "kernelspec": {
   "display_name": "image_self_learn",
   "language": "python",
   "name": "python3"
  },
  "language_info": {
   "codemirror_mode": {
    "name": "ipython",
    "version": 3
   },
   "file_extension": ".py",
   "mimetype": "text/x-python",
   "name": "python",
   "nbconvert_exporter": "python",
   "pygments_lexer": "ipython3",
   "version": "3.10.11"
  },
  "orig_nbformat": 4
 },
 "nbformat": 4,
 "nbformat_minor": 2
}
