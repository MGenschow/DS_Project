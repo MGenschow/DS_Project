{
 "cells": [
  {
   "cell_type": "code",
   "execution_count": null,
   "metadata": {},
   "outputs": [],
   "source": [
    "import rasterio\n",
    "from rasterio import plot\n",
    "import matplotlib.pyplot as plt\n",
    "import numpy as np\n"
   ]
  },
  {
   "cell_type": "code",
   "execution_count": null,
   "metadata": {},
   "outputs": [],
   "source": [
    "import yaml\n",
    "config_path = '/home/tu/tu_tu/tu_zxmav84/DS_Project/modules/config.yml'\n",
    "with open(config_path, 'r') as f:\n",
    "    config = yaml.load(f, Loader=yaml.FullLoader)\n",
    "\n",
    "landsat_path = config['data']['landsat']\n",
    "config"
   ]
  },
  {
   "cell_type": "code",
   "execution_count": null,
   "metadata": {},
   "outputs": [],
   "source": [
    "base_path = landsat_path+'/raw_scenes/LC08_L1TP_193026_20220803_20220806_02_T1/LC08_L1TP_193026_20220803_20220806_02_T1_'"
   ]
  },
  {
   "attachments": {},
   "cell_type": "markdown",
   "metadata": {},
   "source": []
  },
  {
   "cell_type": "code",
   "execution_count": null,
   "metadata": {},
   "outputs": [],
   "source": [
    "#import bands as separate 1 band raster\n",
    "band4 = rasterio.open(base_path+'B4.tif') #red\n",
    "band5 = rasterio.open(base_path+'B5.tif') #nir\n",
    "\n",
    "band5.height, band5.width"
   ]
  },
  {
   "cell_type": "code",
   "execution_count": null,
   "metadata": {},
   "outputs": [],
   "source": [
    "fig, (ax1, ax2) = plt.subplots(1, 2, figsize=(12, 6))\n",
    "plot.show(band4, ax=ax1, cmap='Blues') #red\n",
    "plot.show(band5, ax=ax2, cmap='Blues') #nir\n",
    "fig.tight_layout()"
   ]
  },
  {
   "cell_type": "code",
   "execution_count": null,
   "metadata": {},
   "outputs": [],
   "source": [
    "#generate nir and red objects as arrays in float64 format\n",
    "red = band4.read(1).astype('float64')\n",
    "nir = band5.read(1).astype('float64')\n",
    "nir"
   ]
  },
  {
   "cell_type": "code",
   "execution_count": null,
   "metadata": {},
   "outputs": [],
   "source": [
    "#ndvi calculation, empty cells or nodata cells are reported as 0\n",
    "ndvi=np.where(\n",
    "    (nir+red)==0., \n",
    "    0, \n",
    "    (nir-red)/(nir+red))\n",
    "ndvi[:5,:5]"
   ]
  },
  {
   "cell_type": "code",
   "execution_count": null,
   "metadata": {},
   "outputs": [],
   "source": [
    "#export ndvi image\n",
    "ndviImage = rasterio.open('ndviImage.tif','w',driver='Gtiff',\n",
    "                          width=band4.width, \n",
    "                          height = band4.height, \n",
    "                          count=1, crs=band4.crs, \n",
    "                          transform=band4.transform, \n",
    "                          dtype='float64')\n",
    "ndviImage.write(ndvi,1)\n",
    "ndviImage.close()"
   ]
  },
  {
   "cell_type": "code",
   "execution_count": null,
   "metadata": {},
   "outputs": [],
   "source": [
    "#plot ndvi\n",
    "ndvi = rasterio.open('ndviImage.tif')\n",
    "fig = plt.figure(figsize=(18,12))\n",
    "plot.show(ndvi)"
   ]
  },
  {
   "attachments": {},
   "cell_type": "markdown",
   "metadata": {},
   "source": [
    "### Subset to Munich"
   ]
  },
  {
   "cell_type": "code",
   "execution_count": null,
   "metadata": {},
   "outputs": [],
   "source": [
    "bbox_4326 = (11.576947,48.128678,11.604069,48.149555)\n",
    "import rasterio.warp\n",
    "[xmin, xmax], [ymin, ymax] = rasterio.warp.transform('EPSG:4326', band4.crs, [bbox_4326[0], bbox_4326[2]], [bbox_4326[1], bbox_4326[3]])\n",
    "bbox = (xmin, ymin, xmax, ymax)\n",
    "bbox"
   ]
  },
  {
   "cell_type": "code",
   "execution_count": null,
   "metadata": {},
   "outputs": [],
   "source": [
    "from rasterio.windows import from_bounds\n",
    "with rasterio.open('ndviImage.tif') as src:\n",
    "    # Get the window corresponding to the bounding box\n",
    "    window = from_bounds(*bbox, src.transform)\n",
    "\n",
    "    # Read the subset of the raster data as a numpy array\n",
    "    subset = src.read(window=window)\n",
    "\n",
    "    # Update the metadata of the new GeoTIFF to reflect the subset\n",
    "    meta = src.meta\n",
    "    meta.update({\n",
    "        'width': window.width,\n",
    "        'height': window.height,\n",
    "        'transform': rasterio.windows.transform(window, src.transform)\n",
    "    })\n",
    "\n",
    "# Write the subset of the raster data to a new GeoTIFF file\n",
    "with rasterio.open('my_subset.tif', 'w', **meta) as dst:\n",
    "   dst.write(subset)\n",
    "fig, ax = plt.subplots(figsize=(12, 6))\n",
    "plt.imshow(subset[0])"
   ]
  }
 ],
 "metadata": {
  "kernelspec": {
   "display_name": "image_self_learn",
   "language": "python",
   "name": "python3"
  },
  "language_info": {
   "codemirror_mode": {
    "name": "ipython",
    "version": 3
   },
   "file_extension": ".py",
   "mimetype": "text/x-python",
   "name": "python",
   "nbconvert_exporter": "python",
   "pygments_lexer": "ipython3",
   "version": "3.10.11"
  },
  "orig_nbformat": 4
 },
 "nbformat": 4,
 "nbformat_minor": 2
}
