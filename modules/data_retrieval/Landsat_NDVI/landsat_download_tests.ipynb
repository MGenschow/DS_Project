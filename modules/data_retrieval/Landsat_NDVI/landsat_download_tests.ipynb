{
 "cells": [
  {
   "cell_type": "code",
   "execution_count": 1,
   "metadata": {},
   "outputs": [],
   "source": [
    "# Load in API Key for USGS API\n",
    "import yaml\n",
    "with open('../api_keys.yml') as f:\n",
    "    credentials = yaml.load(f, Loader=yaml.FullLoader)"
   ]
  },
  {
   "cell_type": "code",
   "execution_count": 2,
   "metadata": {},
   "outputs": [
    {
     "name": "stdout",
     "output_type": "stream",
     "text": [
      "14 scenes found.\n"
     ]
    }
   ],
   "source": [
    "from landsatxplore.api import API\n",
    "\n",
    "# Initialize a new API instance and get an access key\n",
    "api = API(credentials['usgs']['username'], credentials['usgs']['password'])\n",
    "\n",
    "# Perform a request. Results are returned in a dictionnary\n",
    "# Search for Landsat TM scenes\n",
    "scenes = api.search(\n",
    "    dataset='landsat_ot_c2_l2',\n",
    "    latitude=48.144067,\n",
    "    longitude=11.559217,\n",
    "    start_date='2022-05-01',\n",
    "    end_date='2022-10-01',\n",
    "    max_cloud_cover=10\n",
    ")\n",
    "\n",
    "print(f\"{len(scenes)} scenes found.\")"
   ]
  },
  {
   "cell_type": "code",
   "execution_count": 3,
   "metadata": {},
   "outputs": [
    {
     "data": {
      "text/plain": [
       "{'cloud_cover': 10,\n",
       " 'entity_id': 'LC81920272022256LGN00',\n",
       " 'display_id': 'LC08_L2SP_192027_20220913_20220922_02_T1',\n",
       " 'ordering_id': 'None',\n",
       " 'landsat_product_id': 'LC08_L1TP_192027_20220913_20220922_02_T1',\n",
       " 'landsat_scene_id': 'LC81920272022256LGN00',\n",
       " 'acquisition_date': datetime.datetime(2022, 9, 13, 0, 0),\n",
       " 'collection_category': datetime.datetime(2023, 5, 1, 0, 0),\n",
       " 'collection_number': 2,\n",
       " 'wrs_path': 192,\n",
       " 'wrs_row': 27,\n",
       " 'target_wrs_path': 192,\n",
       " 'target_wrs_row': 27,\n",
       " 'nadir-off_nadir': 'NADIR',\n",
       " 'roll_angle': -0.001,\n",
       " 'date_product_generated': datetime.datetime(2022, 9, 22, 0, 0),\n",
       " 'start_time': datetime.datetime(2022, 9, 13, 9, 58, 19),\n",
       " 'stop_time': datetime.datetime(2022, 9, 13, 9, 58, 51),\n",
       " 'station_id': 'LGN',\n",
       " 'day-night_indicator': 'DAY',\n",
       " 'land_cloud_cover': 10.03,\n",
       " 'scene_cloud_cover': 10.03,\n",
       " 'ground_control_points_model': 1031,\n",
       " 'ground_control_points_version': 5,\n",
       " 'geometric_rmse_model': 5.459,\n",
       " 'geometric_rmse_model_x': 3.742,\n",
       " 'geometric_rmse_model_y': 3.974,\n",
       " 'processing_software_version': 'LPGS_16.1.0',\n",
       " 'sun_elevation_l0ra': 43.94342992,\n",
       " 'sun_azimuth_l0ra': 156.43268065,\n",
       " 'tirs_ssm_model': 'FINAL',\n",
       " 'data_type': 'OLI_TIRS_L2SP',\n",
       " 'sensor_id': 'OLI_TIRS',\n",
       " 'satellite': 8,\n",
       " 'product_map_projection': 'UTM',\n",
       " 'utm_zone': 33,\n",
       " 'datum': 'WGS84',\n",
       " 'ellipsoid': 'WGS84',\n",
       " 'scene_center_latitude': 47.44909,\n",
       " 'scene_center_longitude': 12.57469,\n",
       " 'corner_upper_left_latitude': 48.48833,\n",
       " 'corner_upper_left_longitude': 10.90017,\n",
       " 'corner_upper_right_latitude': 48.55821,\n",
       " 'corner_upper_right_longitude': 14.14348,\n",
       " 'corner_lower_left_latitude': 46.30985,\n",
       " 'corner_lower_left_longitude': 11.06604,\n",
       " 'corner_lower_right_latitude': 46.37462,\n",
       " 'corner_lower_right_longitude': 14.17824,\n",
       " 'has_customized_metadata': None,\n",
       " 'options': {'bulk': True,\n",
       "  'download': True,\n",
       "  'order': False,\n",
       "  'secondary': False},\n",
       " 'selected': {'bulk': False, 'compare': False, 'order': False},\n",
       " 'spatial_bounds': (11.03368, 46.36921, 14.15054, 48.51241),\n",
       " 'spatial_coverage': <shapely.geometry.polygon.Polygon at 0x107e8f100>,\n",
       " 'temporal_coverage': [datetime.datetime(2022, 9, 13, 0, 0),\n",
       "  datetime.datetime(2022, 9, 13, 0, 0)],\n",
       " 'publish_date': datetime.datetime(2022, 9, 21, 21, 26, 22, tzinfo=tzoffset(None, -18000))}"
      ]
     },
     "execution_count": 3,
     "metadata": {},
     "output_type": "execute_result"
    }
   ],
   "source": [
    "scenes[0]"
   ]
  },
  {
   "cell_type": "code",
   "execution_count": 4,
   "metadata": {},
   "outputs": [
    {
     "data": {
      "text/plain": [
       "(11.03368, 46.36921, 14.15054, 48.51241)"
      ]
     },
     "execution_count": 4,
     "metadata": {},
     "output_type": "execute_result"
    }
   ],
   "source": [
    "scenes[0]['spatial_bounds']"
   ]
  },
  {
   "cell_type": "code",
   "execution_count": 5,
   "metadata": {},
   "outputs": [],
   "source": [
    "import folium\n",
    "from shapely.geometry import box\n",
    "\n",
    "\n",
    "m = folium.Map(location=[48.144067, 11], zoom_start=8)\n",
    "for i in range(1):\n",
    "    scene_bounds = box(*scenes[i]['spatial_bounds'])\n",
    "    folium.GeoJson(scene_bounds.__geo_interface__).add_to(m)\n",
    "#"
   ]
  },
  {
   "cell_type": "code",
   "execution_count": 6,
   "metadata": {},
   "outputs": [
    {
     "name": "stdout",
     "output_type": "stream",
     "text": [
      "Download failed with dataset id 1 of 2. Re-trying with the next one.\n"
     ]
    }
   ],
   "source": [
    "from landsatxplore.earthexplorer import EarthExplorer\n",
    "\n",
    "ee = EarthExplorer(credentials['usgs']['username'], credentials['usgs']['password'])\n",
    "\n",
    "ee.download('LC81920272022256LGN00', output_dir='/Users/maltegenschow/Documents/Uni/SoSe23/Data Science Project/data/Landsat')\n",
    "\n",
    "ee.logout()"
   ]
  },
  {
   "cell_type": "code",
   "execution_count": null,
   "metadata": {},
   "outputs": [],
   "source": []
  }
 ],
 "metadata": {
  "kernelspec": {
   "display_name": "image_self_learn",
   "language": "python",
   "name": "python3"
  },
  "language_info": {
   "codemirror_mode": {
    "name": "ipython",
    "version": 3
   },
   "file_extension": ".py",
   "mimetype": "text/x-python",
   "name": "python",
   "nbconvert_exporter": "python",
   "pygments_lexer": "ipython3",
   "version": "3.10.1"
  },
  "orig_nbformat": 4
 },
 "nbformat": 4,
 "nbformat_minor": 2
}
