{
 "cells": [
  {
   "cell_type": "code",
   "execution_count": 1,
   "metadata": {},
   "outputs": [],
   "source": [
    "# Load in API Key for USGS API\n",
    "import yaml\n",
    "with open('../api_keys.yml') as f:\n",
    "    credentials = yaml.load(f, Loader=yaml.FullLoader)"
   ]
  },
  {
   "cell_type": "code",
   "execution_count": 2,
   "metadata": {},
   "outputs": [
    {
     "name": "stdout",
     "output_type": "stream",
     "text": [
      "3 scenes found.\n"
     ]
    }
   ],
   "source": [
    "from landsatxplore.api import API\n",
    "\n",
    "# Initialize a new API instance and get an access key\n",
    "api = API(credentials['usgs']['username'], credentials['usgs']['password'])\n",
    "\n",
    "# Perform a request. Results are returned in a dictionnary\n",
    "# Search for Landsat TM scenes\n",
    "scenes = api.search(\n",
    "    dataset='landsat_ot_c2_l2',\n",
    "    latitude=48.144067,\n",
    "    longitude=11.559217,\n",
    "    start_date='2022-08-01',\n",
    "    end_date='2022-10-01',\n",
    "    max_cloud_cover=2\n",
    ")\n",
    "\n",
    "print(f\"{len(scenes)} scenes found.\")"
   ]
  },
  {
   "cell_type": "code",
   "execution_count": 3,
   "metadata": {},
   "outputs": [
    {
     "data": {
      "text/plain": [
       "{'cloud_cover': 1,\n",
       " 'entity_id': 'LC91930272022255LGN01',\n",
       " 'display_id': 'LC09_L2SP_193027_20220912_20230329_02_T1',\n",
       " 'ordering_id': 'None',\n",
       " 'landsat_product_id': 'LC09_L1TP_193027_20220912_20230329_02_T1',\n",
       " 'landsat_scene_id': 'LC91930272022255LGN01',\n",
       " 'acquisition_date': datetime.datetime(2022, 9, 12, 0, 0),\n",
       " 'collection_category': datetime.datetime(2023, 5, 1, 0, 0),\n",
       " 'collection_number': 2,\n",
       " 'wrs_path': 193,\n",
       " 'wrs_row': 27,\n",
       " 'target_wrs_path': 193,\n",
       " 'target_wrs_row': 27,\n",
       " 'nadir-off_nadir': 'NADIR',\n",
       " 'roll_angle': 0.0,\n",
       " 'date_product_generated': datetime.datetime(2023, 3, 29, 0, 0),\n",
       " 'start_time': datetime.datetime(2022, 9, 12, 10, 4, 8),\n",
       " 'stop_time': datetime.datetime(2022, 9, 12, 10, 4, 40),\n",
       " 'station_id': 'LGN',\n",
       " 'day-night_indicator': 'DAY',\n",
       " 'land_cloud_cover': 0.96,\n",
       " 'scene_cloud_cover': 0.96,\n",
       " 'ground_control_points_model': 1019,\n",
       " 'ground_control_points_version': 5,\n",
       " 'geometric_rmse_model': 4.931,\n",
       " 'geometric_rmse_model_x': 3.52,\n",
       " 'geometric_rmse_model_y': 3.454,\n",
       " 'processing_software_version': 'LPGS_16.2.0',\n",
       " 'sun_elevation_l0ra': 44.26609757,\n",
       " 'sun_azimuth_l0ra': 156.0745241,\n",
       " 'tirs_ssm_model': 'N/A',\n",
       " 'data_type': 'OLI_TIRS_L2SP',\n",
       " 'sensor_id': 'OLI_TIRS',\n",
       " 'satellite': 9,\n",
       " 'product_map_projection': 'UTM',\n",
       " 'utm_zone': 32,\n",
       " 'datum': 'WGS84',\n",
       " 'ellipsoid': 'WGS84',\n",
       " 'scene_center_latitude': 47.44896,\n",
       " 'scene_center_longitude': 11.04874,\n",
       " 'corner_upper_left_latitude': 48.51703,\n",
       " 'corner_upper_left_longitude': 9.52135,\n",
       " 'corner_upper_right_latitude': 48.46018,\n",
       " 'corner_upper_right_longitude': 12.65377,\n",
       " 'corner_lower_left_latitude': 46.40618,\n",
       " 'corner_lower_left_longitude': 9.50089,\n",
       " 'corner_lower_right_latitude': 46.35335,\n",
       " 'corner_lower_right_longitude': 12.51072,\n",
       " 'has_customized_metadata': None,\n",
       " 'options': {'bulk': True,\n",
       "  'download': True,\n",
       "  'order': False,\n",
       "  'secondary': False},\n",
       " 'selected': {'bulk': False, 'compare': False, 'order': False},\n",
       " 'spatial_bounds': (9.50701, 46.37041, 12.62473, 48.51092),\n",
       " 'spatial_coverage': <shapely.geometry.polygon.Polygon at 0x11068f100>,\n",
       " 'temporal_coverage': [datetime.datetime(2022, 9, 12, 0, 0),\n",
       "  datetime.datetime(2022, 9, 12, 0, 0)],\n",
       " 'publish_date': datetime.datetime(2023, 3, 29, 10, 10, 12, tzinfo=tzoffset(None, -18000))}"
      ]
     },
     "execution_count": 3,
     "metadata": {},
     "output_type": "execute_result"
    }
   ],
   "source": [
    "scenes[0]"
   ]
  },
  {
   "cell_type": "code",
   "execution_count": 4,
   "metadata": {},
   "outputs": [
    {
     "name": "stdout",
     "output_type": "stream",
     "text": [
      "LC09_L2SP_193027_20220912_20230329_02_T1\n",
      "LC09_L2SP_193026_20220811_20230403_02_T1\n",
      "LC08_L2SP_193026_20220803_20220806_02_T1\n"
     ]
    }
   ],
   "source": [
    "for scene in scenes:\n",
    "    print(scene['display_id'])"
   ]
  },
  {
   "cell_type": "code",
   "execution_count": 5,
   "metadata": {},
   "outputs": [
    {
     "data": {
      "text/plain": [
       "(10.01273, 47.78346, 13.22759, 49.93191)"
      ]
     },
     "execution_count": 5,
     "metadata": {},
     "output_type": "execute_result"
    }
   ],
   "source": [
    "scenes[2]['spatial_bounds']"
   ]
  },
  {
   "cell_type": "code",
   "execution_count": 6,
   "metadata": {},
   "outputs": [],
   "source": [
    "import folium\n",
    "from shapely.geometry import box\n",
    "\n",
    "\n",
    "m = folium.Map(location=[48.144067, 11], zoom_start=8)\n",
    "for i in range(1):\n",
    "    scene_bounds = box(*scenes[i]['spatial_bounds'])\n",
    "    folium.GeoJson(scene_bounds.__geo_interface__).add_to(m)\n",
    "#m"
   ]
  },
  {
   "cell_type": "code",
   "execution_count": 7,
   "metadata": {},
   "outputs": [
    {
     "data": {
      "text/html": [
       "<div style=\"width:100%;\"><div style=\"position:relative;width:100%;height:0;padding-bottom:60%;\"><span style=\"color:#565656\">Make this Notebook Trusted to load map: File -> Trust Notebook</span><iframe srcdoc=\"&lt;!DOCTYPE html&gt;\n",
       "&lt;html&gt;\n",
       "&lt;head&gt;\n",
       "    \n",
       "    &lt;meta http-equiv=&quot;content-type&quot; content=&quot;text/html; charset=UTF-8&quot; /&gt;\n",
       "    \n",
       "        &lt;script&gt;\n",
       "            L_NO_TOUCH = false;\n",
       "            L_DISABLE_3D = false;\n",
       "        &lt;/script&gt;\n",
       "    \n",
       "    &lt;style&gt;html, body {width: 100%;height: 100%;margin: 0;padding: 0;}&lt;/style&gt;\n",
       "    &lt;style&gt;#map {position:absolute;top:0;bottom:0;right:0;left:0;}&lt;/style&gt;\n",
       "    &lt;script src=&quot;https://cdn.jsdelivr.net/npm/leaflet@1.9.3/dist/leaflet.js&quot;&gt;&lt;/script&gt;\n",
       "    &lt;script src=&quot;https://code.jquery.com/jquery-1.12.4.min.js&quot;&gt;&lt;/script&gt;\n",
       "    &lt;script src=&quot;https://cdn.jsdelivr.net/npm/bootstrap@5.2.2/dist/js/bootstrap.bundle.min.js&quot;&gt;&lt;/script&gt;\n",
       "    &lt;script src=&quot;https://cdnjs.cloudflare.com/ajax/libs/Leaflet.awesome-markers/2.0.2/leaflet.awesome-markers.js&quot;&gt;&lt;/script&gt;\n",
       "    &lt;link rel=&quot;stylesheet&quot; href=&quot;https://cdn.jsdelivr.net/npm/leaflet@1.9.3/dist/leaflet.css&quot;/&gt;\n",
       "    &lt;link rel=&quot;stylesheet&quot; href=&quot;https://cdn.jsdelivr.net/npm/bootstrap@5.2.2/dist/css/bootstrap.min.css&quot;/&gt;\n",
       "    &lt;link rel=&quot;stylesheet&quot; href=&quot;https://netdna.bootstrapcdn.com/bootstrap/3.0.0/css/bootstrap.min.css&quot;/&gt;\n",
       "    &lt;link rel=&quot;stylesheet&quot; href=&quot;https://cdn.jsdelivr.net/npm/@fortawesome/fontawesome-free@6.2.0/css/all.min.css&quot;/&gt;\n",
       "    &lt;link rel=&quot;stylesheet&quot; href=&quot;https://cdnjs.cloudflare.com/ajax/libs/Leaflet.awesome-markers/2.0.2/leaflet.awesome-markers.css&quot;/&gt;\n",
       "    &lt;link rel=&quot;stylesheet&quot; href=&quot;https://cdn.jsdelivr.net/gh/python-visualization/folium/folium/templates/leaflet.awesome.rotate.min.css&quot;/&gt;\n",
       "    \n",
       "            &lt;meta name=&quot;viewport&quot; content=&quot;width=device-width,\n",
       "                initial-scale=1.0, maximum-scale=1.0, user-scalable=no&quot; /&gt;\n",
       "            &lt;style&gt;\n",
       "                #map_820b3726a1075ac5d77d87771fc1f161 {\n",
       "                    position: relative;\n",
       "                    width: 100.0%;\n",
       "                    height: 100.0%;\n",
       "                    left: 0.0%;\n",
       "                    top: 0.0%;\n",
       "                }\n",
       "                .leaflet-container { font-size: 1rem; }\n",
       "            &lt;/style&gt;\n",
       "        \n",
       "&lt;/head&gt;\n",
       "&lt;body&gt;\n",
       "    \n",
       "    \n",
       "            &lt;div class=&quot;folium-map&quot; id=&quot;map_820b3726a1075ac5d77d87771fc1f161&quot; &gt;&lt;/div&gt;\n",
       "        \n",
       "&lt;/body&gt;\n",
       "&lt;script&gt;\n",
       "    \n",
       "    \n",
       "            var map_820b3726a1075ac5d77d87771fc1f161 = L.map(\n",
       "                &quot;map_820b3726a1075ac5d77d87771fc1f161&quot;,\n",
       "                {\n",
       "                    center: [48.144067, 11.0],\n",
       "                    crs: L.CRS.EPSG3857,\n",
       "                    zoom: 8,\n",
       "                    zoomControl: true,\n",
       "                    preferCanvas: false,\n",
       "                }\n",
       "            );\n",
       "\n",
       "            \n",
       "\n",
       "        \n",
       "    \n",
       "            var tile_layer_f9dd77eaa95318f9b5c3a0920011ac55 = L.tileLayer(\n",
       "                &quot;https://{s}.tile.openstreetmap.org/{z}/{x}/{y}.png&quot;,\n",
       "                {&quot;attribution&quot;: &quot;Data by \\u0026copy; \\u003ca target=\\&quot;_blank\\&quot; href=\\&quot;http://openstreetmap.org\\&quot;\\u003eOpenStreetMap\\u003c/a\\u003e, under \\u003ca target=\\&quot;_blank\\&quot; href=\\&quot;http://www.openstreetmap.org/copyright\\&quot;\\u003eODbL\\u003c/a\\u003e.&quot;, &quot;detectRetina&quot;: false, &quot;maxNativeZoom&quot;: 18, &quot;maxZoom&quot;: 18, &quot;minZoom&quot;: 0, &quot;noWrap&quot;: false, &quot;opacity&quot;: 1, &quot;subdomains&quot;: &quot;abc&quot;, &quot;tms&quot;: false}\n",
       "            ).addTo(map_820b3726a1075ac5d77d87771fc1f161);\n",
       "        \n",
       "    \n",
       "\n",
       "        function geo_json_be7a184347bda22635126dd8b407065d_onEachFeature(feature, layer) {\n",
       "            layer.on({\n",
       "            });\n",
       "        };\n",
       "        var geo_json_be7a184347bda22635126dd8b407065d = L.geoJson(null, {\n",
       "                onEachFeature: geo_json_be7a184347bda22635126dd8b407065d_onEachFeature,\n",
       "            \n",
       "        });\n",
       "\n",
       "        function geo_json_be7a184347bda22635126dd8b407065d_add (data) {\n",
       "            geo_json_be7a184347bda22635126dd8b407065d\n",
       "                .addData(data)\n",
       "                .addTo(map_820b3726a1075ac5d77d87771fc1f161);\n",
       "        }\n",
       "            geo_json_be7a184347bda22635126dd8b407065d_add({&quot;coordinates&quot;: [[[10.01273, 48.22772], [12.49379, 47.78346], [13.22759, 49.48145], [10.66308, 49.93191], [10.01273, 48.22772]]], &quot;type&quot;: &quot;Polygon&quot;});\n",
       "\n",
       "        \n",
       "&lt;/script&gt;\n",
       "&lt;/html&gt;\" style=\"position:absolute;width:100%;height:100%;left:0;top:0;border:none !important;\" allowfullscreen webkitallowfullscreen mozallowfullscreen></iframe></div></div>"
      ],
      "text/plain": [
       "<folium.folium.Map at 0x11068f3a0>"
      ]
     },
     "execution_count": 7,
     "metadata": {},
     "output_type": "execute_result"
    }
   ],
   "source": [
    "m = folium.Map(location=[48.144067, 11], zoom_start=8)\n",
    "folium.GeoJson(scenes[2]['spatial_coverage'].__geo_interface__).add_to(m)\n",
    "m\n",
    "#scenes[2]['spatial_coverage']"
   ]
  },
  {
   "attachments": {},
   "cell_type": "markdown",
   "metadata": {},
   "source": [
    "#### Download L1TP Product for NDVI and EVI Calculations"
   ]
  },
  {
   "cell_type": "code",
   "execution_count": 8,
   "metadata": {},
   "outputs": [
    {
     "name": "stdout",
     "output_type": "stream",
     "text": [
      "Download failed with dataset id 1 of 2. Re-trying with the next one.\n"
     ]
    }
   ],
   "source": [
    "from landsatxplore.earthexplorer import EarthExplorer\n",
    "\n",
    "ee = EarthExplorer(credentials['usgs']['username'], credentials['usgs']['password'])\n",
    "\n",
    "ee.download('LC08_L1TP_193026_20220803_20220806_02_T1', output_dir='/Users/maltegenschow/Documents/Uni/SoSe23/Data Science Project/data/Landsat')\n",
    "\n",
    "ee.logout()"
   ]
  },
  {
   "attachments": {},
   "cell_type": "markdown",
   "metadata": {},
   "source": [
    "#### Download L2SP Product for LST Calcualtion"
   ]
  },
  {
   "cell_type": "code",
   "execution_count": 9,
   "metadata": {},
   "outputs": [
    {
     "name": "stdout",
     "output_type": "stream",
     "text": [
      "Download failed with dataset id 1 of 3. Re-trying with the next one.\n",
      "None of the archived ids succeeded! Update necessary!\n"
     ]
    },
    {
     "ename": "EarthExplorerError",
     "evalue": "",
     "output_type": "error",
     "traceback": [
      "\u001b[0;31m---------------------------------------------------------------------------\u001b[0m",
      "\u001b[0;31mEarthExplorerError\u001b[0m                        Traceback (most recent call last)",
      "File \u001b[0;32m~/.pyenv/versions/3.10.1/envs/image_self_learn/lib/python3.10/site-packages/landsatxplore/earthexplorer.py:196\u001b[0m, in \u001b[0;36mEarthExplorer.download\u001b[0;34m(self, identifier, output_dir, dataset, timeout, skip, overwrite)\u001b[0m\n\u001b[1;32m    193\u001b[0m     url \u001b[39m=\u001b[39m EE_DOWNLOAD_URL\u001b[39m.\u001b[39mformat(\n\u001b[1;32m    194\u001b[0m         data_product_id\u001b[39m=\u001b[39mdataset_id, entity_id\u001b[39m=\u001b[39mentity_id\n\u001b[1;32m    195\u001b[0m     )\n\u001b[0;32m--> 196\u001b[0m     filename \u001b[39m=\u001b[39m \u001b[39mself\u001b[39;49m\u001b[39m.\u001b[39;49m_download(\n\u001b[1;32m    197\u001b[0m         url, output_dir, timeout\u001b[39m=\u001b[39;49mtimeout, skip\u001b[39m=\u001b[39;49mskip, overwrite\u001b[39m=\u001b[39;49moverwrite\n\u001b[1;32m    198\u001b[0m     )\n\u001b[1;32m    199\u001b[0m \u001b[39mexcept\u001b[39;00m EarthExplorerError:\n",
      "File \u001b[0;32m~/.pyenv/versions/3.10.1/envs/image_self_learn/lib/python3.10/site-packages/landsatxplore/earthexplorer.py:86\u001b[0m, in \u001b[0;36mEarthExplorer._download\u001b[0;34m(self, url, output_dir, timeout, chunk_size, skip, overwrite)\u001b[0m\n\u001b[1;32m     85\u001b[0m \u001b[39mif\u001b[39;00m error_msg:\n\u001b[0;32m---> 86\u001b[0m     \u001b[39mraise\u001b[39;00m EarthExplorerError(error_msg)\n\u001b[1;32m     87\u001b[0m download_url \u001b[39m=\u001b[39m r\u001b[39m.\u001b[39mjson()\u001b[39m.\u001b[39mget(\u001b[39m\"\u001b[39m\u001b[39murl\u001b[39m\u001b[39m\"\u001b[39m)\n",
      "\u001b[0;31mEarthExplorerError\u001b[0m: Download is not available",
      "\nDuring handling of the above exception, another exception occurred:\n",
      "\u001b[0;31mEarthExplorerError\u001b[0m                        Traceback (most recent call last)",
      "Cell \u001b[0;32mIn[9], line 5\u001b[0m\n\u001b[1;32m      1\u001b[0m \u001b[39mfrom\u001b[39;00m \u001b[39mlandsatxplore\u001b[39;00m\u001b[39m.\u001b[39;00m\u001b[39mearthexplorer\u001b[39;00m \u001b[39mimport\u001b[39;00m EarthExplorer\n\u001b[1;32m      3\u001b[0m ee \u001b[39m=\u001b[39m EarthExplorer(credentials[\u001b[39m'\u001b[39m\u001b[39musgs\u001b[39m\u001b[39m'\u001b[39m][\u001b[39m'\u001b[39m\u001b[39musername\u001b[39m\u001b[39m'\u001b[39m], credentials[\u001b[39m'\u001b[39m\u001b[39musgs\u001b[39m\u001b[39m'\u001b[39m][\u001b[39m'\u001b[39m\u001b[39mpassword\u001b[39m\u001b[39m'\u001b[39m])\n\u001b[0;32m----> 5\u001b[0m ee\u001b[39m.\u001b[39;49mdownload(\u001b[39m'\u001b[39;49m\u001b[39mLC08_L2SP_193026_20220803_20220806_02_T1\u001b[39;49m\u001b[39m'\u001b[39;49m, output_dir\u001b[39m=\u001b[39;49m\u001b[39m'\u001b[39;49m\u001b[39m/Users/maltegenschow/Documents/Uni/SoSe23/Data Science Project/data/Landsat\u001b[39;49m\u001b[39m'\u001b[39;49m)\n\u001b[1;32m      7\u001b[0m ee\u001b[39m.\u001b[39mlogout()\n",
      "File \u001b[0;32m~/.pyenv/versions/3.10.1/envs/image_self_learn/lib/python3.10/site-packages/landsatxplore/earthexplorer.py:205\u001b[0m, in \u001b[0;36mEarthExplorer.download\u001b[0;34m(self, identifier, output_dir, dataset, timeout, skip, overwrite)\u001b[0m\n\u001b[1;32m    203\u001b[0m         \u001b[39melse\u001b[39;00m:\n\u001b[1;32m    204\u001b[0m             \u001b[39mprint\u001b[39m(\u001b[39m'\u001b[39m\u001b[39mNone of the archived ids succeeded! Update necessary!\u001b[39m\u001b[39m'\u001b[39m)\n\u001b[0;32m--> 205\u001b[0m             \u001b[39mraise\u001b[39;00m EarthExplorerError()\n\u001b[1;32m    206\u001b[0m \u001b[39mreturn\u001b[39;00m filename\n",
      "\u001b[0;31mEarthExplorerError\u001b[0m: "
     ]
    }
   ],
   "source": [
    "from landsatxplore.earthexplorer import EarthExplorer\n",
    "\n",
    "ee = EarthExplorer(credentials['usgs']['username'], credentials['usgs']['password'])\n",
    "\n",
    "ee.download('LC08_L2SP_193026_20220803_20220806_02_T1', output_dir='/Users/maltegenschow/Documents/Uni/SoSe23/Data Science Project/data/Landsat')\n",
    "\n",
    "ee.logout()"
   ]
  }
 ],
 "metadata": {
  "kernelspec": {
   "display_name": "image_self_learn",
   "language": "python",
   "name": "python3"
  },
  "language_info": {
   "codemirror_mode": {
    "name": "ipython",
    "version": 3
   },
   "file_extension": ".py",
   "mimetype": "text/x-python",
   "name": "python",
   "nbconvert_exporter": "python",
   "pygments_lexer": "ipython3",
   "version": "3.10.1"
  },
  "orig_nbformat": 4
 },
 "nbformat": 4,
 "nbformat_minor": 2
}
