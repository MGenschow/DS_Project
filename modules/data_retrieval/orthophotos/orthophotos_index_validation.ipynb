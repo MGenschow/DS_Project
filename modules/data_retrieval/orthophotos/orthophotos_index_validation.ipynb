{
 "cells": [
  {
   "cell_type": "code",
   "execution_count": null,
   "metadata": {},
   "outputs": [],
   "source": [
    "import pandas as pd\n",
    "import xml.etree.ElementTree as ET \n",
    "import urllib\n",
    "import re\n",
    "import os\n",
    "import geopandas as gpd\n",
    "import rasterio\n",
    "import rasterio.warp\n",
    "from shapely.geometry import Polygon\n",
    "from shapely.geometry import mapping\n",
    "\n",
    "import preprocessing_orthophotos"
   ]
  },
  {
   "attachments": {},
   "cell_type": "markdown",
   "metadata": {},
   "source": [
    "### Download and Parse all metalink files to create complete index of DOP40 orthophotos"
   ]
  },
  {
   "cell_type": "code",
   "execution_count": null,
   "metadata": {},
   "outputs": [],
   "source": [
    "indexer = preprocessing_orthophotos.orthophoto_indexer()\n",
    "#indexer.download_metalink_per_regierungsbezirk(override=False)\n",
    "indexer.create_complete_index()"
   ]
  },
  {
   "cell_type": "code",
   "execution_count": null,
   "metadata": {},
   "outputs": [],
   "source": [
    "df = pd.read_pickle('metalink_files/complete_index.pkl')\n",
    "df.head(4)"
   ]
  },
  {
   "attachments": {},
   "cell_type": "markdown",
   "metadata": {},
   "source": [
    "### Check for duplicates"
   ]
  },
  {
   "cell_type": "code",
   "execution_count": null,
   "metadata": {},
   "outputs": [],
   "source": [
    "# Check duplicates due to double mentioning in different Regierungsbezirken\n",
    "df.duplicated(subset = df.columns.to_list()[:-1]).sum()"
   ]
  },
  {
   "cell_type": "code",
   "execution_count": null,
   "metadata": {},
   "outputs": [],
   "source": [
    "# Drop duplicates\n",
    "df.drop_duplicates(subset = df.columns.to_list()[:-1], keep = 'first', inplace = True)"
   ]
  },
  {
   "attachments": {},
   "cell_type": "markdown",
   "metadata": {},
   "source": [
    "### Show all available orthophotos: "
   ]
  },
  {
   "cell_type": "code",
   "execution_count": null,
   "metadata": {},
   "outputs": [],
   "source": [
    "colors = {'Oberbayern': '#ff0000',\n",
    "          'Niederbayern': '#00ff00',\n",
    "          'Oberpfalz': '#0000ff',\n",
    "          'Oberfranken': '#ffff00',\n",
    "          'Mittelfranken': '#ff00ff',\n",
    "          'Unterfranken': '#00ffff',\n",
    "          'Schwaben': '#000000'}"
   ]
  },
  {
   "cell_type": "code",
   "execution_count": null,
   "metadata": {},
   "outputs": [],
   "source": [
    "def create_geojson_by_regierungsbezirk(df, bezirk):\n",
    "    polygon_list = df[df.Regierungsbezirk == bezirk].polygon_4326.to_list()\n",
    "    features = []\n",
    "    for i, polygon in enumerate(polygon_list):\n",
    "        # create a dictionary of properties for each polygon\n",
    "        properties = {\n",
    "            'name': bezirk,\n",
    "            'color': colors[bezirk],\n",
    "        }\n",
    "        features.append({\n",
    "            'type': 'Feature',\n",
    "            'geometry': mapping(polygon),\n",
    "            'properties': properties\n",
    "        })\n",
    "\n",
    "    # create a GeoJSON object with all the features\n",
    "    geojson = {\n",
    "        'type': 'FeatureCollection',\n",
    "        'features': features\n",
    "    }\n",
    "    return geojson"
   ]
  },
  {
   "cell_type": "code",
   "execution_count": null,
   "metadata": {},
   "outputs": [],
   "source": [
    "geojson_files = {bezirk:create_geojson_by_regierungsbezirk(df, bezirk) for bezirk in df.Regierungsbezirk.unique()}\n",
    "geojson_files.keys()"
   ]
  },
  {
   "cell_type": "code",
   "execution_count": null,
   "metadata": {},
   "outputs": [],
   "source": [
    "import folium\n",
    "m = folium.Map(location=[48.9, 11.4], zoom_start=10)\n",
    "# Add the GeoJSON as a layer to the map\n",
    "for geojson in geojson_files.values():\n",
    "    folium.GeoJson(geojson,\n",
    "                style_function=lambda feature: {\n",
    "                    'fillColor': feature['properties']['color'],\n",
    "                    'color': feature['properties']['color'],\n",
    "                    'weight': 1,\n",
    "                    'fillOpacity': 0.5,\n",
    "                    'tooltip': feature['properties']['name']\n",
    "                }).add_to(m)\n",
    "\n",
    "m"
   ]
  },
  {
   "cell_type": "code",
   "execution_count": null,
   "metadata": {},
   "outputs": [],
   "source": []
  },
  {
   "cell_type": "code",
   "execution_count": null,
   "metadata": {},
   "outputs": [],
   "source": []
  }
 ],
 "metadata": {
  "kernelspec": {
   "display_name": "image_self_learn",
   "language": "python",
   "name": "python3"
  },
  "language_info": {
   "codemirror_mode": {
    "name": "ipython",
    "version": 3
   },
   "file_extension": ".py",
   "mimetype": "text/x-python",
   "name": "python",
   "nbconvert_exporter": "python",
   "pygments_lexer": "ipython3",
   "version": "3.10.1"
  },
  "orig_nbformat": 4
 },
 "nbformat": 4,
 "nbformat_minor": 2
}
