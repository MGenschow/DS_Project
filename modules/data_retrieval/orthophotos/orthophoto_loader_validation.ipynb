{
 "cells": [
  {
   "attachments": {},
   "cell_type": "markdown",
   "metadata": {},
   "source": [
    "### Class development"
   ]
  },
  {
   "cell_type": "code",
   "execution_count": 1,
   "metadata": {},
   "outputs": [
    {
     "data": {
      "text/plain": [
       "{'data': {'workspace': None,\n",
       "  'data': '/Users/maltegenschow/Documents/Uni/SoSe23/Data Science Project/data',\n",
       "  'orthophotos': '/Users/maltegenschow/Documents/Uni/SoSe23/Data Science Project/data/orthophotos',\n",
       "  'building_boxes': '/Users/maltegenschow/Documents/Uni/SoSe23/Data Science Project/data/building_boxes'},\n",
       " 'bboxes': {'munich': [[[11.3589406916, 47.9954751264],\n",
       "    [11.8363322352, 47.9954751264],\n",
       "    [11.8363322352, 48.2838537733],\n",
       "    [11.3589406916, 48.2838537733],\n",
       "    [11.3589406916, 47.9954751264]]]}}"
      ]
     },
     "execution_count": 1,
     "metadata": {},
     "output_type": "execute_result"
    }
   ],
   "source": [
    "import yaml\n",
    "config_path = '/Users/maltegenschow/Documents/Uni/SoSe23/Data Science Project/DS_Project/modules/config.yml'\n",
    "with open(config_path, 'r') as f:\n",
    "    config = yaml.load(f, Loader=yaml.FullLoader)\n",
    "config"
   ]
  },
  {
   "cell_type": "code",
   "execution_count": 2,
   "metadata": {},
   "outputs": [],
   "source": [
    "import preprocessing_orthophotos\n",
    "\n",
    "from shapely.geometry import box, Polygon, mapping\n",
    "import pandas as pd"
   ]
  },
  {
   "cell_type": "code",
   "execution_count": 3,
   "metadata": {},
   "outputs": [],
   "source": [
    "# Define bbox for the area of interest\n",
    "bbox = [11.55, 48.16, 11.56, 48.17]\n",
    "bbox = box(*bbox)\n",
    "\n",
    "loader = preprocessing_orthophotos.OrthophotoLoader(config['data']['orthophotos'], bbox, download=True)\n",
    "relevant_tiles = loader.get_relevant_tiles()"
   ]
  },
  {
   "cell_type": "code",
   "execution_count": 4,
   "metadata": {},
   "outputs": [
    {
     "data": {
      "text/html": [
       "<div style=\"width:100%;\"><div style=\"position:relative;width:100%;height:0;padding-bottom:60%;\"><span style=\"color:#565656\">Make this Notebook Trusted to load map: File -> Trust Notebook</span><iframe srcdoc=\"&lt;!DOCTYPE html&gt;\n",
       "&lt;html&gt;\n",
       "&lt;head&gt;\n",
       "    \n",
       "    &lt;meta http-equiv=&quot;content-type&quot; content=&quot;text/html; charset=UTF-8&quot; /&gt;\n",
       "    \n",
       "        &lt;script&gt;\n",
       "            L_NO_TOUCH = false;\n",
       "            L_DISABLE_3D = false;\n",
       "        &lt;/script&gt;\n",
       "    \n",
       "    &lt;style&gt;html, body {width: 100%;height: 100%;margin: 0;padding: 0;}&lt;/style&gt;\n",
       "    &lt;style&gt;#map {position:absolute;top:0;bottom:0;right:0;left:0;}&lt;/style&gt;\n",
       "    &lt;script src=&quot;https://cdn.jsdelivr.net/npm/leaflet@1.9.3/dist/leaflet.js&quot;&gt;&lt;/script&gt;\n",
       "    &lt;script src=&quot;https://code.jquery.com/jquery-1.12.4.min.js&quot;&gt;&lt;/script&gt;\n",
       "    &lt;script src=&quot;https://cdn.jsdelivr.net/npm/bootstrap@5.2.2/dist/js/bootstrap.bundle.min.js&quot;&gt;&lt;/script&gt;\n",
       "    &lt;script src=&quot;https://cdnjs.cloudflare.com/ajax/libs/Leaflet.awesome-markers/2.0.2/leaflet.awesome-markers.js&quot;&gt;&lt;/script&gt;\n",
       "    &lt;link rel=&quot;stylesheet&quot; href=&quot;https://cdn.jsdelivr.net/npm/leaflet@1.9.3/dist/leaflet.css&quot;/&gt;\n",
       "    &lt;link rel=&quot;stylesheet&quot; href=&quot;https://cdn.jsdelivr.net/npm/bootstrap@5.2.2/dist/css/bootstrap.min.css&quot;/&gt;\n",
       "    &lt;link rel=&quot;stylesheet&quot; href=&quot;https://netdna.bootstrapcdn.com/bootstrap/3.0.0/css/bootstrap.min.css&quot;/&gt;\n",
       "    &lt;link rel=&quot;stylesheet&quot; href=&quot;https://cdn.jsdelivr.net/npm/@fortawesome/fontawesome-free@6.2.0/css/all.min.css&quot;/&gt;\n",
       "    &lt;link rel=&quot;stylesheet&quot; href=&quot;https://cdnjs.cloudflare.com/ajax/libs/Leaflet.awesome-markers/2.0.2/leaflet.awesome-markers.css&quot;/&gt;\n",
       "    &lt;link rel=&quot;stylesheet&quot; href=&quot;https://cdn.jsdelivr.net/gh/python-visualization/folium/folium/templates/leaflet.awesome.rotate.min.css&quot;/&gt;\n",
       "    \n",
       "            &lt;meta name=&quot;viewport&quot; content=&quot;width=device-width,\n",
       "                initial-scale=1.0, maximum-scale=1.0, user-scalable=no&quot; /&gt;\n",
       "            &lt;style&gt;\n",
       "                #map_f135f75be79f07420d6a9a1b427bae1d {\n",
       "                    position: relative;\n",
       "                    width: 100.0%;\n",
       "                    height: 100.0%;\n",
       "                    left: 0.0%;\n",
       "                    top: 0.0%;\n",
       "                }\n",
       "                .leaflet-container { font-size: 1rem; }\n",
       "            &lt;/style&gt;\n",
       "        \n",
       "&lt;/head&gt;\n",
       "&lt;body&gt;\n",
       "    \n",
       "    \n",
       "            &lt;div class=&quot;folium-map&quot; id=&quot;map_f135f75be79f07420d6a9a1b427bae1d&quot; &gt;&lt;/div&gt;\n",
       "        \n",
       "&lt;/body&gt;\n",
       "&lt;script&gt;\n",
       "    \n",
       "    \n",
       "            var map_f135f75be79f07420d6a9a1b427bae1d = L.map(\n",
       "                &quot;map_f135f75be79f07420d6a9a1b427bae1d&quot;,\n",
       "                {\n",
       "                    center: [48.165, 11.555],\n",
       "                    crs: L.CRS.EPSG3857,\n",
       "                    zoom: 13,\n",
       "                    zoomControl: true,\n",
       "                    preferCanvas: false,\n",
       "                }\n",
       "            );\n",
       "\n",
       "            \n",
       "\n",
       "        \n",
       "    \n",
       "            var tile_layer_43a2a7d433cdf8e4f338177b70935849 = L.tileLayer(\n",
       "                &quot;https://{s}.tile.openstreetmap.org/{z}/{x}/{y}.png&quot;,\n",
       "                {&quot;attribution&quot;: &quot;Data by \\u0026copy; \\u003ca target=\\&quot;_blank\\&quot; href=\\&quot;http://openstreetmap.org\\&quot;\\u003eOpenStreetMap\\u003c/a\\u003e, under \\u003ca target=\\&quot;_blank\\&quot; href=\\&quot;http://www.openstreetmap.org/copyright\\&quot;\\u003eODbL\\u003c/a\\u003e.&quot;, &quot;detectRetina&quot;: false, &quot;maxNativeZoom&quot;: 18, &quot;maxZoom&quot;: 18, &quot;minZoom&quot;: 0, &quot;noWrap&quot;: false, &quot;opacity&quot;: 1, &quot;subdomains&quot;: &quot;abc&quot;, &quot;tms&quot;: false}\n",
       "            ).addTo(map_f135f75be79f07420d6a9a1b427bae1d);\n",
       "        \n",
       "    \n",
       "        function geo_json_245f6c3430bf137dac2e40f04ecf0007_styler(feature) {\n",
       "            switch(feature.id) {\n",
       "                default:\n",
       "                    return {&quot;color&quot;: &quot;#1052EA&quot;, &quot;opacity&quot;: 0.65, &quot;weight&quot;: 1};\n",
       "            }\n",
       "        }\n",
       "\n",
       "        function geo_json_245f6c3430bf137dac2e40f04ecf0007_onEachFeature(feature, layer) {\n",
       "            layer.on({\n",
       "            });\n",
       "        };\n",
       "        var geo_json_245f6c3430bf137dac2e40f04ecf0007 = L.geoJson(null, {\n",
       "                onEachFeature: geo_json_245f6c3430bf137dac2e40f04ecf0007_onEachFeature,\n",
       "            \n",
       "                style: geo_json_245f6c3430bf137dac2e40f04ecf0007_styler,\n",
       "        });\n",
       "\n",
       "        function geo_json_245f6c3430bf137dac2e40f04ecf0007_add (data) {\n",
       "            geo_json_245f6c3430bf137dac2e40f04ecf0007\n",
       "                .addData(data)\n",
       "                .addTo(map_f135f75be79f07420d6a9a1b427bae1d);\n",
       "        }\n",
       "            geo_json_245f6c3430bf137dac2e40f04ecf0007_add({&quot;features&quot;: [{&quot;geometry&quot;: {&quot;coordinates&quot;: [[[11.541531967506149, 48.158131736886894], [11.555412064352163, 48.158131736886894], [11.555412064352163, 48.16682170900243], [11.541531967506149, 48.16682170900243], [11.541531967506149, 48.158131736886894]]], &quot;type&quot;: &quot;Polygon&quot;}, &quot;id&quot;: &quot;0&quot;, &quot;properties&quot;: {}, &quot;type&quot;: &quot;Feature&quot;}, {&quot;geometry&quot;: {&quot;coordinates&quot;: [[[11.554965392265727, 48.157833734304845], [11.568847612567343, 48.157833734304845], [11.568847612567343, 48.166522043947566], [11.554965392265727, 48.166522043947566], [11.554965392265727, 48.157833734304845]]], &quot;type&quot;: &quot;Polygon&quot;}, &quot;id&quot;: &quot;1&quot;, &quot;properties&quot;: {}, &quot;type&quot;: &quot;Feature&quot;}, {&quot;geometry&quot;: {&quot;coordinates&quot;: [[[11.555412064352163, 48.16682170900243], [11.56929684684083, 48.16682170900243], [11.56929684684083, 48.1755099074154], [11.555412064352163, 48.1755099074154], [11.555412064352163, 48.16682170900243]]], &quot;type&quot;: &quot;Polygon&quot;}, &quot;id&quot;: &quot;2&quot;, &quot;properties&quot;: {}, &quot;type&quot;: &quot;Feature&quot;}, {&quot;geometry&quot;: {&quot;coordinates&quot;: [[[11.541976297275248, 48.16711980504298], [11.555858955300353, 48.16711980504298], [11.555858955300353, 48.175809666452196], [11.541976297275248, 48.175809666452196], [11.541976297275248, 48.16711980504298]]], &quot;type&quot;: &quot;Polygon&quot;}, &quot;id&quot;: &quot;3&quot;, &quot;properties&quot;: {}, &quot;type&quot;: &quot;Feature&quot;}], &quot;type&quot;: &quot;FeatureCollection&quot;});\n",
       "\n",
       "        \n",
       "    \n",
       "        function geo_json_557595f9b700e031f3442d63361c99c2_styler(feature) {\n",
       "            switch(feature.id) {\n",
       "                default:\n",
       "                    return {&quot;color&quot;: &quot;#DE1D0D&quot;};\n",
       "            }\n",
       "        }\n",
       "\n",
       "        function geo_json_557595f9b700e031f3442d63361c99c2_onEachFeature(feature, layer) {\n",
       "            layer.on({\n",
       "            });\n",
       "        };\n",
       "        var geo_json_557595f9b700e031f3442d63361c99c2 = L.geoJson(null, {\n",
       "                onEachFeature: geo_json_557595f9b700e031f3442d63361c99c2_onEachFeature,\n",
       "            \n",
       "                style: geo_json_557595f9b700e031f3442d63361c99c2_styler,\n",
       "        });\n",
       "\n",
       "        function geo_json_557595f9b700e031f3442d63361c99c2_add (data) {\n",
       "            geo_json_557595f9b700e031f3442d63361c99c2\n",
       "                .addData(data)\n",
       "                .addTo(map_f135f75be79f07420d6a9a1b427bae1d);\n",
       "        }\n",
       "            geo_json_557595f9b700e031f3442d63361c99c2_add({&quot;features&quot;: [{&quot;geometry&quot;: {&quot;coordinates&quot;: [[[11.56, 48.16], [11.56, 48.17], [11.55, 48.17], [11.55, 48.16], [11.56, 48.16]]], &quot;type&quot;: &quot;Polygon&quot;}, &quot;id&quot;: &quot;0&quot;, &quot;type&quot;: &quot;Feature&quot;}], &quot;type&quot;: &quot;FeatureCollection&quot;});\n",
       "\n",
       "        \n",
       "&lt;/script&gt;\n",
       "&lt;/html&gt;\" style=\"position:absolute;width:100%;height:100%;left:0;top:0;border:none !important;\" allowfullscreen webkitallowfullscreen mozallowfullscreen></iframe></div></div>"
      ],
      "text/plain": [
       "<folium.folium.Map at 0x1064dba30>"
      ]
     },
     "execution_count": 4,
     "metadata": {},
     "output_type": "execute_result"
    }
   ],
   "source": [
    "from shapely.geometry import mapping\n",
    "features = []\n",
    "for polygon in list(relevant_tiles['polygon_4326']):\n",
    "    features.append({\n",
    "                'type': 'Feature',\n",
    "                'geometry': mapping(polygon),\n",
    "                'properties': {}\n",
    "            })\n",
    "geojson = {\n",
    "        'type': 'FeatureCollection',\n",
    "        'features': features\n",
    "    }\n",
    "\n",
    "style1 = {\"color\": \"#1052EA\",\"weight\": 1,\"opacity\": 0.65}\n",
    "style2 = {'color': '#DE1D0D'}\n",
    "\n",
    "import folium\n",
    "m = folium.Map(location=[bbox.centroid.y, bbox.centroid.x], zoom_start=13)\n",
    "folium.GeoJson(geojson, style_function=lambda x:style1).add_to(m)\n",
    "folium.GeoJson(bbox.__geo_interface__, style_function=lambda x:style2).add_to(m)\n",
    "\n",
    "m"
   ]
  },
  {
   "cell_type": "code",
   "execution_count": 5,
   "metadata": {},
   "outputs": [
    {
     "name": "stdout",
     "output_type": "stream",
     "text": [
      "Number of relevant tiles: 4\n",
      "Total size of potential downloads: 0.08 GB\n",
      "Number of missing tiles: 0\n",
      "Total size of missing tiles: 0.0 GB\n"
     ]
    }
   ],
   "source": [
    "loader._print_report(relevant_tiles)"
   ]
  },
  {
   "cell_type": "code",
   "execution_count": 6,
   "metadata": {},
   "outputs": [
    {
     "name": "stdout",
     "output_type": "stream",
     "text": [
      "No missing tiles\n"
     ]
    }
   ],
   "source": [
    "loader.download_missing_tiles()"
   ]
  },
  {
   "cell_type": "code",
   "execution_count": null,
   "metadata": {},
   "outputs": [],
   "source": []
  }
 ],
 "metadata": {
  "kernelspec": {
   "display_name": "image_self_learn",
   "language": "python",
   "name": "python3"
  },
  "language_info": {
   "codemirror_mode": {
    "name": "ipython",
    "version": 3
   },
   "file_extension": ".py",
   "mimetype": "text/x-python",
   "name": "python",
   "nbconvert_exporter": "python",
   "pygments_lexer": "ipython3",
   "version": "3.10.1"
  },
  "orig_nbformat": 4
 },
 "nbformat": 4,
 "nbformat_minor": 2
}
