{
 "cells": [
  {
   "cell_type": "code",
   "execution_count": 1,
   "metadata": {},
   "outputs": [],
   "source": [
    "import xml.etree.ElementTree as ET\n",
    "import pandas as pd\n",
    "import numpy as np\n",
    "import geopandas as gpd\n",
    "import folium\n",
    "from glob import glob\n",
    "from tqdm import tqdm\n",
    "import pickle"
   ]
  },
  {
   "cell_type": "code",
   "execution_count": 2,
   "metadata": {},
   "outputs": [],
   "source": [
    "import yaml\n",
    "config_path = '/home/tu/tu_tu/tu_zxmav84/DS_Project/modules/config.yml'\n",
    "with open(config_path, 'r') as f:\n",
    "    config = yaml.load(f, Loader=yaml.FullLoader)\n",
    "city_3d_model_path = config['data']['city_3d_model']"
   ]
  },
  {
   "cell_type": "code",
   "execution_count": 3,
   "metadata": {},
   "outputs": [],
   "source": [
    "with open(city_3d_model_path + 'processed/processed_roofs.pkl', 'rb') as f:\n",
    "    gdf = pickle.load(f)"
   ]
  },
  {
   "cell_type": "code",
   "execution_count": 4,
   "metadata": {},
   "outputs": [],
   "source": [
    "# See documentation of LOD2 here: https://www.ldbv.bayern.de/file/pdf/6723/Kundeninformation_LoD2.pdf\n",
    "roof_types = {1000:'Flachdach', 3100:'Satteldach', 2100:'Pultdach', 3200:'Walmdach', 3300:'Walmdach'}\n",
    "gdf['official_rooftype'] = gdf.roofType.map(roof_types)\n",
    "gdf['official_rooftype'] = np.where(gdf.official_rooftype.isna(), 'Other', gdf.official_rooftype)"
   ]
  },
  {
   "cell_type": "code",
   "execution_count": 5,
   "metadata": {},
   "outputs": [],
   "source": [
    "# def roof_type(x):\n",
    "#     if all(value == 90 for value in x):\n",
    "#         return 'flat'\n",
    "#     elif any(value == 90 for value in x):\n",
    "#         return 'mixed'\n",
    "#     else:\n",
    "#         return 'gable'\n",
    "\n",
    "# gdf['type'] = gdf['Dachneigung'].apply(roof_type)"
   ]
  },
  {
   "cell_type": "code",
   "execution_count": 6,
   "metadata": {},
   "outputs": [],
   "source": [
    "# make is much smaller for plotting\n",
    "from shapely.geometry import box\n",
    "bbox = box(*[11.557617,48.123591,11.599846,48.147649])\n",
    "gdf = gdf[gdf.geometry_4326.intersects(bbox)]"
   ]
  },
  {
   "cell_type": "code",
   "execution_count": 7,
   "metadata": {},
   "outputs": [],
   "source": [
    "# Constructing the convex hull for the collection of points\n",
    "# gdf['convex_hull'] = gdf.geometry_4326.convex_hull"
   ]
  },
  {
   "cell_type": "code",
   "execution_count": 15,
   "metadata": {},
   "outputs": [],
   "source": [
    "styles_dict = {\"Flachdach\":{\"fillColor\": \"#ff0000\", 'color':'#ff0000', 'weight':0, 'fillOpacity':0.7},\n",
    "\"Satteldach\":{\"fillColor\": \"#0000ff\", 'color':'#0000ff', 'weight':0, 'fillOpacity':0.7},\n",
    "\"Pultdach\":{\"fillColor\": \"#00ff00\", 'color':'#00ff00', 'weight':0, 'fillOpacity':0.7},\n",
    "\"Walmdach\":{\"fillColor\": \"#3C3C3C\", 'color':'#3C3C3C', 'weight':0, 'fillOpacity':0.7},\n",
    "\"Other\" :{\"fillColor\": \"#000000\", 'color':'#000000', 'weight':0, 'fillOpacity':0.7}}\n",
    "\n",
    "m = folium.Map(location=[gdf.iloc[0,:].geometry_4326.centroid.y, gdf.iloc[0,:].geometry_4326.centroid.x], zoom_start=18)\n",
    "tile = folium.TileLayer(\n",
    "        tiles = 'https://server.arcgisonline.com/ArcGIS/rest/services/World_Imagery/MapServer/tile/{z}/{y}/{x}',\n",
    "        attr = 'Esri', name = 'Esri Satellite', overlay = False, control = True).add_to(m)\n",
    "# add roof types\n",
    "for label in gdf.official_rooftype.unique():\n",
    "        folium.GeoJson(gdf[gdf.official_rooftype == label].geometry_4326, style_function=lambda x, label=label: styles_dict[label], name = label).add_to(m)\n",
    "folium.LayerControl().add_to(m)\n",
    "m.save('roof_types.html')\n",
    "#m"
   ]
  }
 ],
 "metadata": {
  "kernelspec": {
   "display_name": "image_self_learn",
   "language": "python",
   "name": "python3"
  },
  "language_info": {
   "codemirror_mode": {
    "name": "ipython",
    "version": 3
   },
   "file_extension": ".py",
   "mimetype": "text/x-python",
   "name": "python",
   "nbconvert_exporter": "python",
   "pygments_lexer": "ipython3",
   "version": "3.10.11"
  },
  "orig_nbformat": 4
 },
 "nbformat": 4,
 "nbformat_minor": 2
}
