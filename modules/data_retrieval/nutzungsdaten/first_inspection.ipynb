{
 "cells": [
  {
   "cell_type": "code",
   "execution_count": 1,
   "metadata": {},
   "outputs": [],
   "source": [
    "import pandas as pd\n",
    "import geopandas as gpd\n",
    "import folium\n",
    "import numpy as np\n",
    "from glob import glob\n",
    "from tqdm.notebook import tqdm"
   ]
  },
  {
   "attachments": {},
   "cell_type": "markdown",
   "metadata": {},
   "source": [
    "### Download SHAPE Files from OpenData"
   ]
  },
  {
   "cell_type": "code",
   "execution_count": null,
   "metadata": {},
   "outputs": [],
   "source": [
    "import os\n",
    "import urllib.request\n",
    "import zipfile\n",
    "\n",
    "urls = [\n",
    "    \"https://download1.bayernwolke.de/a/tn/lkr/tn_09162.zip\", \n",
    "    \"https://download1.bayernwolke.de/a/tn/lkr/tn_09184.zip\",\n",
    "    \"https://download1.bayernwolke.de/a/tn/lkr/tn_09175.zip\",\n",
    "    \"https://download1.bayernwolke.de/a/tn/lkr/tn_09177.zip\",\n",
    "    \"https://download1.bayernwolke.de/a/tn/lkr/tn_09178.zip\",\n",
    "    \"https://download1.bayernwolke.de/a/tn/lkr/tn_09186.zip\", \n",
    "    \"https://download1.bayernwolke.de/a/tn/lkr/tn_09174.zip\",\n",
    "    \"https://download1.bayernwolke.de/a/tn/lkr/tn_09179.zip\", \n",
    "    \"https://download1.bayernwolke.de/a/tn/lkr/tn_09188.zip\", \n",
    "]\n",
    "\n",
    "base_path = '/Users/maltegenschow/Documents/Uni/SoSe23/Data Science Project/data/Nutzungsdaten/'\n",
    "\n",
    "def download_and_unzip(urls, folder_path):\n",
    "    # Create the folder if it doesn't exist\n",
    "    os.makedirs(folder_path, exist_ok=True)\n",
    "\n",
    "    for url in urls:\n",
    "        # Extract the filename from the URL\n",
    "        filename = url.split(\"/\")[-1]\n",
    "        file_path = os.path.join(folder_path, filename)\n",
    "\n",
    "        # Download the file\n",
    "        print(f\"Downloading {filename}...\")\n",
    "        urllib.request.urlretrieve(url, file_path)\n",
    "\n",
    "        #Create a folder with the same name as the zip file\n",
    "        zip_folder = os.path.join(folder_path, os.path.splitext(filename)[0])\n",
    "        os.makedirs(zip_folder, exist_ok=True)\n",
    "\n",
    "        # Unzip the file into the created folder\n",
    "        print(f\"Unzipping {filename}...\")\n",
    "        with zipfile.ZipFile(file_path, 'r') as zip_ref:\n",
    "            zip_ref.extractall(zip_folder)\n",
    "\n",
    "        # Remove the downloaded zip file\n",
    "        os.remove(file_path)\n",
    "\n",
    "download_and_unzip(urls, base_path)"
   ]
  },
  {
   "attachments": {},
   "cell_type": "markdown",
   "metadata": {},
   "source": [
    "### Read in Data"
   ]
  },
  {
   "cell_type": "code",
   "execution_count": 2,
   "metadata": {},
   "outputs": [
    {
     "data": {
      "application/vnd.jupyter.widget-view+json": {
       "model_id": "40b48eb0a9e041dc97cbc105ec1877ec",
       "version_major": 2,
       "version_minor": 0
      },
      "text/plain": [
       "  0%|          | 0/9 [00:00<?, ?it/s]"
      ]
     },
     "metadata": {},
     "output_type": "display_data"
    }
   ],
   "source": [
    "# Read in all the files\n",
    "dfs = []\n",
    "base_path = '/Users/maltegenschow/Documents/Uni/SoSe23/Data Science Project/data/Nutzungsdaten/'\n",
    "for file in tqdm(glob(base_path + '*/'), leave=False):\n",
    "    dfs.append(gpd.read_file(file))"
   ]
  },
  {
   "cell_type": "code",
   "execution_count": 3,
   "metadata": {},
   "outputs": [
    {
     "data": {
      "text/html": [
       "<div>\n",
       "<style scoped>\n",
       "    .dataframe tbody tr th:only-of-type {\n",
       "        vertical-align: middle;\n",
       "    }\n",
       "\n",
       "    .dataframe tbody tr th {\n",
       "        vertical-align: top;\n",
       "    }\n",
       "\n",
       "    .dataframe thead th {\n",
       "        text-align: right;\n",
       "    }\n",
       "</style>\n",
       "<table border=\"1\" class=\"dataframe\">\n",
       "  <thead>\n",
       "    <tr style=\"text-align: right;\">\n",
       "      <th></th>\n",
       "      <th>gml_id</th>\n",
       "      <th>oid</th>\n",
       "      <th>aktualit</th>\n",
       "      <th>nutzart</th>\n",
       "      <th>bez</th>\n",
       "      <th>name</th>\n",
       "      <th>geometry</th>\n",
       "      <th>geometry_4326</th>\n",
       "    </tr>\n",
       "  </thead>\n",
       "  <tbody>\n",
       "    <tr>\n",
       "      <th>0</th>\n",
       "      <td>DEBYvAAAAAAO0JHXTN</td>\n",
       "      <td>DEBYvAAAAAAO0JHXTN</td>\n",
       "      <td>2021-03-30Z</td>\n",
       "      <td>Bahnverkehr</td>\n",
       "      <td>NaN</td>\n",
       "      <td>NaN</td>\n",
       "      <td>POLYGON ((692157.370 5351040.150, 692166.340 5...</td>\n",
       "      <td>POLYGON ((11.59031 48.28337, 11.59043 48.28342...</td>\n",
       "    </tr>\n",
       "    <tr>\n",
       "      <th>1</th>\n",
       "      <td>DEBYvAAAAAAGb9tuTN</td>\n",
       "      <td>DEBYvAAAAAAGb9tuTN</td>\n",
       "      <td>2014-11-25Z</td>\n",
       "      <td>Bahnverkehr</td>\n",
       "      <td>NaN</td>\n",
       "      <td>NaN</td>\n",
       "      <td>POLYGON ((691799.730 5351745.450, 691801.590 5...</td>\n",
       "      <td>POLYGON ((11.58581 48.28982, 11.58584 48.28984...</td>\n",
       "    </tr>\n",
       "    <tr>\n",
       "      <th>2</th>\n",
       "      <td>DEBYvAAAAABOhz9bTN</td>\n",
       "      <td>DEBYvAAAAABOhz9bTN</td>\n",
       "      <td>2020-10-05Z</td>\n",
       "      <td>Bahnverkehr</td>\n",
       "      <td>NaN</td>\n",
       "      <td>NaN</td>\n",
       "      <td>POLYGON ((691704.730 5351823.300, 691716.450 5...</td>\n",
       "      <td>POLYGON ((11.58457 48.29055, 11.58473 48.29063...</td>\n",
       "    </tr>\n",
       "    <tr>\n",
       "      <th>3</th>\n",
       "      <td>DEBYvAAAAABOhz6sTN</td>\n",
       "      <td>DEBYvAAAAABOhz6sTN</td>\n",
       "      <td>2017-08-29Z</td>\n",
       "      <td>Bahnverkehr</td>\n",
       "      <td>NaN</td>\n",
       "      <td>NaN</td>\n",
       "      <td>POLYGON ((694317.060 5353466.820, 694391.290 5...</td>\n",
       "      <td>POLYGON ((11.62051 48.30452, 11.62153 48.30491...</td>\n",
       "    </tr>\n",
       "    <tr>\n",
       "      <th>4</th>\n",
       "      <td>DEBYvAAAAAAGcAEVTN</td>\n",
       "      <td>DEBYvAAAAAAGcAEVTN</td>\n",
       "      <td>2021-03-30Z</td>\n",
       "      <td>Bahnverkehr</td>\n",
       "      <td>NaN</td>\n",
       "      <td>NaN</td>\n",
       "      <td>POLYGON ((692071.160 5351303.380, 692076.730 5...</td>\n",
       "      <td>POLYGON ((11.58927 48.28577, 11.58934 48.28580...</td>\n",
       "    </tr>\n",
       "    <tr>\n",
       "      <th>...</th>\n",
       "      <td>...</td>\n",
       "      <td>...</td>\n",
       "      <td>...</td>\n",
       "      <td>...</td>\n",
       "      <td>...</td>\n",
       "      <td>...</td>\n",
       "      <td>...</td>\n",
       "      <td>...</td>\n",
       "    </tr>\n",
       "    <tr>\n",
       "      <th>466844</th>\n",
       "      <td>DEBYvAAAAAAGjZL1TN</td>\n",
       "      <td>DEBYvAAAAAAGjZL1TN</td>\n",
       "      <td>2023-05-12Z</td>\n",
       "      <td>Gehölz</td>\n",
       "      <td>NaN</td>\n",
       "      <td>NaN</td>\n",
       "      <td>POLYGON ((675021.920 5347536.540, 675051.440 5...</td>\n",
       "      <td>POLYGON ((11.35808 48.25685, 11.35847 48.25660...</td>\n",
       "    </tr>\n",
       "    <tr>\n",
       "      <th>466845</th>\n",
       "      <td>DEBYvAAAAAAGbpZ0TN</td>\n",
       "      <td>DEBYvAAAAAAGbpZ0TN</td>\n",
       "      <td>2023-05-12Z</td>\n",
       "      <td>Straßenverkehr</td>\n",
       "      <td>NaN</td>\n",
       "      <td>Am Riedlsberg</td>\n",
       "      <td>POLYGON ((675274.480 5347453.500, 675295.170 5...</td>\n",
       "      <td>POLYGON ((11.36145 48.25603, 11.36173 48.25602...</td>\n",
       "    </tr>\n",
       "    <tr>\n",
       "      <th>466846</th>\n",
       "      <td>DEBYvAAAAAAGZ4v3TN</td>\n",
       "      <td>DEBYvAAAAAAGZ4v3TN</td>\n",
       "      <td>2023-05-12Z</td>\n",
       "      <td>Weg</td>\n",
       "      <td>NaN</td>\n",
       "      <td>NaN</td>\n",
       "      <td>POLYGON ((675051.440 5347509.290, 675055.610 5...</td>\n",
       "      <td>POLYGON ((11.35847 48.25660, 11.35853 48.25662...</td>\n",
       "    </tr>\n",
       "    <tr>\n",
       "      <th>466847</th>\n",
       "      <td>DEBYvAAAAAAGRXbkTN</td>\n",
       "      <td>DEBYvAAAAAAGRXbkTN</td>\n",
       "      <td>2023-05-12Z</td>\n",
       "      <td>Wohnbaufläche</td>\n",
       "      <td>NaN</td>\n",
       "      <td>NaN</td>\n",
       "      <td>POLYGON ((675327.720 5347514.070, 675357.290 5...</td>\n",
       "      <td>POLYGON ((11.36219 48.25656, 11.36259 48.25653...</td>\n",
       "    </tr>\n",
       "    <tr>\n",
       "      <th>466848</th>\n",
       "      <td>DEBYvAAAAACD77gZTN</td>\n",
       "      <td>DEBYvAAAAACD77gZTN</td>\n",
       "      <td>2023-05-12Z</td>\n",
       "      <td>Wohnbaufläche</td>\n",
       "      <td>NaN</td>\n",
       "      <td>NaN</td>\n",
       "      <td>POLYGON ((675322.480 5347590.060, 675322.610 5...</td>\n",
       "      <td>POLYGON ((11.36215 48.25725, 11.36215 48.25726...</td>\n",
       "    </tr>\n",
       "  </tbody>\n",
       "</table>\n",
       "<p>466849 rows × 8 columns</p>\n",
       "</div>"
      ],
      "text/plain": [
       "                    gml_id                 oid     aktualit         nutzart  \\\n",
       "0       DEBYvAAAAAAO0JHXTN  DEBYvAAAAAAO0JHXTN  2021-03-30Z     Bahnverkehr   \n",
       "1       DEBYvAAAAAAGb9tuTN  DEBYvAAAAAAGb9tuTN  2014-11-25Z     Bahnverkehr   \n",
       "2       DEBYvAAAAABOhz9bTN  DEBYvAAAAABOhz9bTN  2020-10-05Z     Bahnverkehr   \n",
       "3       DEBYvAAAAABOhz6sTN  DEBYvAAAAABOhz6sTN  2017-08-29Z     Bahnverkehr   \n",
       "4       DEBYvAAAAAAGcAEVTN  DEBYvAAAAAAGcAEVTN  2021-03-30Z     Bahnverkehr   \n",
       "...                    ...                 ...          ...             ...   \n",
       "466844  DEBYvAAAAAAGjZL1TN  DEBYvAAAAAAGjZL1TN  2023-05-12Z          Gehölz   \n",
       "466845  DEBYvAAAAAAGbpZ0TN  DEBYvAAAAAAGbpZ0TN  2023-05-12Z  Straßenverkehr   \n",
       "466846  DEBYvAAAAAAGZ4v3TN  DEBYvAAAAAAGZ4v3TN  2023-05-12Z             Weg   \n",
       "466847  DEBYvAAAAAAGRXbkTN  DEBYvAAAAAAGRXbkTN  2023-05-12Z   Wohnbaufläche   \n",
       "466848  DEBYvAAAAACD77gZTN  DEBYvAAAAACD77gZTN  2023-05-12Z   Wohnbaufläche   \n",
       "\n",
       "        bez           name                                           geometry  \\\n",
       "0       NaN            NaN  POLYGON ((692157.370 5351040.150, 692166.340 5...   \n",
       "1       NaN            NaN  POLYGON ((691799.730 5351745.450, 691801.590 5...   \n",
       "2       NaN            NaN  POLYGON ((691704.730 5351823.300, 691716.450 5...   \n",
       "3       NaN            NaN  POLYGON ((694317.060 5353466.820, 694391.290 5...   \n",
       "4       NaN            NaN  POLYGON ((692071.160 5351303.380, 692076.730 5...   \n",
       "...     ...            ...                                                ...   \n",
       "466844  NaN            NaN  POLYGON ((675021.920 5347536.540, 675051.440 5...   \n",
       "466845  NaN  Am Riedlsberg  POLYGON ((675274.480 5347453.500, 675295.170 5...   \n",
       "466846  NaN            NaN  POLYGON ((675051.440 5347509.290, 675055.610 5...   \n",
       "466847  NaN            NaN  POLYGON ((675327.720 5347514.070, 675357.290 5...   \n",
       "466848  NaN            NaN  POLYGON ((675322.480 5347590.060, 675322.610 5...   \n",
       "\n",
       "                                            geometry_4326  \n",
       "0       POLYGON ((11.59031 48.28337, 11.59043 48.28342...  \n",
       "1       POLYGON ((11.58581 48.28982, 11.58584 48.28984...  \n",
       "2       POLYGON ((11.58457 48.29055, 11.58473 48.29063...  \n",
       "3       POLYGON ((11.62051 48.30452, 11.62153 48.30491...  \n",
       "4       POLYGON ((11.58927 48.28577, 11.58934 48.28580...  \n",
       "...                                                   ...  \n",
       "466844  POLYGON ((11.35808 48.25685, 11.35847 48.25660...  \n",
       "466845  POLYGON ((11.36145 48.25603, 11.36173 48.25602...  \n",
       "466846  POLYGON ((11.35847 48.25660, 11.35853 48.25662...  \n",
       "466847  POLYGON ((11.36219 48.25656, 11.36259 48.25653...  \n",
       "466848  POLYGON ((11.36215 48.25725, 11.36215 48.25726...  \n",
       "\n",
       "[466849 rows x 8 columns]"
      ]
     },
     "execution_count": 3,
     "metadata": {},
     "output_type": "execute_result"
    }
   ],
   "source": [
    "# Concatenate all the files into one dataframe\n",
    "df = gpd.GeoDataFrame(pd.concat(dfs, ignore_index=True))\n",
    "# Convert the geometry column to the correct CRS\n",
    "df['geometry_4326'] = df['geometry'].to_crs(epsg=4326)\n",
    "df"
   ]
  },
  {
   "attachments": {},
   "cell_type": "markdown",
   "metadata": {},
   "source": [
    "### Check Data"
   ]
  },
  {
   "cell_type": "code",
   "execution_count": null,
   "metadata": {},
   "outputs": [],
   "source": [
    "df.nutzart.unique()"
   ]
  },
  {
   "cell_type": "code",
   "execution_count": null,
   "metadata": {},
   "outputs": [],
   "source": [
    "df.bez.nunique()"
   ]
  },
  {
   "attachments": {},
   "cell_type": "markdown",
   "metadata": {},
   "source": [
    "### Relabel to our use case"
   ]
  },
  {
   "cell_type": "code",
   "execution_count": 4,
   "metadata": {},
   "outputs": [],
   "source": [
    "df['Label'] = ''\n",
    "df['Label'] = np.where(df.nutzart.isin(['Fließgewässer', 'Stehendes Gewässer', 'Hafenbecken', 'Schiffsverkehr']), 'Wasser', df['Label'])\n",
    "df['Label'] = np.where(df.nutzart.isin(['Wald', 'Forstwirtschaft']), 'Wald', df['Label'])\n",
    "df['Label'] = np.where(df.nutzart.isin(['Wohnbaufläche']), 'Wohnbaufläche', df['Label'])\n",
    "df['Label'] = np.where(df.nutzart.isin(['Straßenverkehr', 'Weg']), 'Verkehrsfläche/Weg', df['Label'])\n",
    "df['Label'] = np.where(df.nutzart.isin(['Landwirtschaft']), 'Landwirtschaft', df['Label'])\n",
    "df['Label'] = np.where(df.nutzart.isin(['Industrie- und Gewerbefläche']), 'Gewerbe', df['Label'])\n",
    "df['Label'] = np.where(df.nutzart.isin(['Bahnverkehr', 'Flugverkehr']), 'Bahn/Flughafen', df['Label'])\n",
    "df['Label'] = np.where(df.nutzart.isin(['Sport-, Freizeit- und Erholungsfläche']), 'Sport/Freizeit', df['Label'])\n",
    "df['Label'] = np.where(df.nutzart.isin(['Fläche besonderer funktionaler Prägung']), 'Fläche besonderer funktionaler Prägung', df['Label'])\n",
    "df['Label'] = np.where(df.nutzart.isin(['Fläche gemischter Nutzung']), 'Fläche gemischter Nutzung', df['Label'])"
   ]
  },
  {
   "attachments": {},
   "cell_type": "markdown",
   "metadata": {},
   "source": [
    "#### Subset only to Inner City for Plotting"
   ]
  },
  {
   "cell_type": "code",
   "execution_count": 12,
   "metadata": {},
   "outputs": [],
   "source": [
    "from shapely.geometry import box\n",
    "bbox = box(*[11.483459,48.056972,11.704559,48.196303])\n",
    "df_subset = df[df.geometry_4326.intersects(bbox)]"
   ]
  },
  {
   "attachments": {},
   "cell_type": "markdown",
   "metadata": {},
   "source": [
    "### Plot some data"
   ]
  },
  {
   "cell_type": "code",
   "execution_count": 15,
   "metadata": {},
   "outputs": [
    {
     "data": {
      "application/vnd.jupyter.widget-view+json": {
       "model_id": "419dcaf5d0cb4e61b08d53dae8b0e898",
       "version_major": 2,
       "version_minor": 0
      },
      "text/plain": [
       "  0%|          | 0/11 [00:00<?, ?it/s]"
      ]
     },
     "metadata": {},
     "output_type": "display_data"
    }
   ],
   "source": [
    "m = folium.Map(location  = [df.iloc[0,:].geometry_4326.centroid.y, df.iloc[0,:].geometry_4326.centroid.x], zoom_start = 12)\n",
    "style_options = {\n",
    "    'fillColor': '#0000ff',      # Fill color in hexadecimal format\n",
    "    'color': '#0000ff',          # Line color in hexadecimal format\n",
    "    'weight': 2,                 # Line weight in pixels\n",
    "    'fillOpacity': 0.2           # Fill opacity (0.0 transparent to 1.0 opaque)\n",
    "}\n",
    "tile = folium.TileLayer(\n",
    "        tiles = 'https://server.arcgisonline.com/ArcGIS/rest/services/World_Imagery/MapServer/tile/{z}/{y}/{x}',\n",
    "        attr = 'Esri', name = 'Esri Satellite', overlay = False, control = True).add_to(m)\n",
    "\n",
    "for label in tqdm(df_subset.Label.unique(), leave = False):\n",
    "    folium.GeoJson(df_subset[df_subset.Label == label].geometry_4326, style_function=lambda x:style_options, name = label).add_to(m)\n",
    "#folium.GeoJson(df[df.nutzart == 'Wald'].geometry_4326, style_function=lambda x:style_options, name = 'Water').add_to(m)\n",
    "folium.LayerControl().add_to(m)\n",
    "#m\n",
    "m.save(\"Nutzungsdaten_Exploration.html\")"
   ]
  }
 ],
 "metadata": {
  "kernelspec": {
   "display_name": "image_self_learn",
   "language": "python",
   "name": "python3"
  },
  "language_info": {
   "codemirror_mode": {
    "name": "ipython",
    "version": 3
   },
   "file_extension": ".py",
   "mimetype": "text/x-python",
   "name": "python",
   "nbconvert_exporter": "python",
   "pygments_lexer": "ipython3",
   "version": "3.10.1"
  },
  "orig_nbformat": 4
 },
 "nbformat": 4,
 "nbformat_minor": 2
}
