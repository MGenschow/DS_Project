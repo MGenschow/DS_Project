{
 "cells": [
  {
   "cell_type": "code",
   "execution_count": 4,
   "metadata": {},
   "outputs": [],
   "source": [
    "import pandas as pd\n",
    "import geopandas as gpd\n",
    "import folium\n",
    "import numpy as np\n",
    "from glob import glob\n",
    "from tqdm.notebook import tqdm\n",
    "import pickle"
   ]
  },
  {
   "cell_type": "code",
   "execution_count": 1,
   "metadata": {},
   "outputs": [],
   "source": [
    "import yaml\n",
    "config_path = '/home/tu/tu_tu/tu_zxmav84/DS_Project/modules/config.yml'\n",
    "with open(config_path, 'r') as f:\n",
    "    config = yaml.load(f, Loader=yaml.FullLoader)\n",
    "nutzungsdaten_path = config['data']['nutzungsdaten']"
   ]
  },
  {
   "attachments": {},
   "cell_type": "markdown",
   "metadata": {},
   "source": [
    "### Read in Data"
   ]
  },
  {
   "cell_type": "code",
   "execution_count": 6,
   "metadata": {},
   "outputs": [],
   "source": [
    "with open(nutzungsdaten_path + 'nutzungsdaten_complete.pkl', 'rb') as handle:\n",
    "    df = pickle.load(handle)"
   ]
  },
  {
   "attachments": {},
   "cell_type": "markdown",
   "metadata": {},
   "source": [
    "### Check Data"
   ]
  },
  {
   "cell_type": "code",
   "execution_count": 7,
   "metadata": {},
   "outputs": [
    {
     "data": {
      "text/plain": [
       "array(['Bahnverkehr', 'Fläche besonderer funktionaler Prägung',\n",
       "       'Fließgewässer', 'Flugverkehr', 'Fläche gemischter Nutzung',\n",
       "       'Friedhof', 'Gehölz', 'Industrie- und Gewerbefläche',\n",
       "       'Landwirtschaft', 'Platz', 'Stehendes Gewässer',\n",
       "       'Sport-, Freizeit- und Erholungsfläche', 'Straßenverkehr', 'Sumpf',\n",
       "       'Tagebau, Grube, Steinbruch', 'Unland/Vegetationslose Fläche',\n",
       "       'Wald', 'Weg', 'Wohnbaufläche', 'Moor', 'Halde', 'Heide',\n",
       "       'Hafenbecken', 'Schiffsverkehr'], dtype=object)"
      ]
     },
     "execution_count": 7,
     "metadata": {},
     "output_type": "execute_result"
    }
   ],
   "source": [
    "df.nutzart.unique()"
   ]
  },
  {
   "cell_type": "code",
   "execution_count": 8,
   "metadata": {},
   "outputs": [
    {
     "data": {
      "text/plain": [
       "66"
      ]
     },
     "execution_count": 8,
     "metadata": {},
     "output_type": "execute_result"
    }
   ],
   "source": [
    "df.bez.nunique()"
   ]
  },
  {
   "attachments": {},
   "cell_type": "markdown",
   "metadata": {},
   "source": [
    "### Relabel to our use case"
   ]
  },
  {
   "cell_type": "code",
   "execution_count": 9,
   "metadata": {},
   "outputs": [],
   "source": [
    "df['Label'] = ''\n",
    "df['Label'] = np.where(df.nutzart.isin(['Fließgewässer', 'Stehendes Gewässer', 'Hafenbecken', 'Schiffsverkehr']), 'Wasser', df['Label'])\n",
    "df['Label'] = np.where(df.nutzart.isin(['Wald', 'Forstwirtschaft']), 'Wald', df['Label'])\n",
    "df['Label'] = np.where(df.nutzart.isin(['Wohnbaufläche']), 'Wohnbaufläche', df['Label'])\n",
    "df['Label'] = np.where(df.nutzart.isin(['Straßenverkehr', 'Weg']), 'Verkehrsfläche/Weg', df['Label'])\n",
    "df['Label'] = np.where(df.nutzart.isin(['Landwirtschaft']), 'Landwirtschaft', df['Label'])\n",
    "df['Label'] = np.where(df.nutzart.isin(['Industrie- und Gewerbefläche']), 'Gewerbe', df['Label'])\n",
    "df['Label'] = np.where(df.nutzart.isin(['Bahnverkehr', 'Flugverkehr']), 'Bahn/Flughafen', df['Label'])\n",
    "df['Label'] = np.where(df.nutzart.isin(['Sport-, Freizeit- und Erholungsfläche']), 'Sport/Freizeit', df['Label'])\n",
    "df['Label'] = np.where(df.nutzart.isin(['Fläche besonderer funktionaler Prägung']), 'Fläche besonderer funktionaler Prägung', df['Label'])\n",
    "df['Label'] = np.where(df.nutzart.isin(['Fläche gemischter Nutzung']), 'Fläche gemischter Nutzung', df['Label'])"
   ]
  },
  {
   "attachments": {},
   "cell_type": "markdown",
   "metadata": {},
   "source": [
    "#### Subset only to Inner City for Plotting"
   ]
  },
  {
   "cell_type": "code",
   "execution_count": 10,
   "metadata": {},
   "outputs": [],
   "source": [
    "from shapely.geometry import box\n",
    "bbox = box(*[11.483459,48.056972,11.704559,48.196303])\n",
    "df_subset = df[df.geometry_4326.intersects(bbox)]"
   ]
  },
  {
   "attachments": {},
   "cell_type": "markdown",
   "metadata": {},
   "source": [
    "### Plot some data"
   ]
  },
  {
   "cell_type": "code",
   "execution_count": 11,
   "metadata": {},
   "outputs": [
    {
     "data": {
      "application/vnd.jupyter.widget-view+json": {
       "model_id": "b0fef14b1a4e443db0ed15ece3b469e1",
       "version_major": 2,
       "version_minor": 0
      },
      "text/plain": [
       "  0%|          | 0/11 [00:00<?, ?it/s]"
      ]
     },
     "metadata": {},
     "output_type": "display_data"
    }
   ],
   "source": [
    "m = folium.Map(location  = [df.iloc[0,:].geometry_4326.centroid.y, df.iloc[0,:].geometry_4326.centroid.x], zoom_start = 12)\n",
    "style_options = {\n",
    "    'fillColor': '#0000ff',      # Fill color in hexadecimal format\n",
    "    'color': '#0000ff',          # Line color in hexadecimal format\n",
    "    'weight': 2,                 # Line weight in pixels\n",
    "    'fillOpacity': 0.2           # Fill opacity (0.0 transparent to 1.0 opaque)\n",
    "}\n",
    "tile = folium.TileLayer(\n",
    "        tiles = 'https://server.arcgisonline.com/ArcGIS/rest/services/World_Imagery/MapServer/tile/{z}/{y}/{x}',\n",
    "        attr = 'Esri', name = 'Esri Satellite', overlay = False, control = True).add_to(m)\n",
    "\n",
    "for label in tqdm(df_subset.Label.unique(), leave = False):\n",
    "    folium.GeoJson(df_subset[df_subset.Label == label].geometry_4326, style_function=lambda x:style_options, name = label).add_to(m)\n",
    "#folium.GeoJson(df[df.nutzart == 'Wald'].geometry_4326, style_function=lambda x:style_options, name = 'Water').add_to(m)\n",
    "folium.LayerControl().add_to(m)\n",
    "#m\n",
    "m.save(\"Nutzungsdaten_Exploration.html\")"
   ]
  }
 ],
 "metadata": {
  "kernelspec": {
   "display_name": "image_self_learn",
   "language": "python",
   "name": "python3"
  },
  "language_info": {
   "codemirror_mode": {
    "name": "ipython",
    "version": 3
   },
   "file_extension": ".py",
   "mimetype": "text/x-python",
   "name": "python",
   "nbconvert_exporter": "python",
   "pygments_lexer": "ipython3",
   "version": "3.10.11"
  },
  "orig_nbformat": 4
 },
 "nbformat": 4,
 "nbformat_minor": 2
}
