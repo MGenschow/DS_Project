{
 "cells": [
  {
   "cell_type": "code",
   "execution_count": 1,
   "metadata": {},
   "outputs": [
    {
     "data": {
      "text/plain": [
       "'/pfs/data5/home/tu/tu_tu/tu_zxmav84/DS_Project/modules/models/segmentation/MMSegmentation'"
      ]
     },
     "execution_count": 1,
     "metadata": {},
     "output_type": "execute_result"
    }
   ],
   "source": [
    "%pwd"
   ]
  },
  {
   "cell_type": "markdown",
   "metadata": {},
   "source": [
    "### Explanation: \n",
    "For detailed explanation see official docs [here](https://mmsegmentation.readthedocs.io/en/latest/user_guides/2_dataset_prepare.html#isprs-potsdam)\n",
    "\n",
    "- The code below uses the data preparation module of the mmsegmentation toolbox\n",
    "- I specify the output directory as a separate directory for potsdam data \"data/potsdam_mmseg\" to distinguish the data from my own prepared datasets"
   ]
  },
  {
   "cell_type": "code",
   "execution_count": 5,
   "metadata": {},
   "outputs": [
    {
     "name": "stdout",
     "output_type": "stream",
     "text": [
      "Making directories...\n",
      "Find the data ['/pfs/work7/workspace/scratch/tu_zxmav84-ds_project/data/potsdam/5_Labels_all_noBoundary.zip', '/pfs/work7/workspace/scratch/tu_zxmav84-ds_project/data/potsdam/2_Ortho_RGB.zip', '/pfs/work7/workspace/scratch/tu_zxmav84-ds_project/data/potsdam/4_Ortho_RGBIR.zip', '/pfs/work7/workspace/scratch/tu_zxmav84-ds_project/data/potsdam/5_Labels_all.zip']\n",
      "[>>>>>>>>>>>>>>>>>>>>>>>>>>>>>>>>] 38/38, 0.5 task/s, elapsed: 77s, ETA:     0s[                                                  ] 0/38, elapsed: 0s, ETA:[                                                  ] 0/38, elapsed: 0s, ETA:[                                                  ] 0/38, elapsed: 0s, ETA:Removing the temporary files...\n",
      "Done!\n"
     ]
    }
   ],
   "source": [
    "!python /pfs/work7/workspace/scratch/tu_zxmav84-ds_project/data/mmsegmentation/tools/dataset_converters/potsdam.py /pfs/work7/workspace/scratch/tu_zxmav84-ds_project/data/potsdam --out_dir /pfs/work7/workspace/scratch/tu_zxmav84-ds_project/data/potsdam_mmseg"
   ]
  }
 ],
 "metadata": {
  "interpreter": {
   "hash": "31e0d8b7548c35cddbff061e0be1eda61b251161626f7fdb4db5aea046cf03e4"
  },
  "kernelspec": {
   "display_name": "Python 3.10.11 ('DS_Project': conda)",
   "language": "python",
   "name": "python3"
  },
  "language_info": {
   "codemirror_mode": {
    "name": "ipython",
    "version": 3
   },
   "file_extension": ".py",
   "mimetype": "text/x-python",
   "name": "python",
   "nbconvert_exporter": "python",
   "pygments_lexer": "ipython3",
   "version": "3.10.11"
  },
  "orig_nbformat": 4
 },
 "nbformat": 4,
 "nbformat_minor": 2
}
