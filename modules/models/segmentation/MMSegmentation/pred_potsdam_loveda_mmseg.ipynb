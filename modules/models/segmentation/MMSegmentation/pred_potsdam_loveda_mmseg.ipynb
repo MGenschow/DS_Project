{
 "cells": [
  {
   "cell_type": "code",
   "execution_count": 1,
   "metadata": {},
   "outputs": [
    {
     "data": {
      "text/plain": [
       "'/pfs/data5/home/tu/tu_tu/tu_zxmav84/DS_Project/modules/models/segmentation/MMSegmentation'"
      ]
     },
     "execution_count": 1,
     "metadata": {},
     "output_type": "execute_result"
    }
   ],
   "source": [
    "%pwd"
   ]
  },
  {
   "cell_type": "markdown",
   "metadata": {},
   "source": [
    "### Potsdam\n",
    "For detailed explanation see official docs [here](https://mmsegmentation.readthedocs.io/en/latest/user_guides/2_dataset_prepare.html#isprs-potsdam)\n",
    "\n",
    "- The code below uses the data preparation module of the mmsegmentation toolbox\n",
    "- I specify the output directory as a separate directory for potsdam data \"data/potsdam_mmseg\" to distinguish the data from my own prepared datasets"
   ]
  },
  {
   "cell_type": "code",
   "execution_count": 5,
   "metadata": {},
   "outputs": [
    {
     "name": "stdout",
     "output_type": "stream",
     "text": [
      "Making directories...\n",
      "Find the data ['/pfs/work7/workspace/scratch/tu_zxmav84-ds_project/data/potsdam/5_Labels_all_noBoundary.zip', '/pfs/work7/workspace/scratch/tu_zxmav84-ds_project/data/potsdam/2_Ortho_RGB.zip', '/pfs/work7/workspace/scratch/tu_zxmav84-ds_project/data/potsdam/4_Ortho_RGBIR.zip', '/pfs/work7/workspace/scratch/tu_zxmav84-ds_project/data/potsdam/5_Labels_all.zip']\n",
      "[>>>>>>>>>>>>>>>>>>>>>>>>>>>>>>>>] 38/38, 0.5 task/s, elapsed: 77s, ETA:     0s[                                                  ] 0/38, elapsed: 0s, ETA:[                                                  ] 0/38, elapsed: 0s, ETA:[                                                  ] 0/38, elapsed: 0s, ETA:Removing the temporary files...\n",
      "Done!\n"
     ]
    }
   ],
   "source": [
    "!python /pfs/work7/workspace/scratch/tu_zxmav84-ds_project/data/mmsegmentation/tools/dataset_converters/potsdam.py /pfs/work7/workspace/scratch/tu_zxmav84-ds_project/data/potsdam --out_dir /pfs/work7/workspace/scratch/tu_zxmav84-ds_project/data/potsdam_mmseg"
   ]
  },
  {
   "cell_type": "markdown",
   "metadata": {},
   "source": [
    "### LoveDA"
   ]
  },
  {
   "cell_type": "code",
   "execution_count": 2,
   "metadata": {},
   "outputs": [
    {
     "name": "stdout",
     "output_type": "stream",
     "text": [
      "--2023-06-05 09:47:48--  https://zenodo.org/record/5706578/files/Train.zip\n",
      "Auflösen des Hostnamens zenodo.org (zenodo.org)… 188.185.124.72\n",
      "Verbindungsaufbau zu zenodo.org (zenodo.org)|188.185.124.72|:443 … verbunden.\n",
      "HTTP-Anforderung gesendet, auf Antwort wird gewartet … 200 OK\n",
      "Länge: 4021669263 (3,7G) [application/octet-stream]\n",
      "Wird in »/pfs/work7/workspace/scratch/tu_zxmav84-ds_project/data/loveda_mmseg/Train.zip« gespeichert.\n",
      "\n",
      "Train.zip           100%[===================>]   3,75G  15,4MB/s    in 3m 30s  \n",
      "\n",
      "2023-06-05 09:51:19 (18,2 MB/s) - »/pfs/work7/workspace/scratch/tu_zxmav84-ds_project/data/loveda_mmseg/Train.zip« gespeichert [4021669263/4021669263]\n",
      "\n",
      "--2023-06-05 09:51:20--  https://zenodo.org/record/5706578/files/Val.zip\n",
      "Auflösen des Hostnamens zenodo.org (zenodo.org)… 188.185.124.72\n",
      "Verbindungsaufbau zu zenodo.org (zenodo.org)|188.185.124.72|:443 … verbunden.\n",
      "HTTP-Anforderung gesendet, auf Antwort wird gewartet … 200 OK\n",
      "Länge: 2425958254 (2,3G) [application/octet-stream]\n",
      "Wird in »/pfs/work7/workspace/scratch/tu_zxmav84-ds_project/data/loveda_mmseg/Val.zip« gespeichert.\n",
      "\n",
      "Val.zip              87%[================>   ]   1,98G   857KB/s    in 4m 27s  \n",
      "\n",
      "2023-06-05 09:55:47 (7,61 MB/s) - Verbindung bei Byte 2129214470 geschlossen. Erneuter Versuch.\n",
      "\n",
      "--2023-06-05 09:55:48--  (Versuch: 2)  https://zenodo.org/record/5706578/files/Val.zip\n",
      "Verbindungsaufbau zu zenodo.org (zenodo.org)|188.185.124.72|:443 … verbunden.\n",
      "HTTP-Anforderung gesendet, auf Antwort wird gewartet … 206 Partial Content\n",
      "Länge: 2425958254 (2,3G), 296743784 (283M) sind noch übrig [application/octet-stream]\n",
      "Wird in »/pfs/work7/workspace/scratch/tu_zxmav84-ds_project/data/loveda_mmseg/Val.zip« gespeichert.\n",
      "\n",
      "Val.zip             100%[+++++++++++++++++==>]   2,26G  18,1MB/s    in 19s     \n",
      "\n",
      "2023-06-05 09:56:08 (14,6 MB/s) - »/pfs/work7/workspace/scratch/tu_zxmav84-ds_project/data/loveda_mmseg/Val.zip« gespeichert [2425958254/2425958254]\n",
      "\n",
      "--2023-06-05 09:56:09--  https://zenodo.org/record/5706578/files/Test.zip\n",
      "Auflösen des Hostnamens zenodo.org (zenodo.org)… 188.185.124.72\n",
      "Verbindungsaufbau zu zenodo.org (zenodo.org)|188.185.124.72|:443 … verbunden.\n",
      "HTTP-Anforderung gesendet, auf Antwort wird gewartet … 200 OK\n",
      "Länge: 3126023212 (2,9G) [application/octet-stream]\n",
      "Wird in »/pfs/work7/workspace/scratch/tu_zxmav84-ds_project/data/loveda_mmseg/Test.zip« gespeichert.\n",
      "\n",
      "Test.zip            100%[===================>]   2,91G  8,87MB/s    in 4m 34s  \n",
      "\n",
      "2023-06-05 10:00:43 (10,9 MB/s) - »/pfs/work7/workspace/scratch/tu_zxmav84-ds_project/data/loveda_mmseg/Test.zip« gespeichert [3126023212/3126023212]\n",
      "\n"
     ]
    }
   ],
   "source": [
    "# Download Train.zip\n",
    "!wget https://zenodo.org/record/5706578/files/Train.zip -P /pfs/work7/workspace/scratch/tu_zxmav84-ds_project/data/loveda_mmseg\n",
    "# Download Val.zip\n",
    "!wget https://zenodo.org/record/5706578/files/Val.zip -P /pfs/work7/workspace/scratch/tu_zxmav84-ds_project/data/loveda_mmseg\n",
    "# Download Test.zip\n",
    "!wget https://zenodo.org/record/5706578/files/Test.zip -P /pfs/work7/workspace/scratch/tu_zxmav84-ds_project/data/loveda_mmseg"
   ]
  },
  {
   "cell_type": "code",
   "execution_count": 5,
   "metadata": {},
   "outputs": [
    {
     "name": "stdout",
     "output_type": "stream",
     "text": [
      "Making directories...\n",
      "Removing the temporary files...\n",
      "Done!\n"
     ]
    }
   ],
   "source": [
    "mmseg_base_path = '/pfs/work7/workspace/scratch/tu_zxmav84-ds_project/data/mmsegmentation/'\n",
    "converter = mmseg_base_path + 'tools/dataset_converters/loveda.py'\n",
    "loveda_path = '/pfs/work7/workspace/scratch/tu_zxmav84-ds_project/data/loveda_mmseg'\n",
    "out_dir = '/pfs/work7/workspace/scratch/tu_zxmav84-ds_project/data/loveda_mmseg'\n",
    "\n",
    "!python {converter} {loveda_path} --out_dir {out_dir}"
   ]
  }
 ],
 "metadata": {
  "interpreter": {
   "hash": "31e0d8b7548c35cddbff061e0be1eda61b251161626f7fdb4db5aea046cf03e4"
  },
  "kernelspec": {
   "display_name": "Python 3.10.11 ('DS_Project': conda)",
   "language": "python",
   "name": "python3"
  },
  "language_info": {
   "codemirror_mode": {
    "name": "ipython",
    "version": 3
   },
   "file_extension": ".py",
   "mimetype": "text/x-python",
   "name": "python",
   "nbconvert_exporter": "python",
   "pygments_lexer": "ipython3",
   "version": "3.10.11"
  },
  "orig_nbformat": 4
 },
 "nbformat": 4,
 "nbformat_minor": 2
}
