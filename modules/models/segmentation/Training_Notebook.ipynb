{
 "cells": [
  {
   "cell_type": "code",
   "execution_count": 1,
   "metadata": {},
   "outputs": [
    {
     "name": "stdout",
     "output_type": "stream",
     "text": [
      "Using cuda as DEVICE\n"
     ]
    }
   ],
   "source": [
    "from train_utils import *"
   ]
  },
  {
   "cell_type": "code",
   "execution_count": 2,
   "metadata": {},
   "outputs": [
    {
     "name": "stdout",
     "output_type": "stream",
     "text": [
      "Indexing files in potsdam/Patched... \n",
      "Found: \t 342 Images \n",
      "\t 342 Mask\n",
      "Length of all files: 333\n",
      "Length of train (266) and test (67): 333\n",
      "Length of train loader: 133; Length of test loader: 34 with batch size 2\n",
      "\n",
      "Evaluating Accuracy on Test Set...\n",
      "\n",
      "\tAccuracy: 26.25\n",
      "Start Training ...\n",
      "Epoch: 0 | Batch 5 / 133 | Loss: 1.8163\n",
      "Epoch: 0 | Batch 10 / 133 | Loss: 1.7559\n",
      "Epoch: 0 | Batch 15 / 133 | Loss: 1.7055\n",
      "Epoch: 0 | Batch 20 / 133 | Loss: 1.6793\n",
      "Epoch: 0 | Batch 25 / 133 | Loss: 1.6456\n",
      "Epoch: 0 | Batch 30 / 133 | Loss: 1.623\n",
      "Epoch: 0 | Batch 35 / 133 | Loss: 1.601\n",
      "Epoch: 0 | Batch 40 / 133 | Loss: 1.5826\n",
      "Epoch: 0 | Batch 45 / 133 | Loss: 1.5616\n",
      "Epoch: 0 | Batch 50 / 133 | Loss: 1.5446\n",
      "Epoch: 0 | Batch 55 / 133 | Loss: 1.5303\n",
      "Epoch: 0 | Batch 60 / 133 | Loss: 1.5096\n",
      "Epoch: 0 | Batch 65 / 133 | Loss: 1.4962\n",
      "Epoch: 0 | Batch 70 / 133 | Loss: 1.476\n",
      "Epoch: 0 | Batch 75 / 133 | Loss: 1.4582\n",
      "Epoch: 0 | Batch 80 / 133 | Loss: 1.4382\n",
      "Epoch: 0 | Batch 85 / 133 | Loss: 1.4239\n",
      "Epoch: 0 | Batch 90 / 133 | Loss: 1.4135\n",
      "Epoch: 0 | Batch 95 / 133 | Loss: 1.4009\n",
      "Epoch: 0 | Batch 100 / 133 | Loss: 1.3935\n",
      "Epoch: 0 | Batch 105 / 133 | Loss: 1.379\n",
      "Epoch: 0 | Batch 110 / 133 | Loss: 1.3697\n",
      "Epoch: 0 | Batch 115 / 133 | Loss: 1.3586\n",
      "Epoch: 0 | Batch 120 / 133 | Loss: 1.3466\n",
      "Epoch: 0 | Batch 125 / 133 | Loss: 1.3344\n",
      "Epoch: 0 | Batch 130 / 133 | Loss: 1.3295\n",
      "\n",
      "Evaluating Accuracy on Test Set...\n",
      "\n",
      "\tAccuracy: 65.02999877929688\n",
      "Epoch: 1 | Batch 5 / 133 | Loss: 1.0753\n",
      "Epoch: 1 | Batch 10 / 133 | Loss: 1.0357\n",
      "Epoch: 1 | Batch 15 / 133 | Loss: 1.0215\n",
      "Epoch: 1 | Batch 20 / 133 | Loss: 1.0389\n",
      "Epoch: 1 | Batch 25 / 133 | Loss: 1.0288\n",
      "Epoch: 1 | Batch 30 / 133 | Loss: 1.0306\n",
      "Epoch: 1 | Batch 35 / 133 | Loss: 1.0361\n",
      "Epoch: 1 | Batch 40 / 133 | Loss: 1.0352\n",
      "Epoch: 1 | Batch 45 / 133 | Loss: 1.0299\n",
      "Epoch: 1 | Batch 50 / 133 | Loss: 1.0302\n",
      "Epoch: 1 | Batch 55 / 133 | Loss: 1.035\n",
      "Epoch: 1 | Batch 60 / 133 | Loss: 1.0232\n",
      "Epoch: 1 | Batch 65 / 133 | Loss: 1.0282\n",
      "Epoch: 1 | Batch 70 / 133 | Loss: 1.0201\n",
      "Epoch: 1 | Batch 75 / 133 | Loss: 1.0137\n",
      "Epoch: 1 | Batch 80 / 133 | Loss: 1.006\n",
      "Epoch: 1 | Batch 85 / 133 | Loss: 1.0035\n",
      "Epoch: 1 | Batch 90 / 133 | Loss: 1.0035\n",
      "Epoch: 1 | Batch 95 / 133 | Loss: 1.0029\n",
      "Epoch: 1 | Batch 100 / 133 | Loss: 1.0035\n",
      "Epoch: 1 | Batch 105 / 133 | Loss: 0.9985\n",
      "Epoch: 1 | Batch 110 / 133 | Loss: 0.9984\n",
      "Epoch: 1 | Batch 115 / 133 | Loss: 0.9956\n",
      "Epoch: 1 | Batch 120 / 133 | Loss: 0.9925\n",
      "Epoch: 1 | Batch 125 / 133 | Loss: 0.9883\n",
      "Epoch: 1 | Batch 130 / 133 | Loss: 0.9899\n",
      "\n",
      "Evaluating Accuracy on Test Set...\n"
     ]
    }
   ],
   "source": [
    "train_model(DATASET='potsdam', MODEL_TYPE='DeepLabV3', BACKBONE='r101', NUM_EPOCHS=2, LEARNING_RATE=0.01)"
   ]
  },
  {
   "cell_type": "markdown",
   "metadata": {},
   "source": [
    "### Evaluate the Model "
   ]
  },
  {
   "cell_type": "code",
   "execution_count": null,
   "metadata": {},
   "outputs": [],
   "source": [
    "# Load the model\n",
    "model = torch.load(config['data']['model_weights']+'/potsdam_FCN.pth.tar')\n",
    "optimizer = torch.load(config['data']['model_weights']+'/potsdam_FCN_optim.pth.tar')"
   ]
  },
  {
   "cell_type": "code",
   "execution_count": null,
   "metadata": {},
   "outputs": [],
   "source": [
    "# Get all images, targets and predictions for the test set\n",
    "img_size = 512\n",
    "all_images = np.zeros([BATCH_SIZE*(len(test_loader)-1), 3, img_size, img_size])\n",
    "all_labels = np.zeros([BATCH_SIZE*(len(test_loader)-1), img_size, img_size])\n",
    "all_predictions = np.zeros([BATCH_SIZE*(len(test_loader)-1), img_size, img_size])\n",
    "\n",
    "for idx, (data, label) in enumerate(test_loader):\n",
    "    print(f\"Processing batch {idx} of {len(test_loader)-1}\")\n",
    "    if idx != len(test_loader)-1:\n",
    "        all_images[idx*BATCH_SIZE:((idx+1)*BATCH_SIZE), :, :, :] = data\n",
    "        all_labels[idx*BATCH_SIZE:((idx+1)*BATCH_SIZE), :, :] = label\n",
    "\n",
    "        # Get model predictions and save them\n",
    "        model.eval()\n",
    "        with torch.no_grad():\n",
    "            data = data.to(DEVICE)\n",
    "            logits = model(data)['out']\n",
    "            prob = nn.Softmax(logits).dim\n",
    "            pred = torch.argmax(prob, dim = 1)\n",
    "        all_predictions[idx*BATCH_SIZE:((idx+1)*BATCH_SIZE), :, :] = pred.cpu()"
   ]
  },
  {
   "cell_type": "code",
   "execution_count": null,
   "metadata": {},
   "outputs": [],
   "source": [
    "def calculate_label_area(label):\n",
    "    total_pixel = label.size\n",
    "    rel = pd.Series([100*label[label==i].size/total_pixel for i in range(NUM_CLASSES)])\n",
    "    rel.index = Label_classes\n",
    "    return rel\n",
    "def plot_areas(label, prediction):\n",
    "    label_rel = calculate_label_area(label)\n",
    "    pred_rel = calculate_label_area(prediction)\n",
    "    df = pd.DataFrame([label_rel, pred_rel], columns=Label_classes, index = ['target', 'prediction']).transpose().reset_index().melt(id_vars='index', var_name='type')\n",
    "    \n",
    "    plt.style.use(\"dark_background\")\n",
    "    fig, ax = plt.subplots()\n",
    "    sns.barplot(x='index', y='value', hue='type', data=df)\n",
    "    plt.xlabel(\"Class\")\n",
    "    plt.ylabel(\"Relative Surface\")\n",
    "    plt.title(\"Area of classes in target(left) and prediction(right)\")\n",
    "    plt.xticks(rotation = 90)\n",
    "\n",
    "    # Change coloring to same colors as in label mask\n",
    "    class_colors_hex = {k: '#%02x%02x%02x' % v for k, v in idx2rgb.items()}\n",
    "    col_list= list(class_colors_hex.values())\n",
    "    col_list = col_list+col_list\n",
    "    for i, bar in enumerate(ax.patches):\n",
    "        col = col_list[i]\n",
    "        bar.set_color(col)\n",
    "    for container in ax.containers:\n",
    "        ax.bar_label(container, fmt='%.1f')\n",
    "    ax.get_legend().remove()\n",
    "    plt.show()\n"
   ]
  },
  {
   "cell_type": "code",
   "execution_count": null,
   "metadata": {},
   "outputs": [],
   "source": [
    "# Plot random instance of the test set\n",
    "idx = random.randint(0, all_images.shape[0]-1)\n",
    "img = all_images[idx,:,:,:]\n",
    "label = all_labels[idx,:,:]\n",
    "prediction = all_predictions[idx, :, :]\n",
    "\n",
    "fig, ax = plt.subplots(1,4, figsize = (15,4))\n",
    "ax[0].imshow(ToPILImage()(torch.from_numpy(img)))\n",
    "ax[0].set_title('Noramlized Input Image')\n",
    "ax[1].imshow(ToPILImage()(torch.from_numpy(denormalize_image(img))))\n",
    "ax[1].set_title('Denormalized Input Image')\n",
    "ax[2].imshow(map_label2rgb(label))\n",
    "ax[2].set_title('Target')\n",
    "ax[3].imshow(map_label2rgb(prediction))\n",
    "ax[3].set_title('Prediction')\n",
    "plt.suptitle('Random Image and Prediction from Test Set')\n",
    "plt.show()"
   ]
  },
  {
   "cell_type": "code",
   "execution_count": null,
   "metadata": {},
   "outputs": [],
   "source": [
    "plot_areas(label, prediction)"
   ]
  }
 ],
 "metadata": {
  "interpreter": {
   "hash": "31e0d8b7548c35cddbff061e0be1eda61b251161626f7fdb4db5aea046cf03e4"
  },
  "kernelspec": {
   "display_name": "Python 3.10.11 ('DS_Project': conda)",
   "language": "python",
   "name": "python3"
  },
  "language_info": {
   "codemirror_mode": {
    "name": "ipython",
    "version": 3
   },
   "file_extension": ".py",
   "mimetype": "text/x-python",
   "name": "python",
   "nbconvert_exporter": "python",
   "pygments_lexer": "ipython3",
   "version": "3.10.11"
  },
  "orig_nbformat": 4
 },
 "nbformat": 4,
 "nbformat_minor": 2
}
