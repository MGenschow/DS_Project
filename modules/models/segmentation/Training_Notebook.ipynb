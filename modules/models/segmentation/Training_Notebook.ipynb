{
 "cells": [
  {
   "cell_type": "code",
   "execution_count": 1,
   "metadata": {},
   "outputs": [
    {
     "ename": "KeyboardInterrupt",
     "evalue": "",
     "output_type": "error",
     "traceback": [
      "\u001b[0;31m---------------------------------------------------------------------------\u001b[0m",
      "\u001b[0;31mKeyboardInterrupt\u001b[0m                         Traceback (most recent call last)",
      "Cell \u001b[0;32mIn[1], line 1\u001b[0m\n\u001b[0;32m----> 1\u001b[0m \u001b[38;5;28;01mfrom\u001b[39;00m \u001b[38;5;21;01mtrain_utils\u001b[39;00m \u001b[38;5;28;01mimport\u001b[39;00m \u001b[38;5;241m*\u001b[39m\n",
      "File \u001b[0;32m/pfs/data5/home/tu/tu_tu/tu_zxmav84/DS_Project/modules/models/segmentation/train_utils.py:12\u001b[0m\n\u001b[1;32m      <a href='file:///pfs/data5/home/tu/tu_tu/tu_zxmav84/DS_Project/modules/models/segmentation/train_utils.py?line=7'>8</a>\u001b[0m \u001b[39mfrom\u001b[39;00m \u001b[39mtqdm\u001b[39;00m \u001b[39mimport\u001b[39;00m tqdm\n\u001b[1;32m     <a href='file:///pfs/data5/home/tu/tu_tu/tu_zxmav84/DS_Project/modules/models/segmentation/train_utils.py?line=10'>11</a>\u001b[0m \u001b[39m# FCN Imports\u001b[39;00m\n\u001b[0;32m---> <a href='file:///pfs/data5/home/tu/tu_tu/tu_zxmav84/DS_Project/modules/models/segmentation/train_utils.py?line=11'>12</a>\u001b[0m \u001b[39mfrom\u001b[39;00m \u001b[39mtorchvision\u001b[39;00m\u001b[39m.\u001b[39;00m\u001b[39mmodels\u001b[39;00m\u001b[39m.\u001b[39;00m\u001b[39msegmentation\u001b[39;00m \u001b[39mimport\u001b[39;00m fcn_resnet50, fcn_resnet101, FCN_ResNet50_Weights, FCN_ResNet101_Weights\n\u001b[1;32m     <a href='file:///pfs/data5/home/tu/tu_tu/tu_zxmav84/DS_Project/modules/models/segmentation/train_utils.py?line=12'>13</a>\u001b[0m \u001b[39m# DeepLabV3 Imports\u001b[39;00m\n\u001b[1;32m     <a href='file:///pfs/data5/home/tu/tu_tu/tu_zxmav84/DS_Project/modules/models/segmentation/train_utils.py?line=13'>14</a>\u001b[0m \u001b[39mfrom\u001b[39;00m \u001b[39mtorchvision\u001b[39;00m\u001b[39m.\u001b[39;00m\u001b[39mmodels\u001b[39;00m\u001b[39m.\u001b[39;00m\u001b[39msegmentation\u001b[39;00m\u001b[39m.\u001b[39;00m\u001b[39mdeeplabv3\u001b[39;00m \u001b[39mimport\u001b[39;00m DeepLabHead\n",
      "File \u001b[0;32m/pfs/work7/workspace/scratch/tu_zxmav84-ds_project/conda/envs/DS_Project/lib/python3.10/site-packages/torchvision/__init__.py:6\u001b[0m\n\u001b[1;32m      <a href='file:///pfs/work7/workspace/scratch/tu_zxmav84-ds_project/conda/envs/DS_Project/lib/python3.10/site-packages/torchvision/__init__.py?line=2'>3</a>\u001b[0m \u001b[39mfrom\u001b[39;00m \u001b[39mmodulefinder\u001b[39;00m \u001b[39mimport\u001b[39;00m Module\n\u001b[1;32m      <a href='file:///pfs/work7/workspace/scratch/tu_zxmav84-ds_project/conda/envs/DS_Project/lib/python3.10/site-packages/torchvision/__init__.py?line=4'>5</a>\u001b[0m \u001b[39mimport\u001b[39;00m \u001b[39mtorch\u001b[39;00m\n\u001b[0;32m----> <a href='file:///pfs/work7/workspace/scratch/tu_zxmav84-ds_project/conda/envs/DS_Project/lib/python3.10/site-packages/torchvision/__init__.py?line=5'>6</a>\u001b[0m \u001b[39mfrom\u001b[39;00m \u001b[39mtorchvision\u001b[39;00m \u001b[39mimport\u001b[39;00m datasets, io, models, ops, transforms, utils\n\u001b[1;32m      <a href='file:///pfs/work7/workspace/scratch/tu_zxmav84-ds_project/conda/envs/DS_Project/lib/python3.10/site-packages/torchvision/__init__.py?line=7'>8</a>\u001b[0m \u001b[39mfrom\u001b[39;00m \u001b[39m.\u001b[39;00m\u001b[39mextension\u001b[39;00m \u001b[39mimport\u001b[39;00m _HAS_OPS\n\u001b[1;32m     <a href='file:///pfs/work7/workspace/scratch/tu_zxmav84-ds_project/conda/envs/DS_Project/lib/python3.10/site-packages/torchvision/__init__.py?line=9'>10</a>\u001b[0m \u001b[39mtry\u001b[39;00m:\n",
      "File \u001b[0;32m/pfs/work7/workspace/scratch/tu_zxmav84-ds_project/conda/envs/DS_Project/lib/python3.10/site-packages/torchvision/datasets/__init__.py:43\u001b[0m\n\u001b[1;32m     <a href='file:///pfs/work7/workspace/scratch/tu_zxmav84-ds_project/conda/envs/DS_Project/lib/python3.10/site-packages/torchvision/datasets/__init__.py?line=40'>41</a>\u001b[0m \u001b[39mfrom\u001b[39;00m \u001b[39m.\u001b[39;00m\u001b[39moxford_iiit_pet\u001b[39;00m \u001b[39mimport\u001b[39;00m OxfordIIITPet\n\u001b[1;32m     <a href='file:///pfs/work7/workspace/scratch/tu_zxmav84-ds_project/conda/envs/DS_Project/lib/python3.10/site-packages/torchvision/datasets/__init__.py?line=41'>42</a>\u001b[0m \u001b[39mfrom\u001b[39;00m \u001b[39m.\u001b[39;00m\u001b[39mpcam\u001b[39;00m \u001b[39mimport\u001b[39;00m PCAM\n\u001b[0;32m---> <a href='file:///pfs/work7/workspace/scratch/tu_zxmav84-ds_project/conda/envs/DS_Project/lib/python3.10/site-packages/torchvision/datasets/__init__.py?line=42'>43</a>\u001b[0m \u001b[39mfrom\u001b[39;00m \u001b[39m.\u001b[39;00m\u001b[39mphototour\u001b[39;00m \u001b[39mimport\u001b[39;00m PhotoTour\n\u001b[1;32m     <a href='file:///pfs/work7/workspace/scratch/tu_zxmav84-ds_project/conda/envs/DS_Project/lib/python3.10/site-packages/torchvision/datasets/__init__.py?line=43'>44</a>\u001b[0m \u001b[39mfrom\u001b[39;00m \u001b[39m.\u001b[39;00m\u001b[39mplaces365\u001b[39;00m \u001b[39mimport\u001b[39;00m Places365\n\u001b[1;32m     <a href='file:///pfs/work7/workspace/scratch/tu_zxmav84-ds_project/conda/envs/DS_Project/lib/python3.10/site-packages/torchvision/datasets/__init__.py?line=44'>45</a>\u001b[0m \u001b[39mfrom\u001b[39;00m \u001b[39m.\u001b[39;00m\u001b[39mrendered_sst2\u001b[39;00m \u001b[39mimport\u001b[39;00m RenderedSST2\n",
      "File \u001b[0;32m<frozen importlib._bootstrap>:1027\u001b[0m, in \u001b[0;36m_find_and_load\u001b[0;34m(name, import_)\u001b[0m\n",
      "File \u001b[0;32m<frozen importlib._bootstrap>:1006\u001b[0m, in \u001b[0;36m_find_and_load_unlocked\u001b[0;34m(name, import_)\u001b[0m\n",
      "File \u001b[0;32m<frozen importlib._bootstrap>:688\u001b[0m, in \u001b[0;36m_load_unlocked\u001b[0;34m(spec)\u001b[0m\n",
      "File \u001b[0;32m<frozen importlib._bootstrap_external>:879\u001b[0m, in \u001b[0;36mexec_module\u001b[0;34m(self, module)\u001b[0m\n",
      "File \u001b[0;32m<frozen importlib._bootstrap_external>:975\u001b[0m, in \u001b[0;36mget_code\u001b[0;34m(self, fullname)\u001b[0m\n",
      "File \u001b[0;32m<frozen importlib._bootstrap_external>:1074\u001b[0m, in \u001b[0;36mget_data\u001b[0;34m(self, path)\u001b[0m\n",
      "\u001b[0;31mKeyboardInterrupt\u001b[0m: "
     ]
    }
   ],
   "source": [
    "from train_utils import *"
   ]
  },
  {
   "cell_type": "code",
   "execution_count": null,
   "metadata": {},
   "outputs": [],
   "source": [
    "train_model(DATASET='loveda', MODEL_TYPE='FCN', BACKBONE='r101', NUM_EPOCHS=2, LEARNING_RATE=0.01, BATCH_SIZE = 8)\n",
    "#train_model(DATASET='loveda', MODEL_TYPE='FCN', BACKBONE='r101', NUM_EPOCHS=10, LEARNING_RATE=0.01, BATCH_SIZE = 2)"
   ]
  },
  {
   "cell_type": "markdown",
   "metadata": {},
   "source": [
    "### Evaluate the Model "
   ]
  },
  {
   "cell_type": "code",
   "execution_count": null,
   "metadata": {},
   "outputs": [],
   "source": [
    "# Load the model\n",
    "model = torch.load(config['data']['model_weights']+'/potsdam_FCN.pth.tar')\n",
    "optimizer = torch.load(config['data']['model_weights']+'/potsdam_FCN_optim.pth.tar')"
   ]
  },
  {
   "cell_type": "code",
   "execution_count": null,
   "metadata": {},
   "outputs": [],
   "source": [
    "# Get all images, targets and predictions for the test set\n",
    "img_size = 512\n",
    "all_images = np.zeros([BATCH_SIZE*(len(test_loader)-1), 3, img_size, img_size])\n",
    "all_labels = np.zeros([BATCH_SIZE*(len(test_loader)-1), img_size, img_size])\n",
    "all_predictions = np.zeros([BATCH_SIZE*(len(test_loader)-1), img_size, img_size])\n",
    "\n",
    "for idx, (data, label) in enumerate(test_loader):\n",
    "    print(f\"Processing batch {idx} of {len(test_loader)-1}\")\n",
    "    if idx != len(test_loader)-1:\n",
    "        all_images[idx*BATCH_SIZE:((idx+1)*BATCH_SIZE), :, :, :] = data\n",
    "        all_labels[idx*BATCH_SIZE:((idx+1)*BATCH_SIZE), :, :] = label\n",
    "\n",
    "        # Get model predictions and save them\n",
    "        model.eval()\n",
    "        with torch.no_grad():\n",
    "            data = data.to(DEVICE)\n",
    "            logits = model(data)['out']\n",
    "            prob = nn.Softmax(logits).dim\n",
    "            pred = torch.argmax(prob, dim = 1)\n",
    "        all_predictions[idx*BATCH_SIZE:((idx+1)*BATCH_SIZE), :, :] = pred.cpu()"
   ]
  },
  {
   "cell_type": "code",
   "execution_count": null,
   "metadata": {},
   "outputs": [],
   "source": [
    "def calculate_label_area(label):\n",
    "    total_pixel = label.size\n",
    "    rel = pd.Series([100*label[label==i].size/total_pixel for i in range(NUM_CLASSES)])\n",
    "    rel.index = Label_classes\n",
    "    return rel\n",
    "def plot_areas(label, prediction):\n",
    "    label_rel = calculate_label_area(label)\n",
    "    pred_rel = calculate_label_area(prediction)\n",
    "    df = pd.DataFrame([label_rel, pred_rel], columns=Label_classes, index = ['target', 'prediction']).transpose().reset_index().melt(id_vars='index', var_name='type')\n",
    "    \n",
    "    plt.style.use(\"dark_background\")\n",
    "    fig, ax = plt.subplots()\n",
    "    sns.barplot(x='index', y='value', hue='type', data=df)\n",
    "    plt.xlabel(\"Class\")\n",
    "    plt.ylabel(\"Relative Surface\")\n",
    "    plt.title(\"Area of classes in target(left) and prediction(right)\")\n",
    "    plt.xticks(rotation = 90)\n",
    "\n",
    "    # Change coloring to same colors as in label mask\n",
    "    class_colors_hex = {k: '#%02x%02x%02x' % v for k, v in idx2rgb.items()}\n",
    "    col_list= list(class_colors_hex.values())\n",
    "    col_list = col_list+col_list\n",
    "    for i, bar in enumerate(ax.patches):\n",
    "        col = col_list[i]\n",
    "        bar.set_color(col)\n",
    "    for container in ax.containers:\n",
    "        ax.bar_label(container, fmt='%.1f')\n",
    "    ax.get_legend().remove()\n",
    "    plt.show()\n"
   ]
  },
  {
   "cell_type": "code",
   "execution_count": null,
   "metadata": {},
   "outputs": [],
   "source": [
    "# Plot random instance of the test set\n",
    "idx = random.randint(0, all_images.shape[0]-1)\n",
    "img = all_images[idx,:,:,:]\n",
    "label = all_labels[idx,:,:]\n",
    "prediction = all_predictions[idx, :, :]\n",
    "\n",
    "fig, ax = plt.subplots(1,4, figsize = (15,4))\n",
    "ax[0].imshow(ToPILImage()(torch.from_numpy(img)))\n",
    "ax[0].set_title('Noramlized Input Image')\n",
    "ax[1].imshow(ToPILImage()(torch.from_numpy(denormalize_image(img))))\n",
    "ax[1].set_title('Denormalized Input Image')\n",
    "ax[2].imshow(map_label2rgb(label))\n",
    "ax[2].set_title('Target')\n",
    "ax[3].imshow(map_label2rgb(prediction))\n",
    "ax[3].set_title('Prediction')\n",
    "plt.suptitle('Random Image and Prediction from Test Set')\n",
    "plt.show()"
   ]
  },
  {
   "cell_type": "code",
   "execution_count": null,
   "metadata": {},
   "outputs": [],
   "source": [
    "plot_areas(label, prediction)"
   ]
  }
 ],
 "metadata": {
  "interpreter": {
   "hash": "31e0d8b7548c35cddbff061e0be1eda61b251161626f7fdb4db5aea046cf03e4"
  },
  "kernelspec": {
   "display_name": "Python 3.10.11 ('DS_Project': conda)",
   "language": "python",
   "name": "python3"
  },
  "language_info": {
   "codemirror_mode": {
    "name": "ipython",
    "version": 3
   },
   "file_extension": ".py",
   "mimetype": "text/x-python",
   "name": "python",
   "nbconvert_exporter": "python",
   "pygments_lexer": "ipython3",
   "version": "3.10.11"
  },
  "orig_nbformat": 4
 },
 "nbformat": 4,
 "nbformat_minor": 2
}
