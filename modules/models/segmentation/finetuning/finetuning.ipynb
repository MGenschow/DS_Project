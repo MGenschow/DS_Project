{
 "cells": [
  {
   "cell_type": "code",
   "execution_count": 1,
   "metadata": {},
   "outputs": [
    {
     "name": "stdout",
     "output_type": "stream",
     "text": [
      "Using cpu as DEVICE\n"
     ]
    }
   ],
   "source": [
    "from finetuning_utils import *"
   ]
  },
  {
   "cell_type": "code",
   "execution_count": 2,
   "metadata": {},
   "outputs": [],
   "source": [
    "import yaml\n",
    "config_path = '/home/tu/tu_tu/tu_zxmav84/DS_Project/modules/config.yml'\n",
    "with open(config_path, 'r') as f:\n",
    "    config = yaml.load(f, Loader=yaml.FullLoader)\n",
    "weights_dir = config['data']['model_weights'] "
   ]
  },
  {
   "cell_type": "markdown",
   "metadata": {},
   "source": [
    "### Get Loaders"
   ]
  },
  {
   "cell_type": "code",
   "execution_count": 3,
   "metadata": {},
   "outputs": [
    {
     "name": "stdout",
     "output_type": "stream",
     "text": [
      "Indexing files in orthophotos/labeling_subset... \n",
      "Found: \t 150 Images \n",
      "\t 150 Mask\n",
      "Length of all files: 150\n",
      "Length of train (120) and test (30): 150\n",
      "Length of train loader: 60; Length of test loader: 15 with batch size 2\n"
     ]
    }
   ],
   "source": [
    "train_loader, test_loader = get_munich_tuning_loaders(batch_size=2)"
   ]
  },
  {
   "cell_type": "markdown",
   "metadata": {},
   "source": [
    "### Training"
   ]
  },
  {
   "cell_type": "code",
   "execution_count": 6,
   "metadata": {},
   "outputs": [
    {
     "name": "stderr",
     "output_type": "stream",
     "text": [
      "/pfs/work7/workspace/scratch/tu_zxmav84-ds_project/conda/envs/DS_Project/lib/python3.10/site-packages/torch/cuda/amp/grad_scaler.py:120: UserWarning: torch.cuda.amp.GradScaler is enabled, but CUDA is not available.  Disabling.\n",
      "  warnings.warn(\"torch.cuda.amp.GradScaler is enabled, but CUDA is not available.  Disabling.\")\n"
     ]
    },
    {
     "name": "stdout",
     "output_type": "stream",
     "text": [
      "\n",
      "Evaluating Accuracy on Test Set...\n"
     ]
    },
    {
     "name": "stderr",
     "output_type": "stream",
     "text": [
      "100%|██████████| 15/15 [02:50<00:00, 11.35s/it]\n"
     ]
    },
    {
     "data": {
      "text/html": [
       "<div>\n",
       "<style scoped>\n",
       "    .dataframe tbody tr th:only-of-type {\n",
       "        vertical-align: middle;\n",
       "    }\n",
       "\n",
       "    .dataframe tbody tr th {\n",
       "        vertical-align: top;\n",
       "    }\n",
       "\n",
       "    .dataframe thead th {\n",
       "        text-align: right;\n",
       "    }\n",
       "</style>\n",
       "<table border=\"1\" class=\"dataframe\">\n",
       "  <thead>\n",
       "    <tr style=\"text-align: right;\">\n",
       "      <th></th>\n",
       "      <th>Metric</th>\n",
       "      <th>Accuracy (%)</th>\n",
       "    </tr>\n",
       "  </thead>\n",
       "  <tbody>\n",
       "    <tr>\n",
       "      <th>0</th>\n",
       "      <td>impervious</td>\n",
       "      <td>80.490000</td>\n",
       "    </tr>\n",
       "    <tr>\n",
       "      <th>1</th>\n",
       "      <td>building</td>\n",
       "      <td>64.170000</td>\n",
       "    </tr>\n",
       "    <tr>\n",
       "      <th>2</th>\n",
       "      <td>low vegetation</td>\n",
       "      <td>43.710000</td>\n",
       "    </tr>\n",
       "    <tr>\n",
       "      <th>3</th>\n",
       "      <td>trees</td>\n",
       "      <td>78.550000</td>\n",
       "    </tr>\n",
       "    <tr>\n",
       "      <th>4</th>\n",
       "      <td>Mean Accuracy</td>\n",
       "      <td>66.730000</td>\n",
       "    </tr>\n",
       "    <tr>\n",
       "      <th>5</th>\n",
       "      <td>Average Accuracy</td>\n",
       "      <td>69.775594</td>\n",
       "    </tr>\n",
       "  </tbody>\n",
       "</table>\n",
       "</div>"
      ],
      "text/plain": [
       "             Metric  Accuracy (%)\n",
       "0        impervious     80.490000\n",
       "1          building     64.170000\n",
       "2    low vegetation     43.710000\n",
       "3             trees     78.550000\n",
       "4     Mean Accuracy     66.730000\n",
       "5  Average Accuracy     69.775594"
      ]
     },
     "metadata": {},
     "output_type": "display_data"
    },
    {
     "name": "stdout",
     "output_type": "stream",
     "text": [
      "Start Training ...\n"
     ]
    },
    {
     "name": "stderr",
     "output_type": "stream",
     "text": [
      "/pfs/work7/workspace/scratch/tu_zxmav84-ds_project/conda/envs/DS_Project/lib/python3.10/site-packages/torch/amp/autocast_mode.py:204: UserWarning: User provided device_type of 'cuda', but CUDA is not available. Disabling\n",
      "  warnings.warn('User provided device_type of \\'cuda\\', but CUDA is not available. Disabling')\n"
     ]
    },
    {
     "name": "stdout",
     "output_type": "stream",
     "text": [
      "Epoch: 0 | Batch 5 / 60 | Loss: 1.4077\n",
      "Epoch: 0 | Batch 10 / 60 | Loss: 1.4552\n",
      "Epoch: 0 | Batch 15 / 60 | Loss: 1.4495\n",
      "Epoch: 0 | Batch 20 / 60 | Loss: 1.3604\n",
      "Epoch: 0 | Batch 25 / 60 | Loss: 1.2848\n",
      "Epoch: 0 | Batch 30 / 60 | Loss: 1.2587\n",
      "Epoch: 0 | Batch 35 / 60 | Loss: 1.2338\n",
      "Epoch: 0 | Batch 40 / 60 | Loss: 1.2039\n",
      "Epoch: 0 | Batch 45 / 60 | Loss: 1.1767\n",
      "Epoch: 0 | Batch 50 / 60 | Loss: 1.1842\n",
      "Epoch: 0 | Batch 55 / 60 | Loss: 1.1616\n",
      "Epoch: 0 | Batch 60 / 60 | Loss: 1.1463\n",
      "\n",
      "Evaluating Accuracy on Test Set...\n"
     ]
    },
    {
     "name": "stderr",
     "output_type": "stream",
     "text": [
      "100%|██████████| 15/15 [02:18<00:00,  9.24s/it]\n"
     ]
    },
    {
     "data": {
      "text/html": [
       "<div>\n",
       "<style scoped>\n",
       "    .dataframe tbody tr th:only-of-type {\n",
       "        vertical-align: middle;\n",
       "    }\n",
       "\n",
       "    .dataframe tbody tr th {\n",
       "        vertical-align: top;\n",
       "    }\n",
       "\n",
       "    .dataframe thead th {\n",
       "        text-align: right;\n",
       "    }\n",
       "</style>\n",
       "<table border=\"1\" class=\"dataframe\">\n",
       "  <thead>\n",
       "    <tr style=\"text-align: right;\">\n",
       "      <th></th>\n",
       "      <th>Metric</th>\n",
       "      <th>Accuracy (%)</th>\n",
       "      <th>Epoch 0</th>\n",
       "    </tr>\n",
       "  </thead>\n",
       "  <tbody>\n",
       "    <tr>\n",
       "      <th>0</th>\n",
       "      <td>impervious</td>\n",
       "      <td>80.490000</td>\n",
       "      <td>63.610000</td>\n",
       "    </tr>\n",
       "    <tr>\n",
       "      <th>1</th>\n",
       "      <td>building</td>\n",
       "      <td>64.170000</td>\n",
       "      <td>80.970000</td>\n",
       "    </tr>\n",
       "    <tr>\n",
       "      <th>2</th>\n",
       "      <td>low vegetation</td>\n",
       "      <td>43.710000</td>\n",
       "      <td>51.330000</td>\n",
       "    </tr>\n",
       "    <tr>\n",
       "      <th>3</th>\n",
       "      <td>trees</td>\n",
       "      <td>78.550000</td>\n",
       "      <td>64.810000</td>\n",
       "    </tr>\n",
       "    <tr>\n",
       "      <th>4</th>\n",
       "      <td>Mean Accuracy</td>\n",
       "      <td>66.730000</td>\n",
       "      <td>65.180000</td>\n",
       "    </tr>\n",
       "    <tr>\n",
       "      <th>5</th>\n",
       "      <td>Average Accuracy</td>\n",
       "      <td>69.775594</td>\n",
       "      <td>64.083341</td>\n",
       "    </tr>\n",
       "  </tbody>\n",
       "</table>\n",
       "</div>"
      ],
      "text/plain": [
       "             Metric  Accuracy (%)    Epoch 0\n",
       "0        impervious     80.490000  63.610000\n",
       "1          building     64.170000  80.970000\n",
       "2    low vegetation     43.710000  51.330000\n",
       "3             trees     78.550000  64.810000\n",
       "4     Mean Accuracy     66.730000  65.180000\n",
       "5  Average Accuracy     69.775594  64.083341"
      ]
     },
     "metadata": {},
     "output_type": "display_data"
    },
    {
     "name": "stderr",
     "output_type": "stream",
     "text": [
      "/pfs/work7/workspace/scratch/tu_zxmav84-ds_project/conda/envs/DS_Project/lib/python3.10/site-packages/torch/amp/autocast_mode.py:204: UserWarning: User provided device_type of 'cuda', but CUDA is not available. Disabling\n",
      "  warnings.warn('User provided device_type of \\'cuda\\', but CUDA is not available. Disabling')\n"
     ]
    },
    {
     "name": "stdout",
     "output_type": "stream",
     "text": [
      "Epoch: 1 | Batch 5 / 60 | Loss: 0.9941\n",
      "Epoch: 1 | Batch 10 / 60 | Loss: 0.9899\n",
      "Epoch: 1 | Batch 15 / 60 | Loss: 1.0336\n",
      "Epoch: 1 | Batch 20 / 60 | Loss: 0.9834\n",
      "Epoch: 1 | Batch 25 / 60 | Loss: 0.9592\n",
      "Epoch: 1 | Batch 30 / 60 | Loss: 0.9519\n",
      "Epoch: 1 | Batch 35 / 60 | Loss: 0.9415\n",
      "Epoch: 1 | Batch 40 / 60 | Loss: 0.9304\n",
      "Epoch: 1 | Batch 45 / 60 | Loss: 0.9114\n",
      "Epoch: 1 | Batch 50 / 60 | Loss: 0.9292\n",
      "Epoch: 1 | Batch 55 / 60 | Loss: 0.9159\n",
      "Epoch: 1 | Batch 60 / 60 | Loss: 0.9018\n",
      "\n",
      "Evaluating Accuracy on Test Set...\n"
     ]
    },
    {
     "name": "stderr",
     "output_type": "stream",
     "text": [
      "100%|██████████| 15/15 [02:17<00:00,  9.20s/it]\n"
     ]
    },
    {
     "data": {
      "text/html": [
       "<div>\n",
       "<style scoped>\n",
       "    .dataframe tbody tr th:only-of-type {\n",
       "        vertical-align: middle;\n",
       "    }\n",
       "\n",
       "    .dataframe tbody tr th {\n",
       "        vertical-align: top;\n",
       "    }\n",
       "\n",
       "    .dataframe thead th {\n",
       "        text-align: right;\n",
       "    }\n",
       "</style>\n",
       "<table border=\"1\" class=\"dataframe\">\n",
       "  <thead>\n",
       "    <tr style=\"text-align: right;\">\n",
       "      <th></th>\n",
       "      <th>Metric</th>\n",
       "      <th>Accuracy (%)</th>\n",
       "      <th>Epoch 0</th>\n",
       "      <th>Epoch 1</th>\n",
       "    </tr>\n",
       "  </thead>\n",
       "  <tbody>\n",
       "    <tr>\n",
       "      <th>0</th>\n",
       "      <td>impervious</td>\n",
       "      <td>80.490000</td>\n",
       "      <td>63.610000</td>\n",
       "      <td>66.760000</td>\n",
       "    </tr>\n",
       "    <tr>\n",
       "      <th>1</th>\n",
       "      <td>building</td>\n",
       "      <td>64.170000</td>\n",
       "      <td>80.970000</td>\n",
       "      <td>79.240000</td>\n",
       "    </tr>\n",
       "    <tr>\n",
       "      <th>2</th>\n",
       "      <td>low vegetation</td>\n",
       "      <td>43.710000</td>\n",
       "      <td>51.330000</td>\n",
       "      <td>48.520000</td>\n",
       "    </tr>\n",
       "    <tr>\n",
       "      <th>3</th>\n",
       "      <td>trees</td>\n",
       "      <td>78.550000</td>\n",
       "      <td>64.810000</td>\n",
       "      <td>64.380000</td>\n",
       "    </tr>\n",
       "    <tr>\n",
       "      <th>4</th>\n",
       "      <td>Mean Accuracy</td>\n",
       "      <td>66.730000</td>\n",
       "      <td>65.180000</td>\n",
       "      <td>64.725000</td>\n",
       "    </tr>\n",
       "    <tr>\n",
       "      <th>5</th>\n",
       "      <td>Average Accuracy</td>\n",
       "      <td>69.775594</td>\n",
       "      <td>64.083341</td>\n",
       "      <td>64.017741</td>\n",
       "    </tr>\n",
       "  </tbody>\n",
       "</table>\n",
       "</div>"
      ],
      "text/plain": [
       "             Metric  Accuracy (%)    Epoch 0    Epoch 1\n",
       "0        impervious     80.490000  63.610000  66.760000\n",
       "1          building     64.170000  80.970000  79.240000\n",
       "2    low vegetation     43.710000  51.330000  48.520000\n",
       "3             trees     78.550000  64.810000  64.380000\n",
       "4     Mean Accuracy     66.730000  65.180000  64.725000\n",
       "5  Average Accuracy     69.775594  64.083341  64.017741"
      ]
     },
     "metadata": {},
     "output_type": "display_data"
    }
   ],
   "source": [
    "FROZEN = True\n",
    "model_name = 'loveda_DeepLabV3_r101_epochs15_lr0-07487'\n",
    "model = torch.load(weights_dir + '/own_training/' + model_name + '/' + model_name + '_epoch14.pth.tar', \n",
    "                map_location=torch.device('cpu'))\n",
    "\n",
    "\n",
    "# freezing backbone and training only the classifier\n",
    "if FROZEN: # freeze all weights except last layer, i.e. clasification head\n",
    "    for layer_name, param in model.named_parameters():\n",
    "        if 'classifier' not in layer_name:\n",
    "            param.requires_grad = False\n",
    "\n",
    "model = model.to(DEVICE)\n",
    " \n",
    "train_model(model, train_loader, test_loader, LEARNING_RATE=1e-2, NUM_EPOCHS = 2)"
   ]
  },
  {
   "cell_type": "markdown",
   "metadata": {},
   "source": [
    "### Plot some predictions"
   ]
  },
  {
   "cell_type": "code",
   "execution_count": 19,
   "metadata": {},
   "outputs": [
    {
     "name": "stderr",
     "output_type": "stream",
     "text": [
      "100%|██████████| 15/15 [00:01<00:00,  7.72it/s]\n"
     ]
    }
   ],
   "source": [
    "inputs_and_preds = []\n",
    "model.eval()  # set model to evaluation mode\n",
    "\n",
    "with torch.no_grad():  # no need to track gradients\n",
    "    for data, label in tqdm(test_loader):\n",
    "        data = data.to(DEVICE)\n",
    "        logits = model(data)['out']\n",
    "        prob = torch.softmax(logits, dim=1)\n",
    "        pred = torch.argmax(prob, dim=1)\n",
    "        inputs_and_preds.append((data.cpu(), pred.cpu(), label.cpu()))\n",
    "\n"
   ]
  },
  {
   "cell_type": "code",
   "execution_count": 20,
   "metadata": {},
   "outputs": [],
   "source": [
    "def denormalize(image, mean, std):\n",
    "    image = image.clone().detach().numpy()  # Convert to numpy array\n",
    "    image = image.transpose((1, 2, 0))  # Reshape (C, H, W) to (H, W, C)\n",
    "    image = (image * std) + mean  # Denormalize\n",
    "    image = image.clip(0, 1)  # Clip to range [0, 1]\n",
    "    return image\n",
    "\n",
    "def plot_random_images(inputs_preds_targets, idx2rgb, n):\n",
    "    fig, ax = plt.subplots(n, 3, figsize=(15, 5*n))\n",
    "\n",
    "    mean = np.array([0.485, 0.456, 0.406])\n",
    "    std = np.array([0.229, 0.224, 0.225])\n",
    "\n",
    "    for i in range(n):\n",
    "        # Select a random batch\n",
    "        inputs, preds, targets = random.choice(inputs_preds_targets)\n",
    "        \n",
    "        # Select a random image from the batch\n",
    "        idx = random.randint(0, len(inputs) - 1)\n",
    "        image = inputs[idx]\n",
    "        image = denormalize(image, mean, std)  # Denormalize the image\n",
    "\n",
    "        pred = preds[idx].numpy()\n",
    "        target = targets[idx].numpy()\n",
    "\n",
    "        # Create RGB images according to the colormap\n",
    "        pred_rgb = np.zeros((*pred.shape, 3), dtype=np.uint8)\n",
    "        target_rgb = np.zeros((*target.shape, 3), dtype=np.uint8)\n",
    "        for cls, color in idx2rgb.items():\n",
    "            pred_rgb[pred == cls] = color\n",
    "            target_rgb[target == cls] = color\n",
    "\n",
    "        # Plot original image\n",
    "        ax[i, 0].imshow(image)\n",
    "        ax[i, 0].axis('off')\n",
    "        ax[i, 0].set_title(f'Original Image {i+1}')\n",
    "\n",
    "        # Plot target image\n",
    "        ax[i, 1].imshow(target_rgb)\n",
    "        ax[i, 1].axis('off')\n",
    "        ax[i, 1].set_title(f'Target Image {i+1}')\n",
    "\n",
    "        # Plot predicted image\n",
    "        ax[i, 2].imshow(pred_rgb)\n",
    "        ax[i, 2].axis('off')\n",
    "        ax[i, 2].set_title(f'Predicted Image {i+1}')\n",
    "\n",
    "    plt.tight_layout()\n",
    "    plt.show()\n"
   ]
  },
  {
   "cell_type": "code",
   "execution_count": 24,
   "metadata": {},
   "outputs": [],
   "source": [
    "import time\n",
    "t = 1000 * time.time() # current time in milliseconds\n",
    "np.random.seed(int(t) % 2**32)\n",
    "plot_random_images(inputs_and_preds, idx2rgb, 10)"
   ]
  },
  {
   "cell_type": "code",
   "execution_count": null,
   "metadata": {},
   "outputs": [],
   "source": []
  },
  {
   "cell_type": "code",
   "execution_count": null,
   "metadata": {},
   "outputs": [],
   "source": []
  }
 ],
 "metadata": {
  "interpreter": {
   "hash": "31e0d8b7548c35cddbff061e0be1eda61b251161626f7fdb4db5aea046cf03e4"
  },
  "kernelspec": {
   "display_name": "Python 3.10.11 ('DS_Project': conda)",
   "language": "python",
   "name": "python3"
  },
  "language_info": {
   "codemirror_mode": {
    "name": "ipython",
    "version": 3
   },
   "file_extension": ".py",
   "mimetype": "text/x-python",
   "name": "python",
   "nbconvert_exporter": "python",
   "pygments_lexer": "ipython3",
   "version": "3.10.11"
  },
  "orig_nbformat": 4
 },
 "nbformat": 4,
 "nbformat_minor": 2
}
