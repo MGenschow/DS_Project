{
 "cells": [
  {
   "cell_type": "code",
   "execution_count": 1,
   "metadata": {},
   "outputs": [
    {
     "name": "stdout",
     "output_type": "stream",
     "text": [
      "Using cuda as DEVICE\n"
     ]
    }
   ],
   "source": [
    "from finetuning_utils import *"
   ]
  },
  {
   "cell_type": "code",
   "execution_count": 2,
   "metadata": {},
   "outputs": [],
   "source": [
    "import yaml\n",
    "config_path = '/home/tu/tu_tu/tu_zxmav84/DS_Project/modules/config.yml'\n",
    "with open(config_path, 'r') as f:\n",
    "    config = yaml.load(f, Loader=yaml.FullLoader)\n",
    "weights_dir = config['data']['model_weights']"
   ]
  },
  {
   "cell_type": "markdown",
   "metadata": {},
   "source": [
    "### Get Loaders"
   ]
  },
  {
   "cell_type": "code",
   "execution_count": 3,
   "metadata": {},
   "outputs": [
    {
     "name": "stdout",
     "output_type": "stream",
     "text": [
      "Indexing files in orthophotos/labeling_subset... \n",
      "Found: \t 150 Images \n",
      "\t 150 Mask\n",
      "Length of all files: 150\n",
      "Length of train (120) and test (30): 150\n",
      "Length of train loader: 60; Length of test loader: 15 with batch size 2\n"
     ]
    }
   ],
   "source": [
    "train_loader, test_loader = get_munich_tuning_loaders(batch_size=2)"
   ]
  },
  {
   "cell_type": "markdown",
   "metadata": {},
   "source": [
    "### Training"
   ]
  },
  {
   "cell_type": "code",
   "execution_count": 18,
   "metadata": {},
   "outputs": [],
   "source": [
    "model_name = 'loveda_DeepLabV3_r101_epochs15_lr0-07487'\n",
    "model = torch.load(weights_dir + '/own_training/' + model_name + '/' + model_name + '_epoch14.pth.tar', \n",
    "                map_location=torch.device('cpu'))\n",
    "model = model.to(DEVICE)\n",
    "\n",
    "#train_model(model, train_loader, test_loader, LEARNING_RATE=1e-2, NUM_EPOCHS = 2)"
   ]
  },
  {
   "cell_type": "markdown",
   "metadata": {},
   "source": [
    "### Plot some predictions"
   ]
  },
  {
   "cell_type": "code",
   "execution_count": 19,
   "metadata": {},
   "outputs": [
    {
     "name": "stderr",
     "output_type": "stream",
     "text": [
      "100%|██████████| 15/15 [00:01<00:00,  7.72it/s]\n"
     ]
    }
   ],
   "source": [
    "inputs_and_preds = []\n",
    "model.eval()  # set model to evaluation mode\n",
    "\n",
    "with torch.no_grad():  # no need to track gradients\n",
    "    for data, label in tqdm(test_loader):\n",
    "        data = data.to(DEVICE)\n",
    "        logits = model(data)['out']\n",
    "        prob = torch.softmax(logits, dim=1)\n",
    "        pred = torch.argmax(prob, dim=1)\n",
    "        inputs_and_preds.append((data.cpu(), pred.cpu(), label.cpu()))\n",
    "\n"
   ]
  },
  {
   "cell_type": "code",
   "execution_count": 20,
   "metadata": {},
   "outputs": [],
   "source": [
    "def denormalize(image, mean, std):\n",
    "    image = image.clone().detach().numpy()  # Convert to numpy array\n",
    "    image = image.transpose((1, 2, 0))  # Reshape (C, H, W) to (H, W, C)\n",
    "    image = (image * std) + mean  # Denormalize\n",
    "    image = image.clip(0, 1)  # Clip to range [0, 1]\n",
    "    return image\n",
    "\n",
    "def plot_random_images(inputs_preds_targets, idx2rgb, n):\n",
    "    fig, ax = plt.subplots(n, 3, figsize=(15, 5*n))\n",
    "\n",
    "    mean = np.array([0.485, 0.456, 0.406])\n",
    "    std = np.array([0.229, 0.224, 0.225])\n",
    "\n",
    "    for i in range(n):\n",
    "        # Select a random batch\n",
    "        inputs, preds, targets = random.choice(inputs_preds_targets)\n",
    "        \n",
    "        # Select a random image from the batch\n",
    "        idx = random.randint(0, len(inputs) - 1)\n",
    "        image = inputs[idx]\n",
    "        image = denormalize(image, mean, std)  # Denormalize the image\n",
    "\n",
    "        pred = preds[idx].numpy()\n",
    "        target = targets[idx].numpy()\n",
    "\n",
    "        # Create RGB images according to the colormap\n",
    "        pred_rgb = np.zeros((*pred.shape, 3), dtype=np.uint8)\n",
    "        target_rgb = np.zeros((*target.shape, 3), dtype=np.uint8)\n",
    "        for cls, color in idx2rgb.items():\n",
    "            pred_rgb[pred == cls] = color\n",
    "            target_rgb[target == cls] = color\n",
    "\n",
    "        # Plot original image\n",
    "        ax[i, 0].imshow(image)\n",
    "        ax[i, 0].axis('off')\n",
    "        ax[i, 0].set_title(f'Original Image {i+1}')\n",
    "\n",
    "        # Plot target image\n",
    "        ax[i, 1].imshow(target_rgb)\n",
    "        ax[i, 1].axis('off')\n",
    "        ax[i, 1].set_title(f'Target Image {i+1}')\n",
    "\n",
    "        # Plot predicted image\n",
    "        ax[i, 2].imshow(pred_rgb)\n",
    "        ax[i, 2].axis('off')\n",
    "        ax[i, 2].set_title(f'Predicted Image {i+1}')\n",
    "\n",
    "    plt.tight_layout()\n",
    "    plt.show()\n"
   ]
  },
  {
   "cell_type": "code",
   "execution_count": 24,
   "metadata": {},
   "outputs": [],
   "source": [
    "import time\n",
    "t = 1000 * time.time() # current time in milliseconds\n",
    "np.random.seed(int(t) % 2**32)\n",
    "plot_random_images(inputs_and_preds, idx2rgb, 10)"
   ]
  },
  {
   "cell_type": "code",
   "execution_count": null,
   "metadata": {},
   "outputs": [],
   "source": []
  },
  {
   "cell_type": "code",
   "execution_count": null,
   "metadata": {},
   "outputs": [],
   "source": []
  }
 ],
 "metadata": {
  "interpreter": {
   "hash": "31e0d8b7548c35cddbff061e0be1eda61b251161626f7fdb4db5aea046cf03e4"
  },
  "kernelspec": {
   "display_name": "Python 3.10.11 ('DS_Project': conda)",
   "language": "python",
   "name": "python3"
  },
  "language_info": {
   "codemirror_mode": {
    "name": "ipython",
    "version": 3
   },
   "file_extension": ".py",
   "mimetype": "text/x-python",
   "name": "python",
   "nbconvert_exporter": "python",
   "pygments_lexer": "ipython3",
   "version": "3.10.11"
  },
  "orig_nbformat": 4
 },
 "nbformat": 4,
 "nbformat_minor": 2
}
