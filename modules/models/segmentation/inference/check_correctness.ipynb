{
 "cells": [
  {
   "cell_type": "code",
   "execution_count": 1,
   "metadata": {},
   "outputs": [],
   "source": [
    "import folium\n",
    "import pandas as pd\n",
    "import geopandas as gpd\n",
    "import pickle"
   ]
  },
  {
   "cell_type": "code",
   "execution_count": null,
   "metadata": {},
   "outputs": [],
   "source": [
    "import yaml\n",
    "config_path = '/home/tu/tu_tu/tu_zxmav84/DS_Project/modules/config.yml'\n",
    "with open(config_path, 'r') as f:\n",
    "    config = yaml.load(f, Loader=yaml.FullLoader)\n",
    "orthophoto_dir = config['data']['orthophotos']\n",
    "predictions_dir = config['data']['segmentation_output']\n",
    "nutzungsdaten_dir = config['data']['nutzungsdaten']\n"
   ]
  },
  {
   "cell_type": "code",
   "execution_count": null,
   "metadata": {},
   "outputs": [],
   "source": [
    "with open(config['data']['data'] + '/uhi_model/raw/input.pkl', 'rb') as file:\n",
    "    gdf = pickle.load(file)"
   ]
  },
  {
   "cell_type": "code",
   "execution_count": null,
   "metadata": {},
   "outputs": [],
   "source": [
    "gdf['geometry_4326'] = gdf.geometry.to_crs('EPSG:4326')"
   ]
  },
  {
   "cell_type": "code",
   "execution_count": 13,
   "metadata": {},
   "outputs": [],
   "source": [
    "from shapely.geometry import box\n",
    "bbox = box(*[11.539850,48.133244,11.582079,48.146990])\n",
    "subset = gdf[gdf.geometry_4326.intersects(bbox)]"
   ]
  },
  {
   "cell_type": "code",
   "execution_count": 14,
   "metadata": {},
   "outputs": [],
   "source": [
    "#gdf.geometry = gdf.geometry.to_crs('EPSG:4326')\n",
    "styles = {\n",
    "    'ignore':{\"fillColor\": \"#000000\", 'color':'#000000', 'weight':0, 'fillOpacity':0.5}, \n",
    "    'impervious':{\"fillColor\": \"#ffffff\", 'color':'#ffffff', 'weight':0, 'fillOpacity':0.5}, \n",
    "    'building':{\"fillColor\": \"#ff00ff\", 'color':'#ff00ff', 'weight':0, 'fillOpacity':0.5}, \n",
    "    'low vegetation':{\"fillColor\": \"#00ff00\", '#00ff00':'pink', 'weight':0, 'fillOpacity':0.5}, \n",
    "    'water':{\"fillColor\": \"#0000ff\", 'color':'#0000ff', 'weight':0, 'fillOpacity':0.5}, \n",
    "    'trees':{\"fillColor\": \"#008200\", 'color':'#008200', 'weight':0, 'fillOpacity':0.5}, \n",
    "    'road':{\"fillColor\": \"#ff0000\", 'color':'#ff0000', 'weight':0, 'fillOpacity':0.5}, \n",
    "    'train':{\"fillColor\": \"#505050\", 'color':'#505050', 'weight':0, 'fillOpacity':0.5}, \n",
    "}\n",
    "m = folium.Map(location = [subset.iloc[0,:].geometry_4326.centroid.y, subset.iloc[0,:].geometry_4326.centroid.x], zoom_start = 14)\n",
    "# Add ESRI Satellite Layer\n",
    "tile = folium.TileLayer(\n",
    "        tiles = 'https://server.arcgisonline.com/ArcGIS/rest/services/World_Imagery/MapServer/tile/{z}/{y}/{x}',\n",
    "        attr = 'Esri', name = 'Esri Satellite', overlay = False, control = True).add_to(m)\n",
    "# Add Semantic Segmentation Layer\n",
    "for label in subset.label.unique():\n",
    "    folium.GeoJson(subset[subset.label == label].geometry_4326, style_function=lambda x, label=label: styles[label], name=label).add_to(m)\n",
    "folium.LayerControl().add_to(m)\n",
    "m.save('Predictions.html')\n",
    "#m\n"
   ]
  }
 ],
 "metadata": {
  "interpreter": {
   "hash": "31e0d8b7548c35cddbff061e0be1eda61b251161626f7fdb4db5aea046cf03e4"
  },
  "kernelspec": {
   "display_name": "Python 3.10.11 ('DS_Project': conda)",
   "language": "python",
   "name": "python3"
  },
  "language_info": {
   "codemirror_mode": {
    "name": "ipython",
    "version": 3
   },
   "file_extension": ".py",
   "mimetype": "text/x-python",
   "name": "python",
   "nbconvert_exporter": "python",
   "pygments_lexer": "ipython3",
   "version": "3.10.11"
  },
  "orig_nbformat": 4
 },
 "nbformat": 4,
 "nbformat_minor": 2
}
