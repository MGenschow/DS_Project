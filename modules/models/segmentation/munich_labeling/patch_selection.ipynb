{
 "cells": [
  {
   "cell_type": "code",
   "execution_count": 1,
   "metadata": {},
   "outputs": [],
   "source": [
    "import pandas as pd \n",
    "from glob import glob\n",
    "import matplotlib.pyplot as plt\n",
    "import rasterio\n",
    "import numpy as np\n",
    "import random\n",
    "from PIL import Image\n",
    "import pickle\n",
    "import geopandas as gpd\n",
    "from tqdm import tqdm"
   ]
  },
  {
   "cell_type": "code",
   "execution_count": 2,
   "metadata": {},
   "outputs": [],
   "source": [
    "# Load config file and get orthophoto data path\n",
    "import yaml\n",
    "config_path = '/home/tu/tu_tu/tu_zxmav84/DS_Project/modules/config.yml'\n",
    "with open(config_path, 'r') as f:\n",
    "    config = yaml.load(f, Loader=yaml.FullLoader)\n",
    "orthophoto_dir = config['data']['orthophotos']"
   ]
  },
  {
   "cell_type": "markdown",
   "metadata": {},
   "source": [
    "### Read in orthophoto index file"
   ]
  },
  {
   "cell_type": "code",
   "execution_count": 3,
   "metadata": {},
   "outputs": [],
   "source": [
    "with open(orthophoto_dir + '/metalink_files/complete_index.pkl', 'rb') as f:\n",
    "    index_file = pickle.load(f)\n",
    "\n",
    "index_file = gpd.GeoDataFrame(index_file, geometry='polygon_4326')"
   ]
  },
  {
   "cell_type": "code",
   "execution_count": 4,
   "metadata": {},
   "outputs": [
    {
     "data": {
      "text/plain": [
       "['32692_5335', '32693_5337']"
      ]
     },
     "execution_count": 4,
     "metadata": {},
     "output_type": "execute_result"
    }
   ],
   "source": [
    "# set bbox for munich inner city\n",
    "from shapely.geometry import box\n",
    "bbox = box(*[11.542597,48.117574,11.624050,48.158986])\n",
    "city_tiles = index_file[index_file.polygon_4326.intersects(bbox)].tile_name.tolist()\n",
    "city_tiles = [name.split('.')[0] for name in city_tiles]\n",
    "city_tiles[:2]"
   ]
  },
  {
   "cell_type": "markdown",
   "metadata": {},
   "source": [
    "### Get list of all patches"
   ]
  },
  {
   "cell_type": "code",
   "execution_count": 5,
   "metadata": {},
   "outputs": [
    {
     "data": {
      "text/plain": [
       "30512"
      ]
     },
     "execution_count": 5,
     "metadata": {},
     "output_type": "execute_result"
    }
   ],
   "source": [
    "patches = glob(orthophoto_dir + '/patched/*.tif')\n",
    "len(patches)"
   ]
  },
  {
   "cell_type": "markdown",
   "metadata": {},
   "source": [
    "### Draw 100 city patches randomly"
   ]
  },
  {
   "cell_type": "code",
   "execution_count": 6,
   "metadata": {},
   "outputs": [],
   "source": [
    "# Subset the patches list to include patches that include any of the tile names\n",
    "city_patches_all = [patch for patch in patches for tile in city_tiles if tile in patch]\n",
    "city_patches = random.sample(city_patches_all, 100)"
   ]
  },
  {
   "cell_type": "markdown",
   "metadata": {},
   "source": [
    "### Draw 50 other patches randomly"
   ]
  },
  {
   "cell_type": "code",
   "execution_count": 7,
   "metadata": {},
   "outputs": [],
   "source": [
    "other_patches_all = [patch for patch in patches if patch not in city_patches]\n",
    "other_patches = random.sample(other_patches_all, 50)"
   ]
  },
  {
   "cell_type": "markdown",
   "metadata": {},
   "source": [
    "### Visualize Patches"
   ]
  },
  {
   "cell_type": "code",
   "execution_count": 8,
   "metadata": {},
   "outputs": [],
   "source": [
    "selected_patches = city_patches + other_patches"
   ]
  },
  {
   "cell_type": "code",
   "execution_count": 9,
   "metadata": {},
   "outputs": [],
   "source": [
    "# fig, axs = plt.subplots(15, 10, figsize=(20, 30))\n",
    "# for i, file_path in enumerate(selected_patches):\n",
    "#     # Open image file\n",
    "#     img = Image.open(file_path)\n",
    "#     # Convert image data to numpy array\n",
    "#     img_data = np.array(img)\n",
    "#     # Calculate subplot position\n",
    "#     row = i // 10\n",
    "#     col = i % 10\n",
    "#     # Display image data on the subplot\n",
    "#     axs[row, col].imshow(img_data)\n",
    "#     axs[row, col].axis('off')  # Hide axes\n",
    "\n",
    "# plt.tight_layout()\n",
    "# plt.show()"
   ]
  },
  {
   "cell_type": "markdown",
   "metadata": {},
   "source": [
    "### Transfer selected patches to folder"
   ]
  },
  {
   "cell_type": "code",
   "execution_count": 10,
   "metadata": {},
   "outputs": [
    {
     "name": "stderr",
     "output_type": "stream",
     "text": [
      "100%|██████████| 150/150 [00:04<00:00, 30.27it/s]\n"
     ]
    }
   ],
   "source": [
    "import shutil\n",
    "\n",
    "for patch in tqdm(selected_patches):\n",
    "    name = patch.split('/')[-1].split('.')[0]\n",
    "    dest = orthophoto_dir + '/labeling_subset/' + name + '.tif'\n",
    "    shutil.copyfile(patch, dest)\n"
   ]
  }
 ],
 "metadata": {
  "interpreter": {
   "hash": "31e0d8b7548c35cddbff061e0be1eda61b251161626f7fdb4db5aea046cf03e4"
  },
  "kernelspec": {
   "display_name": "Python 3.10.11 ('DS_Project': conda)",
   "language": "python",
   "name": "python3"
  },
  "language_info": {
   "codemirror_mode": {
    "name": "ipython",
    "version": 3
   },
   "file_extension": ".py",
   "mimetype": "text/x-python",
   "name": "python",
   "nbconvert_exporter": "python",
   "pygments_lexer": "ipython3",
   "version": "3.10.11"
  },
  "orig_nbformat": 4
 },
 "nbformat": 4,
 "nbformat_minor": 2
}
