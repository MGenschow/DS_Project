{
 "cells": [
  {
   "cell_type": "code",
   "execution_count": null,
   "metadata": {},
   "outputs": [],
   "source": [
    "# import packages\n",
    "import os\n",
    "import math\n",
    "import folium\n",
    "import rasterio\n",
    "import rioxarray as rxr\n",
    "import numpy as np\n",
    "import pandas as pd\n",
    "import geopandas as gpd\n",
    "import shapely.geometry as sg\n",
    "import matplotlib.pyplot as plt\n",
    "import matplotlib.colors as mcolors\n",
    "import matplotlib.cm as cm\n",
    "\n",
    "from matplotlib import pyplot\n",
    "from math import radians, cos, sin, asin, sqrt\n",
    "from folium.plugins import MeasureControl\n",
    "from IPython.display import display\n",
    "from shapely.geometry import Polygon\n",
    "from shapely.geometry import box\n",
    "from branca.colormap import LinearColormap\n",
    "from pyproj import CRS, Transformer"
   ]
  },
  {
   "cell_type": "code",
   "execution_count": null,
   "metadata": {},
   "outputs": [],
   "source": [
    "home_directory = os.path.expanduser( '~' )\n",
    "os.chdir(home_directory + '/DS_Project/modules')\n",
    "\n",
    "import pickle\n",
    "import yaml\n",
    "config_path = 'config.yml'\n",
    "with open(config_path, 'r') as f:\n",
    "    config = yaml.load(f, Loader=yaml.FullLoader)\n",
    "path = config['data']['data'] + '/uhi_model/'\n",
    "path_raw = path + 'raw/'\n",
    "path_visual = path + 'visual/'\n",
    "path_grid = path + 'grid/'\n",
    "path_model = path + 'model/'"
   ]
  },
  {
   "cell_type": "code",
   "execution_count": null,
   "metadata": {},
   "outputs": [],
   "source": [
    "from data_retrieval.Ecostress.utils import *\n",
    "from models.UHI_modeling.disaggregate import *"
   ]
  },
  {
   "cell_type": "code",
   "execution_count": null,
   "metadata": {},
   "outputs": [],
   "source": [
    "grid_size_meters = 250\n",
    "with open(path_grid + 'grid_' + str(grid_size_meters) + '_e.pkl', 'rb') as file:\n",
    "    grid = pickle.load(file)\n",
    "grid.head()"
   ]
  },
  {
   "attachments": {},
   "cell_type": "markdown",
   "metadata": {},
   "source": [
    "## Exemplary target extraction"
   ]
  },
  {
   "cell_type": "code",
   "execution_count": null,
   "metadata": {},
   "outputs": [],
   "source": [
    "path_tif = config['data']['data'] + '/ECOSTRESS/avgAfterNoon_HW.tif'\n",
    "src = rasterio.open(path_tif)\n",
    "lst_array = rxr.open_rasterio(path_tif)"
   ]
  },
  {
   "cell_type": "code",
   "execution_count": null,
   "metadata": {},
   "outputs": [],
   "source": [
    "example_index = 999\n",
    "example_id = grid.iloc[example_index, grid.shape[1]-1]\n",
    "subset = grid.iloc[example_index,:].geometry"
   ]
  },
  {
   "cell_type": "code",
   "execution_count": null,
   "metadata": {},
   "outputs": [],
   "source": [
    "clip_all = lst_array.rio.clip([subset], crs=4326, all_touched=True)\n",
    "clip_inner = lst_array.rio.clip([subset],all_touched=False)"
   ]
  },
  {
   "cell_type": "code",
   "execution_count": null,
   "metadata": {},
   "outputs": [],
   "source": [
    "lst_pixel_map = pixels_to_foliumMap(clip_all, subset, crs='EPSG4326')\n",
    "lst_pixel_map"
   ]
  },
  {
   "cell_type": "code",
   "execution_count": null,
   "metadata": {},
   "outputs": [],
   "source": [
    "lst_pixel_map = pixels_to_foliumMap(clip_all, subset, crs='EPSG3857')\n",
    "lst_pixel_map.save(path_visual + 'lst_pixel_example.html')\n",
    "lst_pixel_map"
   ]
  },
  {
   "cell_type": "code",
   "execution_count": null,
   "metadata": {},
   "outputs": [],
   "source": [
    "temperature_data = clip_all[0].values\n",
    "\n",
    "fig, ax = plt.subplots()\n",
    "im = ax.imshow(temperature_data, cmap='spring', aspect='equal')\n",
    "\n",
    "cbar = plt.colorbar(im, ax=ax)\n",
    "cbar.set_label('Temperature')\n",
    "\n",
    "ax.set_title('Temperature Map')\n",
    "ax.set_xlabel('X-axis')\n",
    "ax.set_ylabel('Y-axis')\n",
    "\n",
    "plt.show()"
   ]
  },
  {
   "cell_type": "code",
   "execution_count": null,
   "metadata": {},
   "outputs": [],
   "source": [
    "print(clip_all[0].shape)\n",
    "print(clip_inner[0].shape)"
   ]
  },
  {
   "cell_type": "code",
   "execution_count": null,
   "metadata": {},
   "outputs": [],
   "source": [
    "naive_pixel_mean(lst_array, subset)"
   ]
  },
  {
   "cell_type": "code",
   "execution_count": null,
   "metadata": {},
   "outputs": [],
   "source": [
    "weights, m = weighted_pixel_mean(lst_array, subset, a=70)\n",
    "weights"
   ]
  },
  {
   "cell_type": "code",
   "execution_count": null,
   "metadata": {},
   "outputs": [],
   "source": [
    "m"
   ]
  },
  {
   "cell_type": "code",
   "execution_count": null,
   "metadata": {},
   "outputs": [],
   "source": [
    "grid['nLST'] = grid.apply(lambda row: naive_pixel_mean_wrapper(row, lst_array), axis=1)\n",
    "grid['wLST'] = grid.apply(lambda row: weighted_pixel_mean_wrapper(row, lst_array), axis=1)\n",
    "grid.head()"
   ]
  },
  {
   "cell_type": "markdown",
   "metadata": {},
   "source": [
    "## Visualise final results"
   ]
  },
  {
   "cell_type": "code",
   "execution_count": null,
   "metadata": {},
   "outputs": [],
   "source": [
    "with open(path + 'final_' + str(grid_size_meters) + '_e.pkl', 'rb') as file:\n",
    "    final = pickle.load(file)\n",
    "final.head()"
   ]
  },
  {
   "cell_type": "code",
   "execution_count": null,
   "metadata": {},
   "outputs": [],
   "source": [
    "lst_map = tiffs_to_foliumMap(path_tif, pixelated=False, minTemp=20, maxTemp=45)\n",
    "\n",
    "cols = ['id','impervious','building','low vegetation','water','trees','road','avg_height','nLST','wLST']\n",
    "for idx, grids in final.iterrows():\n",
    "        values = [f\"{column}: {np.round(grids[column], 2)}\" for column in cols]\n",
    "        tooltip_text = \"<br>\".join(values)\n",
    "        style = {'fillColor': 'transparent', 'color': 'black', 'colorOpacity': 0.7}\n",
    "\n",
    "        folium.GeoJson(\n",
    "                grids.geometry,\n",
    "                style_function=lambda x: style,\n",
    "                popup=folium.Popup(tooltip_text, max_width=300),\n",
    "                name = grids['id'],\n",
    "                control = False).add_to(lst_map)\n",
    "\n",
    "lst_map"
   ]
  },
  {
   "cell_type": "code",
   "execution_count": null,
   "metadata": {},
   "outputs": [],
   "source": [
    "lst_map.save(path_visual + 'lst_grid_' + str(grid_size_meters) + '_e.html')"
   ]
  }
 ],
 "metadata": {
  "interpreter": {
   "hash": "31e0d8b7548c35cddbff061e0be1eda61b251161626f7fdb4db5aea046cf03e4"
  },
  "kernelspec": {
   "display_name": "Python 3.10.11 ('DS_Project': conda)",
   "language": "python",
   "name": "python3"
  },
  "language_info": {
   "codemirror_mode": {
    "name": "ipython",
    "version": 3
   },
   "file_extension": ".py",
   "mimetype": "text/x-python",
   "name": "python",
   "nbconvert_exporter": "python",
   "pygments_lexer": "ipython3",
   "version": "3.10.11"
  },
  "orig_nbformat": 4
 },
 "nbformat": 4,
 "nbformat_minor": 2
}
