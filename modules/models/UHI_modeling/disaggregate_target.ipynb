{
 "cells": [
  {
   "cell_type": "code",
   "execution_count": null,
   "metadata": {},
   "outputs": [],
   "source": [
    "# import special packages\n",
    "import os\n",
    "import math\n",
    "import folium\n",
    "import rasterio\n",
    "import rioxarray as rxr\n",
    "import numpy as np\n",
    "import pandas as pd\n",
    "import geopandas as gpd\n",
    "import shapely.geometry as sg\n",
    "import matplotlib.pyplot as plt\n",
    "\n",
    "from matplotlib import pyplot\n",
    "from math import radians, cos, sin, asin, sqrt\n",
    "from folium.plugins import MeasureControl\n",
    "from IPython.display import display\n",
    "from shapely.geometry import Polygon\n",
    "from shapely.geometry import box\n",
    "from pyproj import CRS, Transformer"
   ]
  },
  {
   "cell_type": "code",
   "execution_count": null,
   "metadata": {},
   "outputs": [],
   "source": [
    "home_directory = os.path.expanduser( '~' )\n",
    "os.chdir(home_directory + '/DS_Project/modules')\n",
    "\n",
    "import pickle\n",
    "import yaml\n",
    "config_path = 'config.yml'\n",
    "with open(config_path, 'r') as f:\n",
    "    config = yaml.load(f, Loader=yaml.FullLoader)"
   ]
  },
  {
   "cell_type": "code",
   "execution_count": null,
   "metadata": {},
   "outputs": [],
   "source": [
    "from data_retrieval.Ecostress.utils import *\n",
    "from models.UHI_modeling.disaggregate import *"
   ]
  },
  {
   "cell_type": "code",
   "execution_count": null,
   "metadata": {},
   "outputs": [],
   "source": [
    "path = config['data']['dwd'] + '/uhi_model/'"
   ]
  },
  {
   "cell_type": "code",
   "execution_count": null,
   "metadata": {},
   "outputs": [],
   "source": [
    "grid_size_meters = 1000\n",
    "with open(path + 'uhi_features_grid' + grid_size_meters + '.pkl', 'rb') as file:\n",
    "    surface_df = pickle.load(file)\n",
    "with open(path + 'grid' + grid_size_meters + '_a.pkl', 'rb') as file:\n",
    "    grid_1000 = pickle.load(file)"
   ]
  },
  {
   "cell_type": "code",
   "execution_count": null,
   "metadata": {},
   "outputs": [],
   "source": [
    "grid_polygon_index = 5\n",
    "subset = grid_1000.iloc[grid_polygon_index,:].geometry"
   ]
  },
  {
   "attachments": {},
   "cell_type": "markdown",
   "metadata": {},
   "source": [
    "## Extract target"
   ]
  },
  {
   "cell_type": "code",
   "execution_count": null,
   "metadata": {},
   "outputs": [],
   "source": [
    "path_tif = config['data']['data'] + '/ECOSTRESS/mean_afterNoon_HT.tif'\n",
    "src = rasterio.open(path_tif)\n",
    "dataarray = rxr.open_rasterio(path_tif)"
   ]
  },
  {
   "cell_type": "code",
   "execution_count": null,
   "metadata": {},
   "outputs": [],
   "source": [
    "lst_map = tiffs_to_foliumMap(path_tif)\n",
    "folium.GeoJson(subset.__geo_interface__, \n",
    "                style_function=lambda x: {'fillColor': 'grey', 'fillOpacity': 0.2, 'color': 'black', 'colorOpacity': 0.7}\n",
    "                ).add_to(lst_map)\n",
    "lst_map"
   ]
  },
  {
   "cell_type": "code",
   "execution_count": null,
   "metadata": {},
   "outputs": [],
   "source": [
    "lst_map.save(path + 'lst.html')"
   ]
  },
  {
   "cell_type": "code",
   "execution_count": null,
   "metadata": {},
   "outputs": [],
   "source": [
    "out_image, transformed = rasterio.mask.mask(src, [subset], all_touched=True, crop=True, filled=False)\n",
    "clip_all = dataarray.rio.clip([subset], crs=4326, all_touched=True)\n",
    "print(out_image.shape)\n",
    "print(clip_all.shape)"
   ]
  },
  {
   "cell_type": "code",
   "execution_count": null,
   "metadata": {},
   "outputs": [],
   "source": [
    "clip_all"
   ]
  },
  {
   "cell_type": "code",
   "execution_count": null,
   "metadata": {},
   "outputs": [],
   "source": [
    "lst_pixel_map = pixels_to_foliumMap(clip_all, subset)\n",
    "lst_pixel_map"
   ]
  },
  {
   "cell_type": "code",
   "execution_count": null,
   "metadata": {},
   "outputs": [],
   "source": [
    "lst_pixel_map.save(config['data']['data'] + '/uhi_model/lst_pixel_map.html')"
   ]
  },
  {
   "cell_type": "code",
   "execution_count": null,
   "metadata": {},
   "outputs": [],
   "source": [
    "def naive_pixel_mean(array, polygon):\n",
    "    c = array.rio.clip([polygon], crs=4326, all_touched=True)\n",
    "    m = c.mean().values\n",
    "    return m"
   ]
  },
  {
   "cell_type": "code",
   "execution_count": null,
   "metadata": {},
   "outputs": [],
   "source": [
    "def naive_pixel_mean_wrapper(row):\n",
    "    # Access the geometry of the current row\n",
    "    polygon = row.geometry\n",
    "    # Call the naive_pixel_mean function\n",
    "    result = naive_pixel_mean(dataarray, polygon)\n",
    "    \n",
    "    return result"
   ]
  },
  {
   "cell_type": "code",
   "execution_count": null,
   "metadata": {},
   "outputs": [],
   "source": [
    "# apply naive pixel mean to every grid element\n",
    "lst_1000 = grid_1000['ID']\n",
    "lst_1000['LST'] = grid_1000.apply(naive_pixel_mean_wrapper, axis=1)\n",
    "lst_1000.head(10)"
   ]
  },
  {
   "cell_type": "code",
   "execution_count": null,
   "metadata": {},
   "outputs": [],
   "source": [
    "temperature_data = clip_all[0].values\n",
    "\n",
    "fig, ax = plt.subplots()\n",
    "im = ax.imshow(temperature_data, cmap='spring', aspect='equal')\n",
    "\n",
    "cbar = plt.colorbar(im, ax=ax)\n",
    "cbar.set_label('Temperature')\n",
    "\n",
    "ax.set_title('Temperature Map')\n",
    "ax.set_xlabel('X-axis')\n",
    "ax.set_ylabel('Y-axis')\n",
    "\n",
    "plt.show()"
   ]
  },
  {
   "cell_type": "code",
   "execution_count": null,
   "metadata": {},
   "outputs": [],
   "source": [
    "array = clip_all\n",
    "data = np.array(array)[0]\n",
    "\n",
    "color_range = np.linspace(0, 1, 256)\n",
    "colors_jet_rgba = plt.cm.jet(color_range)\n",
    "\n",
    "colors_jet_hex = [mcolors.rgb2hex(color) for color in colors_jet_rgba]\n",
    "\n",
    "cmap = plt.colormaps['jet']\n",
    "norm = colors.Normalize(vmin=data.min(), vmax=data.max())\n",
    "colored_data = cmap(norm(data))\n",
    "\n",
    "image_bounds = box(*array.rio.bounds())\n",
    "min_x, min_y, max_x, max_y = array.rio.bounds()\n",
    "corner_coordinates = [[min_y, min_x], [max_y, max_x]]"
   ]
  },
  {
   "cell_type": "code",
   "execution_count": null,
   "metadata": {},
   "outputs": [],
   "source": [
    "print(clip_all[0].shape)\n",
    "clip_inner = dataarray.rio.clip([subset],all_touched=False)\n",
    "print(clip_inner[0].shape)"
   ]
  },
  {
   "cell_type": "code",
   "execution_count": null,
   "metadata": {},
   "outputs": [],
   "source": [
    "def rec_polygon_coords(polygon):\n",
    "    points = list(polygon.exterior.coords)\n",
    "    x_coordinates, y_coordinates = zip(*points)\n",
    "    return min(x_coordinates), min(y_coordinates), max(x_coordinates), max(y_coordinates)"
   ]
  },
  {
   "cell_type": "code",
   "execution_count": null,
   "metadata": {},
   "outputs": [],
   "source": [
    "minx, miny, maxx, maxy = clip_all.rio.bounds()\n",
    "p_minx, p_miny, p_maxx, p_maxy = rec_polygon_coords(subset)\n",
    "print(p_minx,p_maxx,p_miny,p_maxy)\n",
    "print(minx,maxx,miny,maxy)"
   ]
  },
  {
   "cell_type": "code",
   "execution_count": null,
   "metadata": {},
   "outputs": [],
   "source": [
    "# nach unten\n",
    "print(haversine(p_minx, p_miny, p_minx, miny)*1000)\n",
    "# nach rechts\n",
    "print(haversine(p_maxx, p_miny, maxx, p_miny)*1000)\n",
    "# nach oben\n",
    "print(haversine(p_maxx, p_maxy, p_maxx, maxy)*1000)\n",
    "# nach links\n",
    "print(haversine(p_minx, p_maxy, minx, p_maxy)*1000)"
   ]
  },
  {
   "cell_type": "code",
   "execution_count": null,
   "metadata": {},
   "outputs": [],
   "source": [
    "def weighted_pixel_mean(array, polygon, a=70):\n",
    "    c = array.rio.clip([polygon], crs=4326, all_touched=True)\n",
    "    minx, miny, maxx, maxy = c.rio.bounds()\n",
    "    p_minx, p_miny, p_maxx, p_maxy = rec_polygon_coords(polygon)\n",
    "\n",
    "    bottom = haversine(p_minx, p_miny, p_minx, miny)*1000\n",
    "    right = haversine(p_maxx, p_miny, maxx, p_miny)*1000\n",
    "    top = haversine(p_maxx, p_maxy, p_maxx, maxy)*1000\n",
    "    left = haversine(p_minx, p_maxy, minx, p_maxy)*1000\n",
    "\n",
    "    weights = np.ones_like(c[0].values)\n",
    "\n",
    "    weights[0,:] = left/a\n",
    "    weights[c.shape[0]-1,:] = right/a\n",
    "    weights[:,0] = top/a\n",
    "    weights[:,c.shape[1]-1] = bottom/a\n",
    "\n",
    "    weights[weights > 1] = 1\n",
    "\n",
    "    m = np.average(c[0].values,axis=None,weights=weights)\n",
    "\n",
    "    return weights, m"
   ]
  },
  {
   "cell_type": "code",
   "execution_count": null,
   "metadata": {},
   "outputs": [],
   "source": [
    "def weighted_pixel_mean_wrapper(row):\n",
    "    # Access the geometry of the current row\n",
    "    polygon = row.geometry\n",
    "    # Call the weighted_pixel_mean function\n",
    "    _, result = weighted_pixel_mean(dataarray, polygon)\n",
    "    \n",
    "    return result"
   ]
  },
  {
   "cell_type": "code",
   "execution_count": null,
   "metadata": {},
   "outputs": [],
   "source": [
    "lst_1000['LST_weighted'] = grid_1000.apply(weighted_pixel_mean_wrapper, axis=1)"
   ]
  }
 ],
 "metadata": {
  "interpreter": {
   "hash": "31e0d8b7548c35cddbff061e0be1eda61b251161626f7fdb4db5aea046cf03e4"
  },
  "kernelspec": {
   "display_name": "Python 3.10.11 ('DS_Project': conda)",
   "language": "python",
   "name": "python3"
  },
  "language_info": {
   "codemirror_mode": {
    "name": "ipython",
    "version": 3
   },
   "file_extension": ".py",
   "mimetype": "text/x-python",
   "name": "python",
   "nbconvert_exporter": "python",
   "pygments_lexer": "ipython3",
   "version": "3.10.11"
  },
  "orig_nbformat": 4
 },
 "nbformat": 4,
 "nbformat_minor": 2
}
