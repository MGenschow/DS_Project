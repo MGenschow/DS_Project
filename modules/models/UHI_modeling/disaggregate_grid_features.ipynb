{
 "cells": [
  {
   "attachments": {},
   "cell_type": "markdown",
   "metadata": {},
   "source": [
    "# Data preparation for UHI modeling"
   ]
  },
  {
   "attachments": {},
   "cell_type": "markdown",
   "metadata": {},
   "source": [
    "## Set-up"
   ]
  },
  {
   "cell_type": "code",
   "execution_count": null,
   "metadata": {},
   "outputs": [],
   "source": [
    "# import special packages\n",
    "import os\n",
    "import math\n",
    "import folium\n",
    "import rasterio\n",
    "import rioxarray as rxr\n",
    "import numpy as np\n",
    "import pandas as pd\n",
    "import geopandas as gpd\n",
    "import shapely.geometry as sg\n",
    "import matplotlib.pyplot as plt\n",
    "\n",
    "from matplotlib import pyplot\n",
    "from math import radians, cos, sin, asin, sqrt\n",
    "from folium.plugins import MeasureControl\n",
    "from IPython.display import display\n",
    "from shapely.geometry import Polygon\n",
    "from shapely.geometry import box\n",
    "from pyproj import CRS, Transformer"
   ]
  },
  {
   "cell_type": "code",
   "execution_count": null,
   "metadata": {},
   "outputs": [],
   "source": [
    "import warnings\n",
    "warnings.filterwarnings(\"ignore\")"
   ]
  },
  {
   "cell_type": "code",
   "execution_count": null,
   "metadata": {},
   "outputs": [],
   "source": [
    "home_directory = os.path.expanduser( '~' )\n",
    "os.chdir(home_directory + '/DS_Project/modules')\n",
    "\n",
    "import pickle\n",
    "import yaml\n",
    "config_path = 'config.yml'\n",
    "with open(config_path, 'r') as f:\n",
    "    config = yaml.load(f, Loader=yaml.FullLoader)\n",
    "path = config['data']['data'] + '/uhi_model/'\n",
    "path_raw = path + 'raw/'\n",
    "path_visual = path + 'visual/'\n",
    "path_grid = path + 'grid/'\n",
    "path_model = path + 'model/'"
   ]
  },
  {
   "cell_type": "code",
   "execution_count": null,
   "metadata": {},
   "outputs": [],
   "source": [
    "from data_retrieval.Ecostress.utils import *\n",
    "from models.UHI_modeling.disaggregate import *"
   ]
  },
  {
   "attachments": {},
   "cell_type": "markdown",
   "metadata": {},
   "source": [
    "## Exemplary grid and feature extraction"
   ]
  },
  {
   "cell_type": "markdown",
   "metadata": {},
   "source": [
    "### Surface fractions"
   ]
  },
  {
   "cell_type": "code",
   "execution_count": null,
   "metadata": {},
   "outputs": [],
   "source": [
    "grid_size_meters = 1000\n",
    "coordinates = [11.547582, 48.114226, 11.627263, 48.155554]\n",
    "polygon_gdf = create_polygon_from_coord(coordinates=coordinates)\n",
    "grid = divide_polygon_into_grid(polygon_gdf.geometry[0], grid_size_meters)"
   ]
  },
  {
   "cell_type": "code",
   "execution_count": null,
   "metadata": {},
   "outputs": [],
   "source": [
    "with open(path + 'raw/input.pkl', 'rb') as file:\n",
    "    inp = pickle.load(file)\n",
    "inp.to_crs(crs='EPSG:4326', inplace=True)\n",
    "bbox = box(*coordinates)\n",
    "inp = inp[inp.geometry.intersects(bbox)]"
   ]
  },
  {
   "cell_type": "code",
   "execution_count": null,
   "metadata": {},
   "outputs": [],
   "source": [
    "surface_labels = inp.label.unique().tolist()\n",
    "result = calculate_surface_coverage_super_fast(grid, inp, surface_labels)\n",
    "surface_df = convert_dict_to_cols(result)\n",
    "surface_df.head()"
   ]
  },
  {
   "cell_type": "markdown",
   "metadata": {},
   "source": [
    "### Average building size"
   ]
  },
  {
   "cell_type": "code",
   "execution_count": null,
   "metadata": {},
   "outputs": [],
   "source": [
    "with open(config['data']['city_3d_model'] + '/processed/processed_roofs.pkl', 'rb') as file:\n",
    "    wind = pickle.load(file)\n",
    "wind = wind[wind.geometry_4326.intersects(bbox)]"
   ]
  },
  {
   "cell_type": "code",
   "execution_count": null,
   "metadata": {},
   "outputs": [],
   "source": [
    "height = calculate_average_height_super_fast(grid, wind)\n",
    "final = gpd.GeoDataFrame(pd.merge(surface_df, height, on='id', how='inner'))\n",
    "final.head(5)"
   ]
  },
  {
   "cell_type": "code",
   "execution_count": null,
   "metadata": {},
   "outputs": [],
   "source": [
    "example_index = 5\n",
    "example_id = grid.iloc[example_index, grid.shape[1]-1]\n",
    "subset = grid.iloc[example_index,:].geometry\n",
    "example = inp[inp.geometry.intersects(subset)]\n",
    "final[final.id == example_id][['impervious','building','low vegetation','water','trees','road','avg_height']]"
   ]
  },
  {
   "cell_type": "markdown",
   "metadata": {},
   "source": [
    "### Join features to grid data"
   ]
  },
  {
   "cell_type": "code",
   "execution_count": null,
   "metadata": {},
   "outputs": [],
   "source": [
    "final = gpd.GeoDataFrame(pd.merge(grid, final, on='id', how='inner'))"
   ]
  },
  {
   "cell_type": "code",
   "execution_count": null,
   "metadata": {},
   "outputs": [],
   "source": [
    "styles = {\n",
    "    'ignore':{\"fillColor\": \"#000000\", 'color':'#000000', 'weight':0, 'fillOpacity':0.5}, \n",
    "    'impervious':{\"fillColor\": \"#ffffff\", 'color':'#ffffff', 'weight':0, 'fillOpacity':0.5}, \n",
    "    'building':{\"fillColor\": \"#ff00ff\", 'color':'#ff00ff', 'weight':0, 'fillOpacity':0.5}, \n",
    "    'low vegetation':{\"fillColor\": \"#00ff00\", '#00ff00':'pink', 'weight':0, 'fillOpacity':0.5}, \n",
    "    'water':{\"fillColor\": \"#0000ff\", 'color':'#0000ff', 'weight':0, 'fillOpacity':0.5}, \n",
    "    'trees':{\"fillColor\": \"#008200\", 'color':'#008200', 'weight':0, 'fillOpacity':0.5}, \n",
    "    'road':{\"fillColor\": \"#ff0000\", 'color':'#ff0000', 'weight':0, 'fillOpacity':0.5}, \n",
    "    'train':{\"fillColor\": \"#505050\", 'color':'#505050', 'weight':0, 'fillOpacity':0.5}, \n",
    "}\n",
    "feature_example_map = folium.Map(location = [example.iloc[0,:].geometry.centroid.y, example.iloc[0,:].geometry.centroid.x], zoom_start = 14)\n",
    "\n",
    "tile = folium.TileLayer(\n",
    "        tiles = 'https://server.arcgisonline.com/ArcGIS/rest/services/World_Imagery/MapServer/tile/{z}/{y}/{x}',\n",
    "        attr = 'Esri', name = 'Esri Satellite', overlay = False, control = True).add_to(feature_example_map)\n",
    "\n",
    "folium.GeoJson(subset.__geo_interface__, \n",
    "                style_function=lambda x: {'fillColor': 'grey', 'fillOpacity': 0.2, 'color': 'black', 'colorOpacity': 0.7},\n",
    "                name = \"Grid element\"\n",
    "                ).add_to(feature_example_map)\n",
    "for label in surface_labels:\n",
    "    folium.GeoJson(example[(example.label == label)].geometry, style_function=lambda x, label=label: styles[label], name=label).add_to(feature_example_map)\n",
    "folium.LayerControl().add_to(feature_example_map)\n",
    "feature_example_map"
   ]
  },
  {
   "cell_type": "code",
   "execution_count": null,
   "metadata": {},
   "outputs": [],
   "source": [
    "feature_example_map.save(path_visual + 'feature_example.html')"
   ]
  },
  {
   "cell_type": "markdown",
   "metadata": {},
   "source": [
    "## Visualise final results"
   ]
  },
  {
   "cell_type": "code",
   "execution_count": null,
   "metadata": {},
   "outputs": [],
   "source": [
    "grid_size_meters = 250\n",
    "with open(path + 'final_' + str(grid_size_meters) + '_d.pkl', 'rb') as file:\n",
    "    final = pickle.load(file)\n",
    "final.head()"
   ]
  },
  {
   "cell_type": "code",
   "execution_count": null,
   "metadata": {},
   "outputs": [],
   "source": [
    "cols = ['impervious','building','low vegetation','water','trees','road','avg_height','nLST','wLST']\n",
    "center = [(coordinates[1] + coordinates[3]) / 2, (coordinates[0] + coordinates[2]) / 2]\n",
    "grid_map = folium.Map(location=center, zoom_start=13, control = True)\n",
    "\n",
    "for idx, grids in final.iterrows():\n",
    "        values = [f\"{column}: {np.round(grids[column], 2)}\" for column in cols]\n",
    "        tooltip_text = \"<br>\".join(values)\n",
    "        folium.GeoJson(\n",
    "                grids.geometry,\n",
    "                style_function = lambda x: {'fillColor': 'transparent', 'color': 'black', 'colorOpacity': 0.7},\n",
    "                popup=folium.Popup(tooltip_text, max_width=300),\n",
    "                name = grids['id'],\n",
    "                control = False).add_to(grid_map)\n",
    "\n",
    "tile = folium.TileLayer(\n",
    "        tiles = 'https://server.arcgisonline.com/ArcGIS/rest/services/World_Imagery/MapServer/tile/{z}/{y}/{x}',\n",
    "        attr = 'Esri', name = 'Esri Satellite', overlay = False, control = True).add_to(grid_map)\n",
    "\n",
    "folium.LayerControl().add_to(grid_map)\n",
    "\n",
    "grid_map"
   ]
  },
  {
   "cell_type": "code",
   "execution_count": null,
   "metadata": {},
   "outputs": [],
   "source": [
    "grid_map.save(path_visual + 'grid_' + str(grid_size_meters) + '_d.html')"
   ]
  }
 ],
 "metadata": {
  "interpreter": {
   "hash": "31e0d8b7548c35cddbff061e0be1eda61b251161626f7fdb4db5aea046cf03e4"
  },
  "kernelspec": {
   "display_name": "Python 3.10.11 ('DS_Project': conda)",
   "language": "python",
   "name": "python3"
  },
  "language_info": {
   "codemirror_mode": {
    "name": "ipython",
    "version": 3
   },
   "file_extension": ".py",
   "mimetype": "text/x-python",
   "name": "python",
   "nbconvert_exporter": "python",
   "pygments_lexer": "ipython3",
   "version": "3.9.16"
  },
  "orig_nbformat": 4
 },
 "nbformat": 4,
 "nbformat_minor": 2
}
