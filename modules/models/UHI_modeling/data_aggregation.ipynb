{
 "cells": [
  {
   "attachments": {},
   "cell_type": "markdown",
   "metadata": {},
   "source": [
    "# Data preparation for UHI modeling"
   ]
  },
  {
   "cell_type": "code",
   "execution_count": 87,
   "metadata": {},
   "outputs": [],
   "source": [
    "# start-up\n",
    "import pickle\n",
    "import yaml\n",
    "config_path = '/home/tu/tu_tu/tu_zxmny46/DS_Project/modules/config.yml'\n",
    "\n",
    "with open(config_path, 'r') as f:\n",
    "    config = yaml.load(f, Loader=yaml.FullLoader)"
   ]
  },
  {
   "cell_type": "code",
   "execution_count": 88,
   "metadata": {},
   "outputs": [],
   "source": [
    "# import additional packages\n",
    "import math\n",
    "import folium\n",
    "import numpy as np\n",
    "import geopandas as gpd\n",
    "from IPython.display import display\n",
    "from shapely.geometry import Polygon"
   ]
  },
  {
   "cell_type": "code",
   "execution_count": 89,
   "metadata": {},
   "outputs": [],
   "source": [
    "def convert_lon_lat(point):\n",
    "    return [point[1], point[0]]\n",
    "\n",
    "def convert_lon_lat_bbox(bbox):\n",
    "    converted_bbox = [convert_lon_lat(bbox[:2])]\n",
    "    converted_bbox.append(convert_lon_lat(bbox[2:]))\n",
    "    return [coord for point in converted_bbox for coord in point]"
   ]
  },
  {
   "cell_type": "code",
   "execution_count": 90,
   "metadata": {},
   "outputs": [],
   "source": [
    "def haversine(lat1, lon1, lat2, lon2):\n",
    "    R = 6371  # Radius of the Earth in kilometers\n",
    "\n",
    "    # Convert latitude and longitude to radians\n",
    "    lat1_rad = math.radians(lat1)\n",
    "    lon1_rad = math.radians(lon1)\n",
    "    lat2_rad = math.radians(lat2)\n",
    "    lon2_rad = math.radians(lon2)\n",
    "\n",
    "    # Calculate the differences between the latitudes and longitudes\n",
    "    dlat = lat2_rad - lat1_rad\n",
    "    dlon = lon2_rad - lon1_rad\n",
    "\n",
    "    # Apply the haversine formula\n",
    "    a = math.sin(dlat / 2) ** 2 + math.cos(lat1_rad) * math.cos(lat2_rad) * math.sin(dlon / 2) ** 2\n",
    "    c = 2 * math.atan2(math.sqrt(a), math.sqrt(1 - a))\n",
    "    distance = R * c * 1000  # Convert distance to meters\n",
    "\n",
    "    return distance"
   ]
  },
  {
   "cell_type": "code",
   "execution_count": 91,
   "metadata": {},
   "outputs": [],
   "source": [
    "def adjust_coordinates(coordinates, mult=100):\n",
    "    lat1, lon1, lat2, lon2 = coordinates\n",
    "\n",
    "    # Calculate the distance between the longitude points\n",
    "    lon_distance = haversine(lat1, lon1, lat1, lon2)\n",
    "\n",
    "    # Calculate the distance between the latitude points\n",
    "    lat_distance = haversine(lat1, lon1, lat2, lon1)\n",
    "\n",
    "    # Calculate the adjusted longitude values\n",
    "    lon_adjustment = math.ceil(lon_distance / mult) * mult - lon_distance\n",
    "    new_lon1 = lon1 - lon_adjustment / (111320 * math.cos(math.radians(lat1)))  # Convert meters to degrees\n",
    "    new_lon2 = lon2 + lon_adjustment / (111320 * math.cos(math.radians(lat2)))  # Convert meters to degrees\n",
    "\n",
    "    # Calculate the adjusted latitude values\n",
    "    lat_adjustment = math.ceil(lat_distance / mult) * mult - lat_distance\n",
    "    new_lat1 = lat1 - lat_adjustment / 111320  # Convert meters to degrees\n",
    "    new_lat2 = lat2 + lat_adjustment / 111320  # Convert meters to degrees\n",
    "\n",
    "    return [new_lat1, new_lon1, new_lat2, new_lon2]"
   ]
  },
  {
   "cell_type": "code",
   "execution_count": 92,
   "metadata": {},
   "outputs": [],
   "source": [
    "def divide_into_grid(coordinates, mult):\n",
    "    lat1, lon1, lat2, lon2 = coordinates\n",
    "\n",
    "    # Calculate the number of rows and columns in the grid\n",
    "    lat_distance = haversine(lat1, lon1, lat2, lon1)\n",
    "    lon_distance = haversine(lat1, lon1, lat1, lon2)\n",
    "    num_rows = int(lat_distance / mult)\n",
    "    num_cols = int(lon_distance / mult)\n",
    "\n",
    "    # Calculate the size of each grid cell in degrees\n",
    "    lat_cell_size = (lat2 - lat1) / num_rows\n",
    "    lon_cell_size = (lon2 - lon1) / num_cols\n",
    "\n",
    "    # Initialize the grid to store the individual areas\n",
    "    grid = []\n",
    "\n",
    "    # Iterate over the rows and columns to create the individual areas\n",
    "    for row in range(num_rows):\n",
    "        for col in range(num_cols):\n",
    "            # Calculate the coordinates of the current grid cell\n",
    "            cell_lat1 = lat1 + row * lat_cell_size\n",
    "            cell_lon1 = lon1 + col * lon_cell_size\n",
    "            cell_lat2 = cell_lat1 + lat_cell_size\n",
    "            cell_lon2 = cell_lon1 + lon_cell_size\n",
    "\n",
    "            # Add the coordinates of the current grid cell to the grid\n",
    "            grid.append([cell_lat1, cell_lon1, cell_lat2, cell_lon2])\n",
    "\n",
    "    return grid"
   ]
  },
  {
   "cell_type": "code",
   "execution_count": 93,
   "metadata": {},
   "outputs": [
    {
     "name": "stdout",
     "output_type": "stream",
     "text": [
      "[11.31079, 47.980475, 11.855986, 48.385189]\n",
      "[47.935578696928005, 11.251473590956458, 48.43008530307199, 11.915772596018419]\n"
     ]
    }
   ],
   "source": [
    "coordinates = config['bboxes']['munich']\n",
    "print(coordinates)\n",
    "mult = 5000\n",
    "adjusted_coordinates = adjust_coordinates(coordinates=convert_lon_lat_bbox(coordinates), mult=mult)\n",
    "print(adjusted_coordinates)\n",
    "grid = divide_into_grid(adjusted_coordinates, mult)"
   ]
  },
  {
   "cell_type": "code",
   "execution_count": 94,
   "metadata": {},
   "outputs": [
    {
     "name": "stdout",
     "output_type": "stream",
     "text": [
      "[47.935578696928005, 11.251473590956458, 47.9850293575424, 11.325284591518898]\n"
     ]
    }
   ],
   "source": [
    "print(grid[0])"
   ]
  },
  {
   "cell_type": "code",
   "execution_count": 95,
   "metadata": {},
   "outputs": [],
   "source": [
    "def visualize_grid(coordinates, grid):\n",
    "    # Calculate the center of the bounding box\n",
    "    lat_center = (coordinates[0] + coordinates[2]) / 2\n",
    "    lon_center = (coordinates[1] + coordinates[3]) / 2\n",
    "\n",
    "\n",
    "    # Create a Folium map centered at the bounding box center\n",
    "    map_center = [lat_center, lon_center]\n",
    "    m = folium.Map(location=map_center, zoom_start=12)\n",
    "\n",
    "    # Add the grid cells as rectangles to the map\n",
    "    for cell in grid:\n",
    "        folium.Rectangle(bounds=[[cell[0], cell[1]], [cell[2], cell[3]]],\n",
    "                         color='black',\n",
    "                         fill=False,\n",
    "                         opacity=0.1).add_to(m)\n",
    "    \n",
    "    # Add the bounding box as a rectangle to the map\n",
    "    folium.Rectangle(bounds=[[coordinates[0], coordinates[1]], [coordinates[2], coordinates[3]]],\n",
    "                     color='red',\n",
    "                     fill=False).add_to(m)\n",
    "    \n",
    "    # Display the map in the Jupyter Notebook\n",
    "    display(m)"
   ]
  },
  {
   "cell_type": "code",
   "execution_count": null,
   "metadata": {},
   "outputs": [],
   "source": [
    "visualize_grid(adjusted_coordinates, grid)"
   ]
  },
  {
   "cell_type": "code",
   "execution_count": 97,
   "metadata": {},
   "outputs": [],
   "source": [
    "def aggregate_temperature_data(data, grid):\n",
    "    # Create an empty array to store the aggregated temperature values\n",
    "    aggregated_data = np.zeros(len(grid))\n",
    "\n",
    "    # Iterate over each grid cell\n",
    "    for i, cell in enumerate(grid):\n",
    "        # Extract the coordinates of the grid cell\n",
    "        lon1, lat1, lon2, lat2 = cell\n",
    "\n",
    "        # Create a Polygon object for the grid cell\n",
    "        cell_polygon = Polygon([(lon1, lat1), (lon2, lat1), (lon2, lat2), (lon1, lat2)])\n",
    "\n",
    "        # Calculate the area of the grid cell\n",
    "        cell_area = cell_polygon.area\n",
    "\n",
    "        # Get the corresponding land surface temperature data within the grid cell\n",
    "        cell_data = data.cx[lon1:lon2, lat1:lat2]\n",
    "\n",
    "        # Calculate the weighted mean temperature for the grid cell\n",
    "        weighted_mean = np.average(cell_data, weights=cell_area)\n",
    "\n",
    "        # Store the aggregated temperature value for the grid cell\n",
    "        aggregated_data[i] = weighted_mean\n",
    "\n",
    "    return aggregated_data"
   ]
  },
  {
   "cell_type": "code",
   "execution_count": 98,
   "metadata": {},
   "outputs": [],
   "source": [
    "# aggregated_data = aggregate_temperature_data(data, grid)"
   ]
  },
  {
   "cell_type": "code",
   "execution_count": 99,
   "metadata": {},
   "outputs": [],
   "source": [
    "# data = {'X': X, 'Y': Y}\n",
    "# with open(config['data'] + '/uhi_model/uhi_data.pkl', 'wb') as file:\n",
    "#     pickle.dump(aggregated_data, file)"
   ]
  }
 ],
 "metadata": {
  "interpreter": {
   "hash": "31e0d8b7548c35cddbff061e0be1eda61b251161626f7fdb4db5aea046cf03e4"
  },
  "kernelspec": {
   "display_name": "Python 3.10.11 ('DS_Project': conda)",
   "language": "python",
   "name": "python3"
  },
  "language_info": {
   "codemirror_mode": {
    "name": "ipython",
    "version": 3
   },
   "file_extension": ".py",
   "mimetype": "text/x-python",
   "name": "python",
   "nbconvert_exporter": "python",
   "pygments_lexer": "ipython3",
   "version": "3.10.11"
  },
  "orig_nbformat": 4
 },
 "nbformat": 4,
 "nbformat_minor": 2
}
