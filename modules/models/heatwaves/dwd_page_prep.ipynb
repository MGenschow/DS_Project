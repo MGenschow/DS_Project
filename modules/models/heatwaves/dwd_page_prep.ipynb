{
 "cells": [
  {
   "cell_type": "markdown",
   "metadata": {},
   "source": [
    "# Estimation of recurrence probabilities"
   ]
  },
  {
   "cell_type": "markdown",
   "metadata": {},
   "source": [
    "### Preparation"
   ]
  },
  {
   "cell_type": "code",
   "execution_count": 1,
   "metadata": {},
   "outputs": [],
   "source": [
    "import numpy as np\n",
    "import pandas as pd\n",
    "import matplotlib.pyplot as plt\n",
    "import matplotlib.dates as mdates\n",
    "import os\n",
    "home_directory = os.path.expanduser( '~' )\n",
    "os.chdir(home_directory + '/DS_Project/modules')\n",
    "import warnings\n",
    "warnings.filterwarnings(\"ignore\")\n",
    "import pickle\n",
    "import yaml\n",
    "config_path = 'config.yml'\n",
    "with open(config_path, 'r') as f:\n",
    "    config = yaml.load(f, Loader=yaml.FullLoader)\n",
    "path = config['data']['data'] + '/DWD/'\n",
    "path_app = path + 'app/'"
   ]
  },
  {
   "cell_type": "code",
   "execution_count": 2,
   "metadata": {},
   "outputs": [],
   "source": [
    "from data_retrieval.DWD.DWDScraper import *\n",
    "from models.heatwaves.HeatwaveM import *"
   ]
  },
  {
   "cell_type": "markdown",
   "metadata": {},
   "source": [
    "### Data import"
   ]
  },
  {
   "cell_type": "code",
   "execution_count": 3,
   "metadata": {},
   "outputs": [
    {
     "name": "stdout",
     "output_type": "stream",
     "text": [
      "[1262, 3379, 7431]\n"
     ]
    }
   ],
   "source": [
    "# get scraper\n",
    "S = DWDScraper()\n",
    "# modify bounding box to grid\n",
    "S.bounding_boxes = config['bboxes']['munich']\n",
    "# get all stations\n",
    "all_stations_csv = \"all-stations.csv\"\n",
    "S.get_all_stations(all_stations_csv, \"2014-01-01\",\"2022-12-31\")\n",
    "s = pd.read_csv(config['data']['dwd'] + '/meta/' + all_stations_csv)\n",
    "munich_ids = S.get_relevant_station_ids(s)\n",
    "print(munich_ids)"
   ]
  },
  {
   "cell_type": "code",
   "execution_count": 4,
   "metadata": {},
   "outputs": [
    {
     "data": {
      "text/html": [
       "<div>\n",
       "<style scoped>\n",
       "    .dataframe tbody tr th:only-of-type {\n",
       "        vertical-align: middle;\n",
       "    }\n",
       "\n",
       "    .dataframe tbody tr th {\n",
       "        vertical-align: top;\n",
       "    }\n",
       "\n",
       "    .dataframe thead th {\n",
       "        text-align: right;\n",
       "    }\n",
       "</style>\n",
       "<table border=\"1\" class=\"dataframe\">\n",
       "  <thead>\n",
       "    <tr style=\"text-align: right;\">\n",
       "      <th></th>\n",
       "      <th>STATIONS_ID</th>\n",
       "      <th>VON_DATUM</th>\n",
       "      <th>BIS_DATUM</th>\n",
       "      <th>STATIONSHOEHE</th>\n",
       "      <th>GEOBREITE</th>\n",
       "      <th>GEOLAENGE</th>\n",
       "      <th>STATIONSNAME</th>\n",
       "      <th>BUNDESLAND</th>\n",
       "    </tr>\n",
       "  </thead>\n",
       "  <tbody>\n",
       "    <tr>\n",
       "      <th>88</th>\n",
       "      <td>1262</td>\n",
       "      <td>1992-05-17</td>\n",
       "      <td>2023-07-08</td>\n",
       "      <td>446</td>\n",
       "      <td>48.3477</td>\n",
       "      <td>11.8134</td>\n",
       "      <td>München-Flughafen</td>\n",
       "      <td>Bayern</td>\n",
       "    </tr>\n",
       "    <tr>\n",
       "      <th>243</th>\n",
       "      <td>3379</td>\n",
       "      <td>1997-07-01</td>\n",
       "      <td>2023-07-08</td>\n",
       "      <td>515</td>\n",
       "      <td>48.1632</td>\n",
       "      <td>11.5429</td>\n",
       "      <td>München-Stadt</td>\n",
       "      <td>Bayern</td>\n",
       "    </tr>\n",
       "    <tr>\n",
       "      <th>473</th>\n",
       "      <td>7431</td>\n",
       "      <td>2007-11-01</td>\n",
       "      <td>2023-07-08</td>\n",
       "      <td>604</td>\n",
       "      <td>48.0130</td>\n",
       "      <td>11.5524</td>\n",
       "      <td>Oberhaching-Laufzorn</td>\n",
       "      <td>Bayern</td>\n",
       "    </tr>\n",
       "  </tbody>\n",
       "</table>\n",
       "</div>"
      ],
      "text/plain": [
       "     STATIONS_ID   VON_DATUM   BIS_DATUM  STATIONSHOEHE  GEOBREITE  GEOLAENGE  \\\n",
       "88          1262  1992-05-17  2023-07-08            446    48.3477    11.8134   \n",
       "243         3379  1997-07-01  2023-07-08            515    48.1632    11.5429   \n",
       "473         7431  2007-11-01  2023-07-08            604    48.0130    11.5524   \n",
       "\n",
       "             STATIONSNAME BUNDESLAND  \n",
       "88      München-Flughafen     Bayern  \n",
       "243         München-Stadt     Bayern  \n",
       "473  Oberhaching-Laufzorn     Bayern  "
      ]
     },
     "execution_count": 4,
     "metadata": {},
     "output_type": "execute_result"
    }
   ],
   "source": [
    "station_meta = s[s.STATIONS_ID.isin(munich_ids)]\n",
    "station_meta"
   ]
  },
  {
   "cell_type": "code",
   "execution_count": 5,
   "metadata": {},
   "outputs": [],
   "source": [
    "# save meta to pickle\n",
    "with open(path_app + 'station_meta.pkl', 'wb') as file:\n",
    "    pickle.dump(station_meta, file)"
   ]
  },
  {
   "cell_type": "code",
   "execution_count": 6,
   "metadata": {},
   "outputs": [],
   "source": [
    "# scrape data\n",
    "munich_csv = \"munich-all.csv\"\n",
    "S.scrape(munich_csv, \"2014-01-01\",\"2023-06-30\", munich_ids)\n",
    "munich_dwd = pd.read_csv(path + munich_csv)\n",
    "munich_dwd['MESS_DATUM'] = pd.to_datetime(munich_dwd['MESS_DATUM'], format='%Y-%m-%d %H')"
   ]
  },
  {
   "cell_type": "code",
   "execution_count": 7,
   "metadata": {},
   "outputs": [
    {
     "data": {
      "text/html": [
       "<div>\n",
       "<style scoped>\n",
       "    .dataframe tbody tr th:only-of-type {\n",
       "        vertical-align: middle;\n",
       "    }\n",
       "\n",
       "    .dataframe tbody tr th {\n",
       "        vertical-align: top;\n",
       "    }\n",
       "\n",
       "    .dataframe thead th {\n",
       "        text-align: right;\n",
       "    }\n",
       "</style>\n",
       "<table border=\"1\" class=\"dataframe\">\n",
       "  <thead>\n",
       "    <tr style=\"text-align: right;\">\n",
       "      <th></th>\n",
       "      <th>STATIONS_ID</th>\n",
       "      <th>MESS_DATUM</th>\n",
       "      <th>TT_TU</th>\n",
       "      <th>RF_TU</th>\n",
       "    </tr>\n",
       "  </thead>\n",
       "  <tbody>\n",
       "    <tr>\n",
       "      <th>83209</th>\n",
       "      <td>3379.0</td>\n",
       "      <td>2014-01-01 00:00:00</td>\n",
       "      <td>-4.1</td>\n",
       "      <td>96.0</td>\n",
       "    </tr>\n",
       "    <tr>\n",
       "      <th>83210</th>\n",
       "      <td>3379.0</td>\n",
       "      <td>2014-01-01 01:00:00</td>\n",
       "      <td>-4.9</td>\n",
       "      <td>96.0</td>\n",
       "    </tr>\n",
       "    <tr>\n",
       "      <th>83211</th>\n",
       "      <td>3379.0</td>\n",
       "      <td>2014-01-01 02:00:00</td>\n",
       "      <td>-4.9</td>\n",
       "      <td>95.0</td>\n",
       "    </tr>\n",
       "    <tr>\n",
       "      <th>83212</th>\n",
       "      <td>3379.0</td>\n",
       "      <td>2014-01-01 03:00:00</td>\n",
       "      <td>-4.8</td>\n",
       "      <td>97.0</td>\n",
       "    </tr>\n",
       "    <tr>\n",
       "      <th>83213</th>\n",
       "      <td>3379.0</td>\n",
       "      <td>2014-01-01 04:00:00</td>\n",
       "      <td>-5.1</td>\n",
       "      <td>97.0</td>\n",
       "    </tr>\n",
       "  </tbody>\n",
       "</table>\n",
       "</div>"
      ],
      "text/plain": [
       "       STATIONS_ID          MESS_DATUM  TT_TU  RF_TU\n",
       "83209       3379.0 2014-01-01 00:00:00   -4.1   96.0\n",
       "83210       3379.0 2014-01-01 01:00:00   -4.9   96.0\n",
       "83211       3379.0 2014-01-01 02:00:00   -4.9   95.0\n",
       "83212       3379.0 2014-01-01 03:00:00   -4.8   97.0\n",
       "83213       3379.0 2014-01-01 04:00:00   -5.1   97.0"
      ]
     },
     "execution_count": 7,
     "metadata": {},
     "output_type": "execute_result"
    }
   ],
   "source": [
    "h = munich_dwd[munich_dwd.STATIONS_ID == munich_ids[1]]\n",
    "h.head()"
   ]
  },
  {
   "cell_type": "code",
   "execution_count": 8,
   "metadata": {},
   "outputs": [],
   "source": [
    "year_range = np.arange(2014,2023,1).tolist()\n",
    "\n",
    "hourly = pd.DataFrame()\n",
    "daily = pd.DataFrame()\n",
    "\n",
    "for idx, loc in enumerate(munich_ids):\n",
    "\n",
    "    w = HeatwaveM(munich_dwd[munich_dwd.STATIONS_ID == loc])\n",
    "    w.get_heatwaves_ky(station_id=loc,year=year_range,t_max=30,t_min=25)\n",
    "\n",
    "    sub = w.groupby(['STATION_ID', 'DATE'], as_index=False).agg({\n",
    "        'TEMP': ['max', 'min'],\n",
    "        'HEATWAVE': 'max',\n",
    "        'IND': 'max'\n",
    "    }).reset_index(drop=True)\n",
    "    sub.columns = ['STATION_ID', 'DATE', 'MAX_TEMP', 'MIN_TEMP', 'HEATWAVE', 'IND']\n",
    "\n",
    "    hourly = pd.concat([hourly, w[['STATION_ID','TIME','DATE','TEMP','HUMID','HEATWAVE','IND']]])\n",
    "    daily = pd.concat([daily, sub])"
   ]
  },
  {
   "cell_type": "code",
   "execution_count": 9,
   "metadata": {},
   "outputs": [
    {
     "data": {
      "text/html": [
       "<div>\n",
       "<style scoped>\n",
       "    .dataframe tbody tr th:only-of-type {\n",
       "        vertical-align: middle;\n",
       "    }\n",
       "\n",
       "    .dataframe tbody tr th {\n",
       "        vertical-align: top;\n",
       "    }\n",
       "\n",
       "    .dataframe thead th {\n",
       "        text-align: right;\n",
       "    }\n",
       "</style>\n",
       "<table border=\"1\" class=\"dataframe\">\n",
       "  <thead>\n",
       "    <tr style=\"text-align: right;\">\n",
       "      <th></th>\n",
       "      <th>STATION_ID</th>\n",
       "      <th>TIME</th>\n",
       "      <th>DATE</th>\n",
       "      <th>TEMP</th>\n",
       "      <th>HUMID</th>\n",
       "      <th>HEATWAVE</th>\n",
       "      <th>IND</th>\n",
       "    </tr>\n",
       "  </thead>\n",
       "  <tbody>\n",
       "    <tr>\n",
       "      <th>0</th>\n",
       "      <td>1262.0</td>\n",
       "      <td>2014-01-01 00:00:00</td>\n",
       "      <td>2014-01-01</td>\n",
       "      <td>-3.2</td>\n",
       "      <td>100.0</td>\n",
       "      <td>0.0</td>\n",
       "      <td>NaN</td>\n",
       "    </tr>\n",
       "    <tr>\n",
       "      <th>1</th>\n",
       "      <td>1262.0</td>\n",
       "      <td>2014-01-01 01:00:00</td>\n",
       "      <td>2014-01-01</td>\n",
       "      <td>-3.1</td>\n",
       "      <td>100.0</td>\n",
       "      <td>0.0</td>\n",
       "      <td>NaN</td>\n",
       "    </tr>\n",
       "    <tr>\n",
       "      <th>2</th>\n",
       "      <td>1262.0</td>\n",
       "      <td>2014-01-01 02:00:00</td>\n",
       "      <td>2014-01-01</td>\n",
       "      <td>-3.4</td>\n",
       "      <td>100.0</td>\n",
       "      <td>0.0</td>\n",
       "      <td>NaN</td>\n",
       "    </tr>\n",
       "    <tr>\n",
       "      <th>3</th>\n",
       "      <td>1262.0</td>\n",
       "      <td>2014-01-01 03:00:00</td>\n",
       "      <td>2014-01-01</td>\n",
       "      <td>-3.6</td>\n",
       "      <td>100.0</td>\n",
       "      <td>0.0</td>\n",
       "      <td>NaN</td>\n",
       "    </tr>\n",
       "    <tr>\n",
       "      <th>4</th>\n",
       "      <td>1262.0</td>\n",
       "      <td>2014-01-01 04:00:00</td>\n",
       "      <td>2014-01-01</td>\n",
       "      <td>-3.9</td>\n",
       "      <td>100.0</td>\n",
       "      <td>0.0</td>\n",
       "      <td>NaN</td>\n",
       "    </tr>\n",
       "  </tbody>\n",
       "</table>\n",
       "</div>"
      ],
      "text/plain": [
       "   STATION_ID                TIME        DATE  TEMP  HUMID  HEATWAVE  IND\n",
       "0      1262.0 2014-01-01 00:00:00  2014-01-01  -3.2  100.0       0.0  NaN\n",
       "1      1262.0 2014-01-01 01:00:00  2014-01-01  -3.1  100.0       0.0  NaN\n",
       "2      1262.0 2014-01-01 02:00:00  2014-01-01  -3.4  100.0       0.0  NaN\n",
       "3      1262.0 2014-01-01 03:00:00  2014-01-01  -3.6  100.0       0.0  NaN\n",
       "4      1262.0 2014-01-01 04:00:00  2014-01-01  -3.9  100.0       0.0  NaN"
      ]
     },
     "execution_count": 9,
     "metadata": {},
     "output_type": "execute_result"
    }
   ],
   "source": [
    "hourly.head()"
   ]
  },
  {
   "cell_type": "code",
   "execution_count": 10,
   "metadata": {},
   "outputs": [
    {
     "data": {
      "text/html": [
       "<div>\n",
       "<style scoped>\n",
       "    .dataframe tbody tr th:only-of-type {\n",
       "        vertical-align: middle;\n",
       "    }\n",
       "\n",
       "    .dataframe tbody tr th {\n",
       "        vertical-align: top;\n",
       "    }\n",
       "\n",
       "    .dataframe thead th {\n",
       "        text-align: right;\n",
       "    }\n",
       "</style>\n",
       "<table border=\"1\" class=\"dataframe\">\n",
       "  <thead>\n",
       "    <tr style=\"text-align: right;\">\n",
       "      <th></th>\n",
       "      <th>STATION_ID</th>\n",
       "      <th>DATE</th>\n",
       "      <th>MAX_TEMP</th>\n",
       "      <th>MIN_TEMP</th>\n",
       "      <th>HEATWAVE</th>\n",
       "      <th>IND</th>\n",
       "    </tr>\n",
       "  </thead>\n",
       "  <tbody>\n",
       "    <tr>\n",
       "      <th>0</th>\n",
       "      <td>1262.0</td>\n",
       "      <td>2014-01-01</td>\n",
       "      <td>1.8</td>\n",
       "      <td>-5.6</td>\n",
       "      <td>0.0</td>\n",
       "      <td>NaN</td>\n",
       "    </tr>\n",
       "    <tr>\n",
       "      <th>1</th>\n",
       "      <td>1262.0</td>\n",
       "      <td>2014-01-02</td>\n",
       "      <td>5.2</td>\n",
       "      <td>-3.6</td>\n",
       "      <td>0.0</td>\n",
       "      <td>NaN</td>\n",
       "    </tr>\n",
       "    <tr>\n",
       "      <th>2</th>\n",
       "      <td>1262.0</td>\n",
       "      <td>2014-01-03</td>\n",
       "      <td>7.2</td>\n",
       "      <td>-3.5</td>\n",
       "      <td>0.0</td>\n",
       "      <td>NaN</td>\n",
       "    </tr>\n",
       "    <tr>\n",
       "      <th>3</th>\n",
       "      <td>1262.0</td>\n",
       "      <td>2014-01-04</td>\n",
       "      <td>5.6</td>\n",
       "      <td>1.1</td>\n",
       "      <td>0.0</td>\n",
       "      <td>NaN</td>\n",
       "    </tr>\n",
       "    <tr>\n",
       "      <th>4</th>\n",
       "      <td>1262.0</td>\n",
       "      <td>2014-01-05</td>\n",
       "      <td>5.6</td>\n",
       "      <td>0.3</td>\n",
       "      <td>0.0</td>\n",
       "      <td>NaN</td>\n",
       "    </tr>\n",
       "  </tbody>\n",
       "</table>\n",
       "</div>"
      ],
      "text/plain": [
       "   STATION_ID        DATE  MAX_TEMP  MIN_TEMP  HEATWAVE  IND\n",
       "0      1262.0  2014-01-01       1.8      -5.6       0.0  NaN\n",
       "1      1262.0  2014-01-02       5.2      -3.6       0.0  NaN\n",
       "2      1262.0  2014-01-03       7.2      -3.5       0.0  NaN\n",
       "3      1262.0  2014-01-04       5.6       1.1       0.0  NaN\n",
       "4      1262.0  2014-01-05       5.6       0.3       0.0  NaN"
      ]
     },
     "execution_count": 10,
     "metadata": {},
     "output_type": "execute_result"
    }
   ],
   "source": [
    "daily.head()"
   ]
  },
  {
   "cell_type": "code",
   "execution_count": 11,
   "metadata": {},
   "outputs": [],
   "source": [
    "with open(path_app + 'daily.pkl', 'wb') as file:\n",
    "    pickle.dump(daily, file)\n",
    "with open(path_app + 'hourly.pkl', 'wb') as file:\n",
    "    pickle.dump(hourly, file)"
   ]
  }
 ],
 "metadata": {
  "interpreter": {
   "hash": "31e0d8b7548c35cddbff061e0be1eda61b251161626f7fdb4db5aea046cf03e4"
  },
  "kernelspec": {
   "display_name": "Python 3.10.11 ('DS_Project': conda)",
   "language": "python",
   "name": "python3"
  },
  "language_info": {
   "codemirror_mode": {
    "name": "ipython",
    "version": 3
   },
   "file_extension": ".py",
   "mimetype": "text/x-python",
   "name": "python",
   "nbconvert_exporter": "python",
   "pygments_lexer": "ipython3",
   "version": "3.10.11"
  },
  "orig_nbformat": 4
 },
 "nbformat": 4,
 "nbformat_minor": 2
}
