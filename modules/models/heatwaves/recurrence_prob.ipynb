{
 "cells": [
  {
   "cell_type": "markdown",
   "metadata": {},
   "source": [
    "# Estimation of recurrence probabilities"
   ]
  },
  {
   "cell_type": "markdown",
   "metadata": {},
   "source": [
    "### Preparation"
   ]
  },
  {
   "cell_type": "code",
   "execution_count": null,
   "metadata": {},
   "outputs": [],
   "source": [
    "import numpy as np\n",
    "import pandas as pd\n",
    "import datetime\n",
    "import statsmodels.api as sm\n",
    "import matplotlib.pyplot as plt\n",
    "import matplotlib.dates as mdates\n",
    "import statsmodels.tsa.stattools as stattools\n",
    "from statsmodels.tsa.arima_process import arma_generate_sample\n",
    "from statsmodels.tsa.arima.model import ARIMA\n",
    "from datetime import timedelta\n",
    "\n",
    "import os\n",
    "home_directory = os.path.expanduser( '~' )\n",
    "os.chdir(home_directory + '/DS_Project/modules')\n",
    "import warnings\n",
    "warnings.filterwarnings(\"ignore\")\n",
    "import pickle\n",
    "import yaml\n",
    "config_path = 'config.yml'\n",
    "with open(config_path, 'r') as f:\n",
    "    config = yaml.load(f, Loader=yaml.FullLoader)"
   ]
  },
  {
   "cell_type": "code",
   "execution_count": null,
   "metadata": {},
   "outputs": [],
   "source": [
    "from data_retrieval.DWD.DWDScraper import *\n",
    "from models.heatwaves.HeatwaveM import *"
   ]
  },
  {
   "cell_type": "markdown",
   "metadata": {},
   "source": [
    "### Data import"
   ]
  },
  {
   "cell_type": "code",
   "execution_count": null,
   "metadata": {},
   "outputs": [],
   "source": [
    "# get identified heatwave dates\n",
    "with open(config['data']['dwd'] + '/heatwaves.pkl', \"rb\") as input_file:\n",
    "    heat = pickle.load(input_file)\n",
    "print(heat)"
   ]
  },
  {
   "cell_type": "code",
   "execution_count": null,
   "metadata": {},
   "outputs": [],
   "source": [
    "sublists = divide_dates_into_sublists(heat)\n",
    "print(sublists)"
   ]
  },
  {
   "cell_type": "code",
   "execution_count": null,
   "metadata": {},
   "outputs": [],
   "source": [
    "# scrape data for Munich city station from 2014 to 2022\n",
    "S = DWDScraper()\n",
    "S.scrape(\"munich-city.csv\", \"2014-01-01\",\"2022-12-31\", [3379])"
   ]
  },
  {
   "cell_type": "code",
   "execution_count": null,
   "metadata": {},
   "outputs": [],
   "source": [
    "# get scraped data\n",
    "munich_city = pd.read_csv(config['data']['dwd']+'/munich-city.csv')\n",
    "munich_city['MESS_DATUM'] = pd.to_datetime(munich_city['MESS_DATUM'], format='%Y-%m-%d %H')\n",
    "munich_city['DATE'] = munich_city['MESS_DATUM'].dt.date"
   ]
  },
  {
   "cell_type": "code",
   "execution_count": null,
   "metadata": {},
   "outputs": [],
   "source": [
    "# get daily maximum temperatures (for June, July, August)\n",
    "years = list(range(2014, 2023))\n",
    "months = [6,7,8]\n",
    "sub_index = (munich_city['MESS_DATUM'].dt.year.isin(years)) & (munich_city['MESS_DATUM'].dt.month.isin(months))\n",
    "tseries = munich_city[sub_index].groupby([munich_city['DATE']]).max()['TT_TU']\n",
    "tseries.index = pd.to_datetime(tseries.index)"
   ]
  },
  {
   "cell_type": "markdown",
   "metadata": {},
   "source": [
    "### Descriptives"
   ]
  },
  {
   "cell_type": "code",
   "execution_count": null,
   "metadata": {},
   "outputs": [],
   "source": [
    "# plot Munich 2022 data including heatwaves marker\n",
    "y2022_index = tseries.index.year.isin([2022])\n",
    "time_series = tseries[y2022_index]\n",
    "plt.style.use('seaborn-whitegrid')\n",
    "fig, ax = plt.subplots()\n",
    "\n",
    "ax.axhline(30, color='darkred', linestyle='--')\n",
    "ax.axhline(25, color='lightcoral', linestyle='--')\n",
    "\n",
    "ax.plot(time_series.index, time_series.values, color='blue')\n",
    "ax.xaxis.set_major_locator(mdates.DayLocator(bymonthday=[1,15]))\n",
    "\n",
    "for sublist in sublists:\n",
    "    alpha = 0.3\n",
    "    \n",
    "    start_date = sublist[0]\n",
    "    end_date = sublist[-1]\n",
    "    \n",
    "    start_idx = time_series.index.get_loc(start_date.strftime(\"%Y-%m-%d\"))\n",
    "    end_idx = time_series.index.get_loc(end_date.strftime(\"%Y-%m-%d\"))\n",
    "\n",
    "    ax.fill_between(time_series.index[start_idx:end_idx+1], 0, time_series.values.max(), facecolor='red', alpha=alpha)\n",
    "\n",
    "ax.set_xlabel('Day')\n",
    "plt.xticks(rotation=45)\n",
    "ax.set_ylabel('Maximum temperature in Celsius')\n",
    "ax.set_title('Munich in Summer 2022')\n",
    "\n",
    "plt.savefig(config['data']['dwd'] + '/summer_munich_2022.png', bbox_inches=\"tight\")\n",
    "\n",
    "plt.show()"
   ]
  },
  {
   "cell_type": "code",
   "execution_count": null,
   "metadata": {},
   "outputs": [],
   "source": [
    "# plot full time series data\n",
    "tseries.reset_index(drop=True).plot(color='orangered')\n",
    "plt.xticks([], [])\n",
    "plt.ylabel('Maximum temperature in Celsius')\n",
    "plt.title('Munich from June to August for 2014-2022')\n",
    "plt.show()"
   ]
  },
  {
   "cell_type": "markdown",
   "metadata": {},
   "source": [
    "### Modeling ARMA(1)"
   ]
  },
  {
   "cell_type": "code",
   "execution_count": null,
   "metadata": {},
   "outputs": [],
   "source": [
    "# dickey fuller test\n",
    "dickeyfuller = stattools.adfuller(\n",
    "    tseries,\n",
    "    autolag=\"AIC\"\n",
    ")\n",
    "\n",
    "print('ADF Statistic: %f' % dickeyfuller[0])\n",
    "\n",
    "print('p-value: %f' % dickeyfuller[1])\n",
    "\n",
    "print('Critical Values:')\n",
    "\n",
    "for key, value in dickeyfuller[4].items():\n",
    "    print('\\t%s: %.3f' % (key, value))\n",
    "if dickeyfuller[0] > dickeyfuller[4][\"5%\"]:\n",
    "    print (\"Reject Ho - Time Series is Stationary\")\n",
    "else:\n",
    "    print (\"Failed to Reject Ho - Time Series is Stationary\")"
   ]
  },
  {
   "cell_type": "code",
   "execution_count": null,
   "metadata": {},
   "outputs": [],
   "source": [
    "arma_mod = ARIMA(tseries.reset_index(drop=True), order=(1,0,1)).fit()\n",
    "print(arma_mod.summary())"
   ]
  },
  {
   "cell_type": "code",
   "execution_count": null,
   "metadata": {},
   "outputs": [],
   "source": [
    "# extract model parameters\n",
    "ar = arma_mod.arparams\n",
    "ma = arma_mod.maparams\n",
    "ar = np.r_[1, -ar]\n",
    "ma = np.r_[1, ma]"
   ]
  },
  {
   "cell_type": "markdown",
   "metadata": {},
   "source": [
    "### Simulating data"
   ]
  },
  {
   "cell_type": "code",
   "execution_count": null,
   "metadata": {},
   "outputs": [],
   "source": [
    "# standardize data\n",
    "m = tseries.mean()\n",
    "sd = tseries.std()\n",
    "standard = (tseries - m) / sd"
   ]
  },
  {
   "cell_type": "code",
   "execution_count": null,
   "metadata": {},
   "outputs": [],
   "source": [
    "# simulate data for one year (specified number of months only)\n",
    "r = 10000\n",
    "n = sum(y2022_index)\n",
    "mat = np.empty([r,n])\n",
    "for i in range(r):\n",
    "    mat[i,:] = arma_generate_sample(ar, ma, nsample=n)"
   ]
  },
  {
   "cell_type": "code",
   "execution_count": null,
   "metadata": {},
   "outputs": [],
   "source": [
    "# compare to real world data\n",
    "result = np.empty([r,n])\n",
    "for i in range(r):\n",
    "    result[i,:] = np.reshape(np.where(standard[y2022_index] > mat[i,:],1,0),[n,])\n",
    "means = result.mean(axis=0)"
   ]
  },
  {
   "cell_type": "markdown",
   "metadata": {},
   "source": [
    "### Compare to identified heatwaves"
   ]
  },
  {
   "cell_type": "code",
   "execution_count": null,
   "metadata": {},
   "outputs": [],
   "source": [
    "fig, ax = plt.subplots()\n",
    "for sublist in sublists:\n",
    "    alpha = 0.6\n",
    "    start_date = sublist[0]\n",
    "    end_date = sublist[-1]\n",
    "    start_idx = time_series.index.get_loc(start_date.strftime(\"%Y-%m-%d\"))\n",
    "    end_idx = time_series.index.get_loc(end_date.strftime(\"%Y-%m-%d\"))\n",
    "    ax.fill_between(time_series.index[start_idx:end_idx+1], 0, 1, facecolor='red', alpha=alpha)\n",
    "ax.bar(time_series.index, pd.Series(means).values, color='royalblue', width=1)\n",
    "ax.xaxis.set_major_locator(mdates.DayLocator(bymonthday=[1,15]))\n",
    "ax.set_xlabel('Date')\n",
    "plt.xticks(rotation=45)\n",
    "ax.set_ylabel('Inverse recurrence probability')\n",
    "ax.set_title('Estimated recurrence probabilities in Munich for Summer 2022')\n",
    "plt.show()"
   ]
  },
  {
   "cell_type": "code",
   "execution_count": null,
   "metadata": {},
   "outputs": [],
   "source": [
    "heat_index = [i in heat for i in pd.to_datetime(tseries[y2022_index].index).to_series().dt.date]\n",
    "recurrence_prob = pd.Series(means[heat_index], index=heat)\n",
    "print(recurrence_prob)"
   ]
  }
 ],
 "metadata": {
  "interpreter": {
   "hash": "31e0d8b7548c35cddbff061e0be1eda61b251161626f7fdb4db5aea046cf03e4"
  },
  "kernelspec": {
   "display_name": "Python 3.10.11 ('DS_Project': conda)",
   "language": "python",
   "name": "python3"
  },
  "language_info": {
   "codemirror_mode": {
    "name": "ipython",
    "version": 3
   },
   "file_extension": ".py",
   "mimetype": "text/x-python",
   "name": "python",
   "nbconvert_exporter": "python",
   "pygments_lexer": "ipython3",
   "version": "3.10.11"
  },
  "orig_nbformat": 4
 },
 "nbformat": 4,
 "nbformat_minor": 2
}
